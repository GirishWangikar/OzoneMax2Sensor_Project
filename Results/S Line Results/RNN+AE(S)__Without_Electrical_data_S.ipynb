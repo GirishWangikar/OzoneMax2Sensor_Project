{
  "cells": [
    {
      "cell_type": "code",
      "execution_count": 7,
      "metadata": {
        "id": "wx_zfTa_h_27"
      },
      "outputs": [],
      "source": [
        "import pandas as pd\n",
        "import numpy as np\n",
        "import os\n",
        "import copy\n",
        "from sklearn.preprocessing import minmax_scale\n",
        "from scipy.stats import zscore\n",
        "import torch\n"
      ]
    },
    {
      "cell_type": "code",
      "execution_count": 14,
      "metadata": {
        "colab": {
          "base_uri": "https://localhost:8080/"
        },
        "id": "jJS3NXKMiKp5",
        "outputId": "efd2cf2c-545d-44a1-de0b-3b11f7d20e5d"
      },
      "outputs": [
        {
          "output_type": "execute_result",
          "data": {
            "text/plain": [
              "(33560, 48)"
            ]
          },
          "metadata": {},
          "execution_count": 14
        }
      ],
      "source": [
        "fpkm_replicates = pd.read_csv(\"FPKM_replicates.csv\")\n",
        "fpkm_replicates.head()\n",
        "fpkm_replicates.shape"
      ]
    },
    {
      "cell_type": "markdown",
      "metadata": {
        "id": "e5mCa3anifDY"
      },
      "source": [
        "#Gene Data Filtering"
      ]
    },
    {
      "cell_type": "code",
      "execution_count": 15,
      "metadata": {
        "id": "vgFj_DM3iTCF"
      },
      "outputs": [],
      "source": [
        "C_group = fpkm_replicates[[\"tracking_id\"]+[col for col in fpkm_replicates.columns if \"C\" in col]]\n",
        "S_group = fpkm_replicates[[\"tracking_id\"]+[col for col in fpkm_replicates.columns if \"S\" in col]]\n",
        "WT_group = fpkm_replicates[[\"tracking_id\"]+[col for col in fpkm_replicates.columns if \"WT\" in col]]\n",
        "\n",
        "\n",
        "def filter_data(df, min_num_of_non_zero=2):\n",
        "    mask = df.apply(lambda x: x[x != 0].count(), axis=1) >= min_num_of_non_zero\n",
        "    anti_mask = df.apply(lambda x: x[x != 0].count(), axis=1) < min_num_of_non_zero\n",
        "    filtered = df[mask]\n",
        "    removed = df[anti_mask]\n",
        "\n",
        "    return filtered, removed\n",
        "\n",
        "filtered_C, removed_C = filter_data(C_group)\n",
        "filtered_S, removed_S = filter_data(S_group)\n",
        "filtered_WT, removed_WT = filter_data(WT_group)"
      ]
    },
    {
      "cell_type": "code",
      "execution_count": 16,
      "metadata": {
        "id": "35vwSgz3iS7V"
      },
      "outputs": [],
      "source": [
        "# Get the union of filtered genes across all plant lines and removed genes\n",
        "\n",
        "# list(set(([1,2,3,4]+[2,3,5]+[4,5,6])))  -> [1, 2, 3, 4, 5, 6]\n",
        "\n",
        "filtered_genes_union = list(set( list(filtered_C[\"tracking_id\"]) + list(filtered_S[\"tracking_id\"]) + list(filtered_WT[\"tracking_id\"])))\n",
        "removed_genes = list( set(C_group[\"tracking_id\"]) - set(filtered_genes_union))\n",
        "\n",
        "pd.DataFrame(filtered_genes_union).to_csv(\"filtered_genes_union.csv\")\n",
        "pd.DataFrame(removed_genes).to_csv(\"removed_genes.csv\")\n",
        "\n",
        "len(filtered_genes_union), len(removed_genes)\n",
        "\n",
        "# Get the dataframes after filtering and union\n",
        "\n",
        "filtered_C, removed_C = C_group[C_group[\"tracking_id\"].isin(filtered_genes_union)], C_group[C_group[\"tracking_id\"].isin(removed_genes)]\n",
        "filtered_S, removed_S = S_group[S_group[\"tracking_id\"].isin(filtered_genes_union)], S_group[S_group[\"tracking_id\"].isin(removed_genes)]\n",
        "filtered_WT, removed_WT = WT_group[WT_group[\"tracking_id\"].isin(filtered_genes_union)], WT_group[WT_group[\"tracking_id\"].isin(removed_genes)]\n",
        "\n",
        "\n",
        "# Combine all filtered Lines\n",
        "filtered_all_lines = pd.DataFrame()\n",
        "filtered_all_lines = pd.concat([filtered_all_lines, filtered_C], axis =1)\n",
        "filtered_all_lines = pd.concat([filtered_all_lines, filtered_S[filtered_S.columns[1:]]], axis =1)\n",
        "filtered_all_lines = pd.concat([filtered_all_lines, filtered_WT[filtered_WT.columns[1:]]], axis =1)\n",
        "\n",
        "filtered_all_lines.to_excel(\"filtered_all_lines.xlsx\", index=False)\n",
        "filtered_all_lines = pd.DataFrame(pd.read_excel(\"filtered_all_lines.xlsx\"))"
      ]
    },
    {
      "cell_type": "code",
      "execution_count": null,
      "metadata": {
        "id": "tzmGpGAPmFRV"
      },
      "outputs": [],
      "source": [
        "filtered_all_lines = pd.DataFrame(pd.read_excel(\"filtered_all_lines.xlsx\"))"
      ]
    },
    {
      "cell_type": "markdown",
      "metadata": {
        "id": "RVMq7R-9m0Zf"
      },
      "source": [
        "#Prepare Data for RNN"
      ]
    },
    {
      "cell_type": "code",
      "execution_count": 17,
      "metadata": {
        "id": "BAMlc2FuiS3r"
      },
      "outputs": [],
      "source": [
        "def get_z_score(df):\n",
        "    # mean = df.mean(axis=None)\n",
        "    mean = df.mean().mean()\n",
        "    print (\"Mean\", mean)\n",
        "    # std = df.std(axis=None)\n",
        "    std = df.stack().std()\n",
        "    return (df- mean)/std\n",
        "\n",
        "def normalize_data(df, exclude_cols=None):\n",
        "    # if cols == None:\n",
        "    #     cols = df.select_dtypes(np.number).columns\n",
        "    all_cols = list(df.columns)\n",
        "    if exclude_cols!=None:\n",
        "        for i in exclude_cols:\n",
        "            all_cols.remove(i)\n",
        "    print (all_cols)\n",
        "\n",
        "    df[all_cols] = get_z_score(df[all_cols])\n",
        "    # df[all_cols] = minmax_scale(df[all_cols])\n",
        "    min_ = df[all_cols].min().min()\n",
        "    max_ = df[all_cols].max().max()\n",
        "\n",
        "    df[all_cols] = (df[all_cols]-min_)/(max_-min_)\n",
        "    return df\n",
        "\n",
        "def normalize_data_axis(df, axis=1):\n",
        "    MIN = df.min(axis)\n",
        "    print (MIN)\n",
        "    MAX = df.max(axis)\n",
        "    # df = df.apply(zscore,axis)\n",
        "    return df.sub(MIN, 1-axis).div(MAX-MIN, 1-axis)\n",
        "\n",
        "\n"
      ]
    },
    {
      "cell_type": "code",
      "execution_count": 18,
      "metadata": {
        "colab": {
          "base_uri": "https://localhost:8080/"
        },
        "id": "sQZC5Nc9iS0R",
        "outputId": "08ee414f-cacd-4952-8d6e-db76ebf768a2"
      },
      "outputs": [
        {
          "output_type": "stream",
          "name": "stdout",
          "text": [
            "0    0.111782\n",
            "dtype: float64\n",
            "0    0.007604\n",
            "dtype: float64\n",
            "0    27.35835\n",
            "dtype: float64\n",
            "0    1.066357\n",
            "dtype: float64\n",
            "['C_0_1', 'C_0_2', 'C_0_3', 'C_0_4', 'C_15_1', 'C_15_2', 'C_15_3', 'C_15_4', 'C_30_1', 'C_30_2', 'C_30_3', 'C_30_4', 'C_60_1', 'C_60_2', 'C_60_3', 'C_60_4', 'S_0_1', 'S_0_2', 'S_0_3', 'S_0_4', 'S_15_1', 'S_15_2', 'S_15_3', 'S_15_4', 'S_30_1', 'S_30_2', 'S_30_3', 'S_30_4', 'S_60_1', 'S_60_2', 'S_60_3', 'S_60_4', 'WT_0_1', 'WT_0_2', 'WT_0_3', 'WT_0_4', 'WT_15_1', 'WT_15_2', 'WT_15_3', 'WT_30_1', 'WT_30_2', 'WT_30_3', 'WT_30_4', 'WT_60_1', 'WT_60_2', 'WT_60_3', 'WT_60_4']\n",
            "Mean 32.69667309097266\n"
          ]
        }
      ],
      "source": [
        "lines = [\"C\", \"S\", \"WT\"]\n",
        "# times = [\"0\", \"15\", \"30\", \"60\"]\n",
        "times = [\"0\", \"15\", \"30\"]\n",
        "replicates = [\"1\", \"2\", \"3\", \"4\"]\n",
        "\n",
        "# sample 1 - [over times [{counts, H, RMS, P, ..}]\n",
        "\n",
        "samples = []\n",
        "\n",
        "entire_data = {}\n",
        "\n",
        "# filtered_all_lines = pd.DataFrame(pd.read_excel(\"filtered_all_lines.xlsx\"))\n",
        "\n",
        "all_samples_names = list(filtered_all_lines.columns[1:])\n",
        "\n",
        "avg_freq_df = pd.DataFrame(pd.read_excel(\"AvgFreq.xlsx\"))\n",
        "rms_df = pd.DataFrame(pd.read_excel(\"RMS.xlsx\"))\n",
        "peaks_df = pd.DataFrame(pd.read_excel(\"Peaks.xlsx\"))\n",
        "crest_fac_df = pd.DataFrame(pd.read_excel(\"CrestFactor.xlsx\"))\n",
        "\n",
        "avg_freq_df_normalized = normalize_data_axis(avg_freq_df)\n",
        "rms_df_normalized = normalize_data_axis(rms_df)\n",
        "peaks_df_normalized = normalize_data_axis(peaks_df)\n",
        "crest_fac_df_normalized = normalize_data_axis(crest_fac_df)\n",
        "\n",
        "#write_all_data_path = \"input_data/normalized_data\"\n",
        "\n",
        "filtered_all_lines_normalized = normalize_data(filtered_all_lines, exclude_cols=[\"tracking_id\"])"
      ]
    },
    {
      "cell_type": "code",
      "execution_count": 19,
      "metadata": {
        "id": "ErmAdsjWChdQ"
      },
      "outputs": [],
      "source": [
        "all_gene_names = filtered_all_lines_normalized[\"tracking_id\"]"
      ]
    },
    {
      "cell_type": "code",
      "execution_count": null,
      "metadata": {
        "colab": {
          "base_uri": "https://localhost:8080/"
        },
        "id": "kpUQCD879zvR",
        "outputId": "2246dea8-e1da-44bf-946b-275116545d61"
      },
      "outputs": [
        {
          "name": "stderr",
          "output_type": "stream",
          "text": [
            "100%|██████████| 25706/25706 [25:19<00:00, 16.91it/s]"
          ]
        },
        {
          "name": "stdout",
          "output_type": "stream",
          "text": [
            "torch.Size([25706, 4, 3])\n"
          ]
        },
        {
          "name": "stderr",
          "output_type": "stream",
          "text": [
            "\n"
          ]
        }
      ],
      "source": [
        "from tqdm import tqdm\n",
        "import torch\n",
        "\n",
        "X = []\n",
        "all_gene_names = filtered_all_lines_normalized[\"tracking_id\"]\n",
        "\n",
        "for gene_name in tqdm(all_gene_names):\n",
        "    gene_data = []\n",
        "\n",
        "    for replicate in range(4):\n",
        "        time_data = []\n",
        "\n",
        "        for time in [0, 15, 30]:\n",
        "            time_based_replicate = f\"S_{time}_{replicate+1}\"  # Modify for the S line\n",
        "\n",
        "            gene_count = filtered_all_lines_normalized[filtered_all_lines_normalized[\"tracking_id\"]==gene_name][time_based_replicate].item()\n",
        "\n",
        "            time_data.append(gene_count)\n",
        "\n",
        "        gene_data.append(time_data)\n",
        "\n",
        "    X.append(gene_data)\n",
        "\n",
        "X_torch_S_gene = torch.Tensor(X)\n",
        "print(X_torch_S_gene.shape)\n"
      ]
    },
    {
      "cell_type": "code",
      "execution_count": null,
      "metadata": {
        "id": "NaHuzz6ouLiP"
      },
      "outputs": [],
      "source": [
        "X_torch_S_gene = X_torch_S_gene.reshape([25706, 4, 3,1])"
      ]
    },
    {
      "cell_type": "code",
      "execution_count": null,
      "metadata": {
        "colab": {
          "base_uri": "https://localhost:8080/"
        },
        "id": "A79Hu5Y-ua4h",
        "outputId": "1e8e25c3-d99f-45ce-dcd9-683435ae0fce"
      },
      "outputs": [
        {
          "name": "stdout",
          "output_type": "stream",
          "text": [
            "torch.Size([25706, 4, 3, 1])\n"
          ]
        }
      ],
      "source": [
        "print(X_torch_S_gene.shape)"
      ]
    },
    {
      "cell_type": "code",
      "execution_count": null,
      "metadata": {
        "colab": {
          "base_uri": "https://localhost:8080/"
        },
        "id": "GuIl80BnYySE",
        "outputId": "4c71d051-7b3a-47bb-ba3d-832bf2d880ef"
      },
      "outputs": [
        {
          "name": "stdout",
          "output_type": "stream",
          "text": [
            "torch.Size([25706, 4, 3])\n"
          ]
        }
      ],
      "source": [
        "X_torch_S_gene = torch.Tensor(X_torch_S_gene)\n",
        "# Y_torch = torch.Tensor(Y)\n",
        "print (X_torch_S_gene.shape)"
      ]
    },
    {
      "cell_type": "code",
      "execution_count": null,
      "metadata": {
        "colab": {
          "base_uri": "https://localhost:8080/"
        },
        "id": "GBRzsVUH1ZvH",
        "outputId": "4e416954-4f3f-417f-d977-56cc5d811eda"
      },
      "outputs": [
        {
          "name": "stderr",
          "output_type": "stream",
          "text": [
            "100%|██████████| 25706/25706 [07:59<00:00, 53.60it/s]\n"
          ]
        }
      ],
      "source": [
        "from tqdm import tqdm\n",
        "\n",
        "all_gene_names = filtered_all_lines_normalized[\"tracking_id\"]\n",
        "Y_group_indexes_S = ['S_60_1', 'S_60_2', 'S_60_3', 'S_60_4']\n",
        "Y_S = []\n",
        "\n",
        "for gene_name in tqdm(all_gene_names):\n",
        "    each_sample_S = []\n",
        "    for time_based_replicate_S in Y_group_indexes_S:\n",
        "\n",
        "        gene_count_S = filtered_all_lines_normalized[filtered_all_lines_normalized[\"tracking_id\"]==gene_name][time_based_replicate_S].item()\n",
        "\n",
        "        Y_S.append(gene_count_S)\n"
      ]
    },
    {
      "cell_type": "code",
      "execution_count": null,
      "metadata": {
        "colab": {
          "base_uri": "https://localhost:8080/"
        },
        "id": "4uDK4wiW5tVF",
        "outputId": "6b10b7a3-4ebb-47c3-ac16-f0537c246328"
      },
      "outputs": [
        {
          "name": "stdout",
          "output_type": "stream",
          "text": [
            "torch.Size([102824])\n"
          ]
        }
      ],
      "source": [
        "Y_torch = torch.Tensor(Y)\n",
        "print (Y_torch.shape)"
      ]
    },
    {
      "cell_type": "code",
      "execution_count": null,
      "metadata": {
        "id": "pOMrhfzPiSuB"
      },
      "outputs": [],
      "source": [
        "import torch\n",
        "\n",
        "# X_torch = torch.Tensor(X)\n",
        "# Y_torch = torch.Tensor(Y)\n",
        "# print (X_torch.shape)\n",
        "torch.save(X_torch_S_gene, 'X_S_gene.pt')\n",
        "# torch.save(Y_torch, 'Y.pt')"
      ]
    },
    {
      "cell_type": "code",
      "execution_count": 9,
      "metadata": {
        "colab": {
          "base_uri": "https://localhost:8080/"
        },
        "id": "q3vQwu0qiSrL",
        "outputId": "938179a9-6eef-4827-b117-0856da4066d6"
      },
      "outputs": [
        {
          "output_type": "execute_result",
          "data": {
            "text/plain": [
              "torch.Size([25706, 4, 3, 1])"
            ]
          },
          "metadata": {},
          "execution_count": 9
        }
      ],
      "source": [
        "X_torch_S_gene = torch.load('X_S_gene.pt')\n",
        "Y_torch_S = torch.load('Y_S.pt')\n",
        "Y_torch_S= Y_torch_S.reshape(Y_torch_S.shape[0],1)\n",
        "X_torch_S_gene.shape"
      ]
    },
    {
      "cell_type": "code",
      "execution_count": 23,
      "metadata": {
        "colab": {
          "base_uri": "https://localhost:8080/"
        },
        "id": "Z3dQVoIeCoC3",
        "outputId": "854ba397-bd40-45c0-b301-3271187f7b3e"
      },
      "outputs": [
        {
          "output_type": "stream",
          "name": "stderr",
          "text": [
            "/usr/local/lib/python3.10/dist-packages/torch/nn/modules/rnn.py:82: UserWarning: dropout option adds dropout after all but last recurrent layer, so non-zero dropout expects num_layers greater than 1, but got dropout=0.3 and num_layers=1\n",
            "  warnings.warn(\"dropout option adds dropout after all but last \"\n"
          ]
        }
      ],
      "source": [
        "import torch.nn as nn\n",
        "# from nn.dropout import dropout\n",
        "X_re = X_torch_S_gene.view(-1, 3, 1)\n",
        "# class LSTMModel(nn.Module):\n",
        "#     def __init__(self, input_dim, hidden_dim, num_layers, output_dim, drop_prob=0.2):\n",
        "#         super(LSTMModel, self).__init__()\n",
        "\n",
        "#         self.lstm = nn.LSTM(\n",
        "#             input_dim, hidden_dim, num_layers,\n",
        "#             batch_first=True, dropout=drop_prob\n",
        "#         )\n",
        "\n",
        "#         self.dropout = nn.Dropout(drop_prob)\n",
        "\n",
        "#         self.linear = nn.Linear(hidden_dim, output_dim)\n",
        "\n",
        "#     def forward(self, x):\n",
        "#         lstm_out, _ = self.lstm(x)\n",
        "\n",
        "#         out = self.dropout(lstm_out)\n",
        "#         out = out[:,-1,:] # taking the last time step\n",
        "\n",
        "#         out = self.linear(out)\n",
        "#         return out\n",
        "\n",
        "# model = LSTMModel(input_dim=1, hidden_dim=64, num_layers=2, output_dim=1, drop_prob=0.2)\n",
        "import torch.nn as nn\n",
        "\n",
        "class LSTMModel(nn.Module):\n",
        "    def __init__(self, input_dim, hidden_dim, num_layers, output_dim, drop_prob=0.3):\n",
        "        super(LSTMModel, self).__init__()\n",
        "\n",
        "        self.lstm = nn.LSTM(\n",
        "            input_dim, hidden_dim, num_layers,\n",
        "            batch_first=True, dropout=drop_prob\n",
        "        )\n",
        "\n",
        "        self.dropout = nn.Dropout(drop_prob)\n",
        "\n",
        "        self.linear = nn.Linear(hidden_dim, output_dim)\n",
        "        self.activation = nn.Softplus()\n",
        "\n",
        "    def forward(self, x):\n",
        "        lstm_out, _ = self.lstm(x)\n",
        "\n",
        "        out = self.dropout(lstm_out)\n",
        "        out = out[:,-1,:]\n",
        "\n",
        "        out = self.linear(out)\n",
        "\n",
        "        # Adding Tanh activation\n",
        "        out = self.activation(out)\n",
        "        return out\n",
        "\n",
        "model = LSTMModel(input_dim=X_torch_S_gene.shape[3], hidden_dim=55,\n",
        "                  num_layers=1, output_dim=1, drop_prob=0.3)\n",
        "\n",
        "\n",
        "criterion = nn.MSELoss()\n",
        "optimizer = torch.optim.Adam(model.parameters(), lr=0.0075)\n",
        "\n",
        "for epoch in range(30):\n",
        "  optimizer.zero_grad()\n",
        "\n",
        "  y_pred = model(X_re)\n",
        "\n",
        "  loss = criterion(y_pred, Y_torch_S)\n",
        "  loss.backward()\n",
        "\n",
        "  optimizer.step()"
      ]
    },
    {
      "cell_type": "code",
      "execution_count": 24,
      "metadata": {
        "colab": {
          "base_uri": "https://localhost:8080/",
          "height": 484
        },
        "id": "1xuXcgyDCoAf",
        "outputId": "0bda946a-bd3b-4986-cb2b-9eef8804848e"
      },
      "outputs": [
        {
          "output_type": "stream",
          "name": "stdout",
          "text": [
            "(102824, 1)\n"
          ]
        },
        {
          "output_type": "execute_result",
          "data": {
            "text/plain": [
              "Text(0, 0.5, 'Predicted Y')"
            ]
          },
          "metadata": {},
          "execution_count": 24
        },
        {
          "output_type": "display_data",
          "data": {
            "text/plain": [
              "<Figure size 640x480 with 1 Axes>"
            ],
            "image/png": "[encoded data removed]"
          },
          "metadata": {}
        }
      ],
      "source": [
        "# Evaluate\n",
        "true_y = Y_torch_S.detach().numpy()\n",
        "pred_y = model(X_re).detach().numpy()\n",
        "print(pred_y.shape)\n",
        "import matplotlib.pyplot as plt\n",
        "import matplotlib.pyplot as plt\n",
        "plt.scatter(true_y, pred_y)\n",
        "plt.xlabel('True Y')\n",
        "plt.ylabel('Predicted Y')"
      ]
    },
    {
      "cell_type": "code",
      "execution_count": 25,
      "metadata": {
        "colab": {
          "base_uri": "https://localhost:8080/",
          "height": 449
        },
        "id": "9Pcnb-9cCn-K",
        "outputId": "ae5b724d-e5ba-42b0-8260-ab00e7dcaa56"
      },
      "outputs": [
        {
          "output_type": "display_data",
          "data": {
            "text/plain": [
              "<Figure size 640x480 with 1 Axes>"
            ],
            "image/png": "[encoded data removed]"
          },
          "metadata": {}
        }
      ],
      "source": [
        "to_num = 100\n",
        "\n",
        "plt.plot(range(to_num), pred_y[:to_num], color=\"red\", label=\"Predicted\")\n",
        "plt.plot(range(to_num), true_y[:to_num], color=\"green\", label=\"Actual\")\n",
        "\n",
        "plt.xlabel(\"Sample Index\")\n",
        "plt.ylabel(\"Values\")\n",
        "plt.legend()\n",
        "plt.show()"
      ]
    },
    {
      "cell_type": "code",
      "execution_count": 26,
      "metadata": {
        "id": "cr2_YvXpCn7i"
      },
      "outputs": [],
      "source": [
        "rmse_values = []\n",
        "for i in range(len(pred_y)):\n",
        "  rmse = np.sqrt(np.mean((pred_y[i] - true_y[i])**2))\n",
        "  rmse_values.append(rmse)\n",
        "\n",
        "# Create lists to store gene names and RMSE values\n",
        "gene_names = []\n",
        "rmse_list = []\n",
        "\n",
        "for i, gene_name in enumerate(all_gene_names):\n",
        "  gene_names.append(gene_name)\n",
        "  rmse_list.append(rmse_values[i])\n"
      ]
    },
    {
      "cell_type": "code",
      "execution_count": 27,
      "metadata": {
        "id": "CzqVKpW1Cn4s"
      },
      "outputs": [],
      "source": [
        "import csv\n",
        "\n",
        "gene_names_rmse = []\n",
        "\n",
        "for i, gene_name in enumerate(all_gene_names):\n",
        "  rmse = np.sqrt(np.mean((pred_y[i] - true_y[i])**2))\n",
        "  gene_rmse = (gene_name, rmse)\n",
        "  gene_names_rmse.append(gene_rmse)\n",
        "with open('gene_rmse_without_S.csv', 'w') as f:\n",
        "  writer = csv.writer(f)\n",
        "  writer.writerow(['Gene Name', 'RMSE']) # Column headers\n",
        "  for row in gene_names_rmse:\n",
        "    writer.writerow(row) # Each row is a tuple"
      ]
    },
    {
      "cell_type": "code",
      "execution_count": null,
      "metadata": {
        "id": "dluJdpZRCn2V"
      },
      "outputs": [],
      "source": []
    },
    {
      "cell_type": "code",
      "execution_count": null,
      "metadata": {
        "id": "mxUwnqoSCnzw"
      },
      "outputs": [],
      "source": []
    },
    {
      "cell_type": "code",
      "execution_count": null,
      "metadata": {
        "id": "rnwBiUaPCnxY"
      },
      "outputs": [],
      "source": []
    },
    {
      "cell_type": "code",
      "execution_count": null,
      "metadata": {
        "id": "hFV79THeCnuy"
      },
      "outputs": [],
      "source": []
    },
    {
      "cell_type": "code",
      "execution_count": null,
      "metadata": {
        "id": "4OSiUn3sCnr-"
      },
      "outputs": [],
      "source": []
    },
    {
      "cell_type": "markdown",
      "metadata": {
        "id": "34bC82Md36-p"
      },
      "source": [
        "#RNN"
      ]
    },
    {
      "cell_type": "markdown",
      "metadata": {
        "id": "4MhypUUGsGxH"
      },
      "source": [
        "#Modified LSTM"
      ]
    },
    {
      "cell_type": "code",
      "execution_count": null,
      "metadata": {
        "id": "T3EM-LogFRfQ"
      },
      "outputs": [],
      "source": [
        "# import torch.nn as nn\n",
        "# from torch.autograd import Variable\n",
        "\n",
        "# class ImprovedLSTM(nn.Module):\n",
        "#     def __init__(self, input_size, hidden_size, num_layers, seq_length):\n",
        "#         super(ImprovedLSTM, self).__init__()\n",
        "#         self.num_layers = num_layers\n",
        "#         self.input_size = input_size\n",
        "#         self.hidden_size = hidden_size\n",
        "#         self.seq_length = seq_length\n",
        "\n",
        "#         self.lstm = nn.LSTM(input_size=input_size, hidden_size=hidden_size, num_layers=num_layers, batch_first=True)\n",
        "#         self.fc_1 = nn.Linear(hidden_size, 128)\n",
        "#         self.fc = nn.Linear(128, 1)  # Output dimension 1 for regression\n",
        "\n",
        "#         self.relu = nn.ReLU()\n",
        "\n",
        "#     def forward(self, x):\n",
        "#         # Reshape input to 3-D tensor (batch_size, seq_length, input_size)\n",
        "#         x = x.view(-1, self.seq_length, self.input_size)\n",
        "\n",
        "#         h_0 = Variable(torch.zeros(self.num_layers, x.size(0), self.hidden_size))\n",
        "#         c_0 = Variable(torch.zeros(self.num_layers, x.size(0), self.hidden_size))\n",
        "#         output, (hn, cn) = self.lstm(x, (h_0, c_0))\n",
        "#         hn = hn.view(-1, self.hidden_size)\n",
        "#         out = self.relu(hn)\n",
        "#         out = self.fc_1(out)\n",
        "#         out = self.fc(out)  # Removed final activation for regression\n",
        "#         return out\n"
      ]
    },
    {
      "cell_type": "code",
      "execution_count": null,
      "metadata": {
        "id": "1gYAKzvC9wBT"
      },
      "outputs": [],
      "source": [
        "import torch.nn as nn\n",
        "from torch.autograd import Variable\n",
        "class ImprovedLSTM(nn.Module):\n",
        "    def __init__(self, input_size, hidden_size, num_layers, seq_length):\n",
        "        super(ImprovedLSTM, self).__init__()\n",
        "\n",
        "        # Added L2 regularization\n",
        "        self.reg_lambda = 0.01\n",
        "\n",
        "        self.num_layers = num_layers\n",
        "        self.input_size = input_size\n",
        "        self.hidden_size = hidden_size\n",
        "        self.seq_length = seq_length\n",
        "\n",
        "        self.lstm = nn.LSTM(input_size=input_size, hidden_size=hidden_size, num_layers=num_layers, batch_first=True)\n",
        "\n",
        "        # Added dropout layer\n",
        "        self.dropout = nn.Dropout(p=0.3)\n",
        "\n",
        "        self.fc_1 = nn.Linear(hidden_size, 128)\n",
        "        self.fc = nn.Linear(128, 1)\n",
        "\n",
        "        self.relu = nn.ReLU()\n",
        "\n",
        "    def forward(self, x):\n",
        "        # Added dropout\n",
        "        x = self.dropout(x)\n",
        "        x = x.view(-1, self.seq_length, self.input_size)\n",
        "\n",
        "        h_0 = Variable(torch.zeros(self.num_layers, x.size(0), self.hidden_size))\n",
        "        c_0 = Variable(torch.zeros(self.num_layers, x.size(0), self.hidden_size))\n",
        "        output, (hn, cn) = self.lstm(x, (h_0, c_0))\n",
        "        hn = hn.view(-1, self.hidden_size)\n",
        "        out = self.relu(hn)\n",
        "        out = self.fc_1(out)\n",
        "        out = self.relu(out)\n",
        "        out = self.fc(out)\n",
        "        out = self.relu(out)  # Removed final activation for regression\n",
        "        return out\n"
      ]
    },
    {
      "cell_type": "code",
      "execution_count": null,
      "metadata": {
        "id": "Wsz8H4f_iSlu"
      },
      "outputs": [],
      "source": [
        "num_epochs = 100  # 1000 epochs\n",
        "learning_rate = 0.0001 # 0.001 lr\n",
        "\n",
        "input_size = X_torch.shape[3]  # number of features ==5\n",
        "hidden_size = 20  # number of features in hidden state\n",
        "num_layers = 1  # number of stacked lstm layers\n",
        "\n",
        "num_classes = 1  # number of output classes\n",
        "\n",
        "seq_length = X_torch.shape[1] #4\n"
      ]
    },
    {
      "cell_type": "code",
      "execution_count": null,
      "metadata": {
        "colab": {
          "base_uri": "https://localhost:8080/"
        },
        "id": "PXOcFOUoaCIR",
        "outputId": "86979431-45f8-4359-e863-1a518353e68c"
      },
      "outputs": [
        {
          "name": "stdout",
          "output_type": "stream",
          "text": [
            "1\n"
          ]
        }
      ],
      "source": [
        "print(input_size)"
      ]
    },
    {
      "cell_type": "code",
      "execution_count": null,
      "metadata": {
        "colab": {
          "base_uri": "https://localhost:8080/"
        },
        "id": "zK8Hu4XciSja",
        "outputId": "fbc3f014-cb11-4acd-a1d5-950cf0271ef2"
      },
      "outputs": [
        {
          "name": "stdout",
          "output_type": "stream",
          "text": [
            "ImprovedLSTM(\n",
            "  (lstm): LSTM(1, 20, batch_first=True)\n",
            "  (dropout): Dropout(p=0.3, inplace=False)\n",
            "  (fc_1): Linear(in_features=20, out_features=128, bias=True)\n",
            "  (fc): Linear(in_features=128, out_features=1, bias=True)\n",
            "  (relu): ReLU()\n",
            ")\n"
          ]
        }
      ],
      "source": [
        "from torch.optim.lr_scheduler import CosineAnnealingLR\n",
        "from torch.optim.lr_scheduler import ReduceLROnPlateau\n",
        "\n",
        "# Initialize the model with the appropriate arguments\n",
        "lstm1 = ImprovedLSTM(input_size, hidden_size, num_layers, seq_length) #our lstm class\n",
        "print(lstm1)\n",
        "\n",
        "criterion = nn.MSELoss()\n",
        "\n",
        "def loss_function(outputs, targets):\n",
        "    loss = criterion(outputs, targets)\n",
        "    l2_reg = 0\n",
        "\n",
        "    for param in model.parameters():\n",
        "        l2_reg += torch.norm(param)\n",
        "\n",
        "    return loss + self.reg_lambda * l2_reg  # mean-squared error for regression\n",
        "\n",
        "# Choose an optimizer (e.g., SGD or Adam)\n",
        "optimizer = torch.optim.SGD(lstm1.parameters(), lr=0.001, momentum=0.9)\n",
        "\n",
        "# Initialize the learning rate scheduler\n",
        "scheduler = ReduceLROnPlateau(optimizer, 'min', patience=5)"
      ]
    },
    {
      "cell_type": "markdown",
      "metadata": {
        "id": "DR8xRA-bLGC9"
      },
      "source": [
        "#Training Loop"
      ]
    },
    {
      "cell_type": "code",
      "execution_count": null,
      "metadata": {
        "colab": {
          "base_uri": "https://localhost:8080/"
        },
        "id": "97syFoZMY-tv",
        "outputId": "0e5f109c-2c8d-48f9-d768-f9d4d43559cb"
      },
      "outputs": [
        {
          "name": "stdout",
          "output_type": "stream",
          "text": [
            "torch.Size([25706, 4, 3, 1])\n"
          ]
        }
      ],
      "source": [
        "print(X_torch.shape)"
      ]
    },
    {
      "cell_type": "code",
      "execution_count": null,
      "metadata": {
        "colab": {
          "base_uri": "https://localhost:8080/"
        },
        "id": "NcEz0Votc8am",
        "outputId": "ed73dff5-628b-4c77-b616-19d2041ae1a4"
      },
      "outputs": [
        {
          "name": "stdout",
          "output_type": "stream",
          "text": [
            "torch.Size([25706, 4, 3, 1])\n",
            "torch.Size([102824])\n"
          ]
        }
      ],
      "source": [
        "print(X_torch.shape)\n",
        "print(Y_torch.shape)"
      ]
    },
    {
      "cell_type": "code",
      "execution_count": null,
      "metadata": {
        "colab": {
          "base_uri": "https://localhost:8080/",
          "height": 743,
          "referenced_widgets": [
            "a924b223d92c497686a6ab4321dd4678",
            "889291a56de4486daf91df9b587969a5",
            "58c89f99e8644a93959b5ff00665059d",
            "bbd8734adc2545ec81e05ce0a2801e20",
            "c5398c81e4fd4221be6ecd494a8048ce",
            "6f6dcfadb34e4635b64cb2e423b3f974",
            "7e4e74cf70834ced8c73cb321922597b",
            "5c2fdcc128284839b8bb224ffd768840",
            "43c2d0884502414982d835b649de0636",
            "c8625c12055c4ea19295b825ab7407d9",
            "b8e0bb0bbdc54827b00905e524acb357"
          ]
        },
        "id": "nBdH7vxuLFWK",
        "outputId": "6f98bac1-01cf-495a-8e33-243a012e4281"
      },
      "outputs": [
        {
          "data": {
            "application/vnd.jupyter.widget-view+json": {
              "model_id": "a924b223d92c497686a6ab4321dd4678",
              "version_major": 2,
              "version_minor": 0
            },
            "text/plain": [
              "  0%|          | 0/100 [00:00<?, ?it/s]"
            ]
          },
          "metadata": {},
          "output_type": "display_data"
        },
        {
          "name": "stdout",
          "output_type": "stream",
          "text": [
            "Epoch: 0, loss: 0.00929\n",
            "RMSE: 0.09639687547439169\n",
            "Epoch: 5, loss: 0.00805\n",
            "RMSE: 0.08974108842874268\n",
            "Epoch: 10, loss: 0.00580\n",
            "RMSE: 0.07617557956783684\n",
            "Epoch: 15, loss: 0.00361\n",
            "RMSE: 0.060059093845425286\n",
            "Epoch: 20, loss: 0.00196\n",
            "RMSE: 0.04427803234630047\n",
            "Epoch: 25, loss: 0.00093\n",
            "RMSE: 0.03057373982653025\n",
            "Epoch: 30, loss: 0.00040\n",
            "RMSE: 0.019913083654125464\n",
            "Epoch: 35, loss: 0.00017\n",
            "RMSE: 0.01287840497436591\n",
            "Epoch: 40, loss: 0.00009\n",
            "RMSE: 0.009726071723559626\n",
            "Epoch: 45, loss: 0.00009\n",
            "RMSE: 0.009385215497795436\n",
            "Epoch: 50, loss: 0.00009\n",
            "RMSE: 0.009385422489234335\n",
            "Epoch: 55, loss: 0.00009\n",
            "RMSE: 0.009385432954972359\n",
            "Epoch: 60, loss: 0.00009\n",
            "RMSE: 0.009385437606407735\n",
            "Epoch: 65, loss: 0.00009\n",
            "RMSE: 0.009385432954972359\n",
            "Epoch: 70, loss: 0.00009\n",
            "RMSE: 0.00938542442733485\n",
            "Epoch: 75, loss: 0.00009\n",
            "RMSE: 0.009385420163513188\n",
            "Epoch: 80, loss: 0.00009\n",
            "RMSE: 0.009385436055929532\n",
            "Epoch: 85, loss: 0.00009\n",
            "RMSE: 0.009385417062550763\n",
            "Epoch: 90, loss: 0.00009\n",
            "RMSE: 0.009385426753054938\n",
            "Epoch: 95, loss: 0.00009\n",
            "RMSE: 0.009385431404493388\n"
          ]
        }
      ],
      "source": [
        "from tqdm.notebook import tqdm\n",
        "\n",
        "Y_torch_S_gene = Y_torch_S_gene[:77118]\n",
        "for epoch in tqdm(range(num_epochs)):\n",
        "    outputs = lstm1.forward(X_torch) #forward pass\n",
        "\n",
        "    optimizer.zero_grad() #caluclate the gradient, manually setting to 0\n",
        "    # obtain the loss function\n",
        "\n",
        "    # print (outputs.shape, Y_torch.shape)\n",
        "    loss = criterion(outputs, Y_torch_S_gene)\n",
        "\n",
        "    loss.backward() #calculates the loss of the loss function\n",
        "\n",
        "    optimizer.step() #improve from loss, i.e backprop\n",
        "    scheduler.step(loss)\n",
        "    with torch.no_grad():\n",
        "        if epoch % 5 == 0:\n",
        "            print(\"Epoch: %d, loss: %1.5f\" % (epoch, loss.item()))\n",
        "            print(\"RMSE:\", np.sqrt(loss.item()))"
      ]
    },
    {
      "cell_type": "code",
      "execution_count": null,
      "metadata": {
        "id": "V0gA4UHbbgT6"
      },
      "outputs": [],
      "source": [
        "# Import necessary libraries and functions\n",
        "import torch.optim as optim\n",
        "import torch.utils.data as data\n",
        "from scipy.stats import zscore\n",
        "\n",
        "# Define a function to calculate Z-scores for data\n",
        "def get_z_score(df):\n",
        "    mean = df.mean().mean()\n",
        "    std = df.stack().std()\n",
        "    return (df - mean) / std\n",
        "\n",
        "# Define a function to normalize data\n",
        "def normalize_data(df, exclude_cols=None):\n",
        "    all_cols = list(df.columns)\n",
        "    if exclude_cols:\n",
        "        for col in exclude_cols:\n",
        "            all_cols.remove(col)\n",
        "\n",
        "    df[all_cols] = get_z_score(df[all_cols])\n",
        "    min_ = df[all_cols].min().min()\n",
        "    max_ = df[all_cols].max().max()\n",
        "    df[all_cols] = (df[all_cols] - min_) / (max_ - min_)\n",
        "    return df\n",
        "\n",
        "# Define a function to normalize data along a specified axis\n",
        "def normalize_data_axis(df, axis=1):\n",
        "    MIN = df.min(axis)\n",
        "    MAX = df.max(axis)\n",
        "    return df.sub(MIN, 1 - axis).div(MAX - MIN, 1 - axis)\n",
        "\n",
        "# Load and preprocess your data using these functions\n",
        "filtered_all_lines_temp = filtered_all_lines[filtered_all_lines.columns[1:]]\n",
        "std = filtered_all_lines_temp.stack().std()\n",
        "mean = filtered_all_lines_temp.mean().mean()\n",
        "Min = filtered_all_lines_temp.min().min()\n",
        "Max = filtered_all_lines_temp.max().max()\n",
        "\n",
        "predicted_values = []\n",
        "\n",
        "with torch.no_grad():\n",
        "    predicted_values = lstm1.forward(X_torch)\n",
        "    predicted_values = predicted_values.numpy()\n",
        "\n",
        "predicted_values = predicted_values[:77118]\n",
        "\n",
        "# Normalize the predicted values\n",
        "normalized = predicted_values\n",
        "for i in range(len(normalized)):\n",
        "    normalized[i] = (normalized[i] - Min) / (Max - Min)\n",
        "\n",
        "# Example of plotting using matplotlib\n",
        "import matplotlib.pyplot as plt\n",
        "\n",
        "to_num = 100\n",
        "pred_pres = normalized[:to_num]\n",
        "x_coords = [i for i in range(to_num)]\n",
        "\n",
        "actuals = []\n",
        "\n"
      ]
    },
    {
      "cell_type": "code",
      "execution_count": null,
      "metadata": {
        "colab": {
          "base_uri": "https://localhost:8080/",
          "height": 538
        },
        "id": "Jaz_UqhREVHk",
        "outputId": "2bd76bcb-c83d-44f5-8290-0ed9ab278b7c"
      },
      "outputs": [
        {
          "name": "stderr",
          "output_type": "stream",
          "text": [
            "/usr/local/lib/python3.10/dist-packages/numpy/core/shape_base.py:65: FutureWarning: The input object of type 'Tensor' is an array-like implementing one of the corresponding protocols (`__array__`, `__array_interface__` or `__array_struct__`); but not a sequence (or 0-D). In the future, this object will be coerced as if it was first converted using `np.array(obj)`. To retain the old behaviour, you have to either modify the type 'Tensor', or assign to an empty array created with `np.empty(correct_shape, dtype=object)`.\n",
            "  ary = asanyarray(ary)\n",
            "/usr/local/lib/python3.10/dist-packages/numpy/core/shape_base.py:65: VisibleDeprecationWarning: Creating an ndarray from ragged nested sequences (which is a list-or-tuple of lists-or-tuples-or ndarrays with different lengths or shapes) is deprecated. If you meant to do this, you must specify 'dtype=object' when creating the ndarray.\n",
            "  ary = asanyarray(ary)\n"
          ]
        },
        {
          "data": {
            "image/png": "[encoded data removed]",
            "text/plain": [
              "<Figure size 640x480 with 1 Axes>"
            ]
          },
          "metadata": {},
          "output_type": "display_data"
        }
      ],
      "source": [
        "for i in range(len(Y_torch_S_gene)):\n",
        "    actuals.append(Y_torch_S_gene[i])\n",
        "\n",
        "actuals = actuals[:to_num]\n",
        "\n",
        "plt.plot(x_coords, pred_pres, color=\"red\", label=\"Predicted\")\n",
        "plt.plot(x_coords, actuals, color=\"green\", label=\"Actual\")\n",
        "plt.xlabel(\"Sample Index\")\n",
        "plt.ylabel(\"Normalized Values\")\n",
        "plt.legend()\n",
        "plt.show()"
      ]
    },
    {
      "cell_type": "code",
      "execution_count": null,
      "metadata": {
        "id": "a_9AzbFKNB2N"
      },
      "outputs": [],
      "source": [
        "# Calculate RMSE for each gene\n",
        "rmse_values = []\n",
        "for i in range(len(predicted_values)):\n",
        "  rmse = np.sqrt(np.mean((predicted_values[i] - Y_torch[i].numpy())**2))\n",
        "  rmse_values.append(rmse)\n",
        "\n",
        "# Create lists to store gene names and RMSE values\n",
        "gene_names = []\n",
        "rmse_list = []\n",
        "\n",
        "for i, gene_name in enumerate(all_gene_names):\n",
        "  gene_names.append(gene_name)\n",
        "  rmse_list.append(rmse_values[i])\n",
        "\n",
        "# Now gene_names and rmse_list contain corresponding names and RMSEs\n"
      ]
    },
    {
      "cell_type": "code",
      "execution_count": null,
      "metadata": {
        "colab": {
          "base_uri": "https://localhost:8080/"
        },
        "id": "gyFZywYYOkPT",
        "outputId": "09e03372-4761-4efd-a1cc-d4b61a927f5c"
      },
      "outputs": [
        {
          "name": "stdout",
          "output_type": "stream",
          "text": [
            "25706\n"
          ]
        }
      ],
      "source": [
        "print(len(rmse_list))"
      ]
    },
    {
      "cell_type": "code",
      "execution_count": null,
      "metadata": {
        "id": "p9gBlLueP0H8"
      },
      "outputs": [],
      "source": [
        "gene_names_rmse = []\n",
        "\n",
        "for i, gene_name in enumerate(all_gene_names):\n",
        "  rmse = np.sqrt(np.mean((predicted_values[i] - Y_torch_S_gene[i].numpy())**2))\n",
        "  gene_rmse = (gene_name, rmse)\n",
        "  gene_names_rmse.append(gene_rmse)\n",
        "\n",
        "# gene_names_rmse is now a list of tuples (gene_name, rmse)"
      ]
    },
    {
      "cell_type": "code",
      "execution_count": null,
      "metadata": {
        "id": "zVQersJSP2YO"
      },
      "outputs": [],
      "source": [
        "import csv\n",
        "\n",
        "gene_names_rmse = []\n",
        "\n",
        "for i, gene_name in enumerate(all_gene_names):\n",
        "  rmse = np.sqrt(np.mean((predicted_values[i] - Y_torch[i].numpy())**2))\n",
        "  gene_rmse = (gene_name, rmse)\n",
        "  gene_names_rmse.append(gene_rmse)\n",
        "\n",
        "with open('gene_wo_elec_S.csv', 'w') as f:\n",
        "  writer = csv.writer(f)\n",
        "  writer.writerow(['Gene Name', 'RMSE']) # Column headers\n",
        "  for row in gene_names_rmse:\n",
        "    writer.writerow(row) # Each row is a tuple"
      ]
    },
    {
      "cell_type": "code",
      "execution_count": null,
      "metadata": {
        "colab": {
          "base_uri": "https://localhost:8080/",
          "height": 252
        },
        "id": "9ZHF5Vg7iSeb",
        "outputId": "bf1c4535-6846-4796-bd40-d4b772c2d595"
      },
      "outputs": [
        {
          "ename": "IndexError",
          "evalue": "ignored",
          "output_type": "error",
          "traceback": [
            "\u001b[0;31m---------------------------------------------------------------------------\u001b[0m",
            "\u001b[0;31mIndexError\u001b[0m                                Traceback (most recent call last)",
            "\u001b[0;32m<ipython-input-31-252eb4dd5e97>\u001b[0m in \u001b[0;36m<cell line: 6>\u001b[0;34m()\u001b[0m\n\u001b[1;32m      4\u001b[0m \u001b[0;31m# %matplotlib inline\u001b[0m\u001b[0;34m\u001b[0m\u001b[0;34m\u001b[0m\u001b[0m\n\u001b[1;32m      5\u001b[0m \u001b[0;34m\u001b[0m\u001b[0m\n\u001b[0;32m----> 6\u001b[0;31m \u001b[0msample\u001b[0m \u001b[0;34m=\u001b[0m \u001b[0mX\u001b[0m\u001b[0;34m[\u001b[0m\u001b[0;36m1\u001b[0m\u001b[0;34m]\u001b[0m\u001b[0;34m\u001b[0m\u001b[0;34m\u001b[0m\u001b[0m\n\u001b[0m\u001b[1;32m      7\u001b[0m \u001b[0mpredicted_values\u001b[0m \u001b[0;34m=\u001b[0m \u001b[0;34m[\u001b[0m\u001b[0;34m]\u001b[0m\u001b[0;34m\u001b[0m\u001b[0;34m\u001b[0m\u001b[0m\n\u001b[1;32m      8\u001b[0m \u001b[0;34m\u001b[0m\u001b[0m\n",
            "\u001b[0;31mIndexError\u001b[0m: list index out of range"
          ]
        }
      ],
      "source": [
        "# test to check values, with input data only\n",
        "\n",
        "import matplotlib.pyplot as plt\n",
        "# %matplotlib inline\n",
        "\n",
        "sample = X[1]\n",
        "predicted_values = []\n",
        "\n",
        "with torch.no_grad():\n",
        "    # for sample in X:\n",
        "    predicted_values = lstm1.forward(torch.Tensor(X))\n",
        "    predicted_values = predicted_values.numpy()\n",
        "        # .data.numpy()\n",
        "        # predicted_values.append(predicted_values)\n",
        "# predicted_values= predicted_values.reshape(len(Y),).tolist()\n",
        "print (len(predicted_values))"
      ]
    },
    {
      "cell_type": "code",
      "execution_count": null,
      "metadata": {
        "colab": {
          "base_uri": "https://localhost:8080/",
          "height": 448
        },
        "id": "964DUXehiScE",
        "outputId": "90c9acf5-26c6-4e32-89bf-97fe617bef8e"
      },
      "outputs": [
        {
          "data": {
            "text/plain": [
              "[<matplotlib.lines.Line2D at 0x7bb7c7b50d00>]"
            ]
          },
          "execution_count": 32,
          "metadata": {},
          "output_type": "execute_result"
        },
        {
          "data": {
            "image/png": "[encoded data removed]",
            "text/plain": [
              "<Figure size 640x480 with 1 Axes>"
            ]
          },
          "metadata": {},
          "output_type": "display_data"
        }
      ],
      "source": [
        "to_num = 100\n",
        "\n",
        "pred_pres = predicted_values[:to_num]\n",
        "x_coords = [i for i in range(to_num)]\n",
        "actual = Y[:to_num]\n",
        "\n",
        "plt.plot(x_coords, pred_pres, 'o', color = \"red\")\n",
        "plt.plot(x_coords, actual , 'o', color = \"green\")\n",
        "# plt.plot(len(Y), Y)\n"
      ]
    },
    {
      "cell_type": "code",
      "execution_count": null,
      "metadata": {
        "id": "njfW0Ac25B1Y"
      },
      "outputs": [],
      "source": []
    },
    {
      "cell_type": "code",
      "execution_count": null,
      "metadata": {
        "id": "PKJcRad25Bx3"
      },
      "outputs": [],
      "source": []
    },
    {
      "cell_type": "code",
      "execution_count": null,
      "metadata": {
        "id": "2Tb88gc05Bs1"
      },
      "outputs": [],
      "source": []
    },
    {
      "cell_type": "code",
      "execution_count": null,
      "metadata": {
        "id": "j2IF8G795Bjn"
      },
      "outputs": [],
      "source": []
    },
    {
      "cell_type": "code",
      "execution_count": null,
      "metadata": {
        "id": "zgLoB7AkTPl9"
      },
      "outputs": [],
      "source": []
    },
    {
      "cell_type": "code",
      "execution_count": null,
      "metadata": {
        "id": "IWpLGuB_TPfl"
      },
      "outputs": [],
      "source": []
    },
    {
      "cell_type": "code",
      "execution_count": null,
      "metadata": {
        "id": "bFpd5kn1TPdY"
      },
      "outputs": [],
      "source": []
    },
    {
      "cell_type": "code",
      "execution_count": null,
      "metadata": {
        "id": "Dbh-DdLlTPaw"
      },
      "outputs": [],
      "source": []
    },
    {
      "cell_type": "code",
      "execution_count": null,
      "metadata": {
        "id": "cK-hO4uxTPYR"
      },
      "outputs": [],
      "source": []
    },
    {
      "cell_type": "code",
      "execution_count": null,
      "metadata": {
        "id": "QM1VhObmTPVv"
      },
      "outputs": [],
      "source": []
    },
    {
      "cell_type": "code",
      "execution_count": null,
      "metadata": {
        "id": "ib1sPgHuTPTM"
      },
      "outputs": [],
      "source": []
    },
    {
      "cell_type": "code",
      "execution_count": null,
      "metadata": {
        "id": "KExRxsN1TPQa"
      },
      "outputs": [],
      "source": []
    },
    {
      "cell_type": "code",
      "execution_count": null,
      "metadata": {
        "id": "4HEJSvF_iSOQ"
      },
      "outputs": [],
      "source": []
    },
    {
      "cell_type": "code",
      "execution_count": null,
      "metadata": {
        "id": "4t2tvwgeiSLp"
      },
      "outputs": [],
      "source": []
    },
    {
      "cell_type": "code",
      "execution_count": null,
      "metadata": {
        "id": "kQefHHCIiSGL"
      },
      "outputs": [],
      "source": []
    },
    {
      "cell_type": "code",
      "execution_count": null,
      "metadata": {
        "id": "vaRHc0ETiSDn"
      },
      "outputs": [],
      "source": []
    }
  ],
  "metadata": {
    "colab": {
      "provenance": []
    },
    "kernelspec": {
      "display_name": "Python 3",
      "name": "python3"
    },
    "language_info": {
      "name": "python"
    },
    "widgets": {
      "application/vnd.jupyter.widget-state+json": {
        "43c2d0884502414982d835b649de0636": {
          "model_module": "@jupyter-widgets/controls",
          "model_module_version": "1.5.0",
          "model_name": "ProgressStyleModel",
          "state": {
            "_model_module": "@jupyter-widgets/controls",
            "_model_module_version": "1.5.0",
            "_model_name": "ProgressStyleModel",
            "_view_count": null,
            "_view_module": "@jupyter-widgets/base",
            "_view_module_version": "1.2.0",
            "_view_name": "StyleView",
            "bar_color": null,
            "description_width": ""
          }
        },
        "58c89f99e8644a93959b5ff00665059d": {
          "model_module": "@jupyter-widgets/controls",
          "model_module_version": "1.5.0",
          "model_name": "FloatProgressModel",
          "state": {
            "_dom_classes": [],
            "_model_module": "@jupyter-widgets/controls",
            "_model_module_version": "1.5.0",
            "_model_name": "FloatProgressModel",
            "_view_count": null,
            "_view_module": "@jupyter-widgets/controls",
            "_view_module_version": "1.5.0",
            "_view_name": "ProgressView",
            "bar_style": "success",
            "description": "",
            "description_tooltip": null,
            "layout": "IPY_MODEL_5c2fdcc128284839b8bb224ffd768840",
            "max": 100,
            "min": 0,
            "orientation": "horizontal",
            "style": "IPY_MODEL_43c2d0884502414982d835b649de0636",
            "value": 100
          }
        },
        "5c2fdcc128284839b8bb224ffd768840": {
          "model_module": "@jupyter-widgets/base",
          "model_module_version": "1.2.0",
          "model_name": "LayoutModel",
          "state": {
            "_model_module": "@jupyter-widgets/base",
            "_model_module_version": "1.2.0",
            "_model_name": "LayoutModel",
            "_view_count": null,
            "_view_module": "@jupyter-widgets/base",
            "_view_module_version": "1.2.0",
            "_view_name": "LayoutView",
            "align_content": null,
            "align_items": null,
            "align_self": null,
            "border": null,
            "bottom": null,
            "display": null,
            "flex": null,
            "flex_flow": null,
            "grid_area": null,
            "grid_auto_columns": null,
            "grid_auto_flow": null,
            "grid_auto_rows": null,
            "grid_column": null,
            "grid_gap": null,
            "grid_row": null,
            "grid_template_areas": null,
            "grid_template_columns": null,
            "grid_template_rows": null,
            "height": null,
            "justify_content": null,
            "justify_items": null,
            "left": null,
            "margin": null,
            "max_height": null,
            "max_width": null,
            "min_height": null,
            "min_width": null,
            "object_fit": null,
            "object_position": null,
            "order": null,
            "overflow": null,
            "overflow_x": null,
            "overflow_y": null,
            "padding": null,
            "right": null,
            "top": null,
            "visibility": null,
            "width": null
          }
        },
        "6f6dcfadb34e4635b64cb2e423b3f974": {
          "model_module": "@jupyter-widgets/base",
          "model_module_version": "1.2.0",
          "model_name": "LayoutModel",
          "state": {
            "_model_module": "@jupyter-widgets/base",
            "_model_module_version": "1.2.0",
            "_model_name": "LayoutModel",
            "_view_count": null,
            "_view_module": "@jupyter-widgets/base",
            "_view_module_version": "1.2.0",
            "_view_name": "LayoutView",
            "align_content": null,
            "align_items": null,
            "align_self": null,
            "border": null,
            "bottom": null,
            "display": null,
            "flex": null,
            "flex_flow": null,
            "grid_area": null,
            "grid_auto_columns": null,
            "grid_auto_flow": null,
            "grid_auto_rows": null,
            "grid_column": null,
            "grid_gap": null,
            "grid_row": null,
            "grid_template_areas": null,
            "grid_template_columns": null,
            "grid_template_rows": null,
            "height": null,
            "justify_content": null,
            "justify_items": null,
            "left": null,
            "margin": null,
            "max_height": null,
            "max_width": null,
            "min_height": null,
            "min_width": null,
            "object_fit": null,
            "object_position": null,
            "order": null,
            "overflow": null,
            "overflow_x": null,
            "overflow_y": null,
            "padding": null,
            "right": null,
            "top": null,
            "visibility": null,
            "width": null
          }
        },
        "7e4e74cf70834ced8c73cb321922597b": {
          "model_module": "@jupyter-widgets/controls",
          "model_module_version": "1.5.0",
          "model_name": "DescriptionStyleModel",
          "state": {
            "_model_module": "@jupyter-widgets/controls",
            "_model_module_version": "1.5.0",
            "_model_name": "DescriptionStyleModel",
            "_view_count": null,
            "_view_module": "@jupyter-widgets/base",
            "_view_module_version": "1.2.0",
            "_view_name": "StyleView",
            "description_width": ""
          }
        },
        "889291a56de4486daf91df9b587969a5": {
          "model_module": "@jupyter-widgets/controls",
          "model_module_version": "1.5.0",
          "model_name": "HTMLModel",
          "state": {
            "_dom_classes": [],
            "_model_module": "@jupyter-widgets/controls",
            "_model_module_version": "1.5.0",
            "_model_name": "HTMLModel",
            "_view_count": null,
            "_view_module": "@jupyter-widgets/controls",
            "_view_module_version": "1.5.0",
            "_view_name": "HTMLView",
            "description": "",
            "description_tooltip": null,
            "layout": "IPY_MODEL_6f6dcfadb34e4635b64cb2e423b3f974",
            "placeholder": "​",
            "style": "IPY_MODEL_7e4e74cf70834ced8c73cb321922597b",
            "value": "100%"
          }
        },
        "a924b223d92c497686a6ab4321dd4678": {
          "model_module": "@jupyter-widgets/controls",
          "model_module_version": "1.5.0",
          "model_name": "HBoxModel",
          "state": {
            "_dom_classes": [],
            "_model_module": "@jupyter-widgets/controls",
            "_model_module_version": "1.5.0",
            "_model_name": "HBoxModel",
            "_view_count": null,
            "_view_module": "@jupyter-widgets/controls",
            "_view_module_version": "1.5.0",
            "_view_name": "HBoxView",
            "box_style": "",
            "children": [
              "IPY_MODEL_889291a56de4486daf91df9b587969a5",
              "IPY_MODEL_58c89f99e8644a93959b5ff00665059d",
              "IPY_MODEL_bbd8734adc2545ec81e05ce0a2801e20"
            ],
            "layout": "IPY_MODEL_c5398c81e4fd4221be6ecd494a8048ce"
          }
        },
        "b8e0bb0bbdc54827b00905e524acb357": {
          "model_module": "@jupyter-widgets/controls",
          "model_module_version": "1.5.0",
          "model_name": "DescriptionStyleModel",
          "state": {
            "_model_module": "@jupyter-widgets/controls",
            "_model_module_version": "1.5.0",
            "_model_name": "DescriptionStyleModel",
            "_view_count": null,
            "_view_module": "@jupyter-widgets/base",
            "_view_module_version": "1.2.0",
            "_view_name": "StyleView",
            "description_width": ""
          }
        },
        "bbd8734adc2545ec81e05ce0a2801e20": {
          "model_module": "@jupyter-widgets/controls",
          "model_module_version": "1.5.0",
          "model_name": "HTMLModel",
          "state": {
            "_dom_classes": [],
            "_model_module": "@jupyter-widgets/controls",
            "_model_module_version": "1.5.0",
            "_model_name": "HTMLModel",
            "_view_count": null,
            "_view_module": "@jupyter-widgets/controls",
            "_view_module_version": "1.5.0",
            "_view_name": "HTMLView",
            "description": "",
            "description_tooltip": null,
            "layout": "IPY_MODEL_c8625c12055c4ea19295b825ab7407d9",
            "placeholder": "​",
            "style": "IPY_MODEL_b8e0bb0bbdc54827b00905e524acb357",
            "value": " 100/100 [02:21&lt;00:00,  1.31s/it]"
          }
        },
        "c5398c81e4fd4221be6ecd494a8048ce": {
          "model_module": "@jupyter-widgets/base",
          "model_module_version": "1.2.0",
          "model_name": "LayoutModel",
          "state": {
            "_model_module": "@jupyter-widgets/base",
            "_model_module_version": "1.2.0",
            "_model_name": "LayoutModel",
            "_view_count": null,
            "_view_module": "@jupyter-widgets/base",
            "_view_module_version": "1.2.0",
            "_view_name": "LayoutView",
            "align_content": null,
            "align_items": null,
            "align_self": null,
            "border": null,
            "bottom": null,
            "display": null,
            "flex": null,
            "flex_flow": null,
            "grid_area": null,
            "grid_auto_columns": null,
            "grid_auto_flow": null,
            "grid_auto_rows": null,
            "grid_column": null,
            "grid_gap": null,
            "grid_row": null,
            "grid_template_areas": null,
            "grid_template_columns": null,
            "grid_template_rows": null,
            "height": null,
            "justify_content": null,
            "justify_items": null,
            "left": null,
            "margin": null,
            "max_height": null,
            "max_width": null,
            "min_height": null,
            "min_width": null,
            "object_fit": null,
            "object_position": null,
            "order": null,
            "overflow": null,
            "overflow_x": null,
            "overflow_y": null,
            "padding": null,
            "right": null,
            "top": null,
            "visibility": null,
            "width": null
          }
        },
        "c8625c12055c4ea19295b825ab7407d9": {
          "model_module": "@jupyter-widgets/base",
          "model_module_version": "1.2.0",
          "model_name": "LayoutModel",
          "state": {
            "_model_module": "@jupyter-widgets/base",
            "_model_module_version": "1.2.0",
            "_model_name": "LayoutModel",
            "_view_count": null,
            "_view_module": "@jupyter-widgets/base",
            "_view_module_version": "1.2.0",
            "_view_name": "LayoutView",
            "align_content": null,
            "align_items": null,
            "align_self": null,
            "border": null,
            "bottom": null,
            "display": null,
            "flex": null,
            "flex_flow": null,
            "grid_area": null,
            "grid_auto_columns": null,
            "grid_auto_flow": null,
            "grid_auto_rows": null,
            "grid_column": null,
            "grid_gap": null,
            "grid_row": null,
            "grid_template_areas": null,
            "grid_template_columns": null,
            "grid_template_rows": null,
            "height": null,
            "justify_content": null,
            "justify_items": null,
            "left": null,
            "margin": null,
            "max_height": null,
            "max_width": null,
            "min_height": null,
            "min_width": null,
            "object_fit": null,
            "object_position": null,
            "order": null,
            "overflow": null,
            "overflow_x": null,
            "overflow_y": null,
            "padding": null,
            "right": null,
            "top": null,
            "visibility": null,
            "width": null
          }
        }
      }
    }
  },
  "nbformat": 4,
  "nbformat_minor": 0
}