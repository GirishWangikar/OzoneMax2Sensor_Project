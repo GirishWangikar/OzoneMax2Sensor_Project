{
  "nbformat": 4,
  "nbformat_minor": 0,
  "metadata": {
    "colab": {
      "provenance": []
    },
    "kernelspec": {
      "name": "python3",
      "display_name": "Python 3"
    },
    "language_info": {
      "name": "python"
    },
    "widgets": {
      "application/vnd.jupyter.widget-state+json": {
        "e4a830dd1f684549999b59feb4cfd7ce": {
          "model_module": "@jupyter-widgets/controls",
          "model_name": "HBoxModel",
          "model_module_version": "1.5.0",
          "state": {
            "_dom_classes": [],
            "_model_module": "@jupyter-widgets/controls",
            "_model_module_version": "1.5.0",
            "_model_name": "HBoxModel",
            "_view_count": null,
            "_view_module": "@jupyter-widgets/controls",
            "_view_module_version": "1.5.0",
            "_view_name": "HBoxView",
            "box_style": "",
            "children": [
              "IPY_MODEL_d745734ae18448c1bcf8e7403f0eaa06",
              "IPY_MODEL_d64d04073f4844deb12e4467d60ae51a",
              "IPY_MODEL_df6d5b7f111a49fbacaa3430669dc174"
            ],
            "layout": "IPY_MODEL_380d01336ef249e99c4a28ff1d765c65"
          }
        },
        "d745734ae18448c1bcf8e7403f0eaa06": {
          "model_module": "@jupyter-widgets/controls",
          "model_name": "HTMLModel",
          "model_module_version": "1.5.0",
          "state": {
            "_dom_classes": [],
            "_model_module": "@jupyter-widgets/controls",
            "_model_module_version": "1.5.0",
            "_model_name": "HTMLModel",
            "_view_count": null,
            "_view_module": "@jupyter-widgets/controls",
            "_view_module_version": "1.5.0",
            "_view_name": "HTMLView",
            "description": "",
            "description_tooltip": null,
            "layout": "IPY_MODEL_a64c264c8fc948c6b777219213653a1e",
            "placeholder": "​",
            "style": "IPY_MODEL_53144a2e60dd4522a764eb25723f02f6",
            "value": "100%"
          }
        },
        "d64d04073f4844deb12e4467d60ae51a": {
          "model_module": "@jupyter-widgets/controls",
          "model_name": "FloatProgressModel",
          "model_module_version": "1.5.0",
          "state": {
            "_dom_classes": [],
            "_model_module": "@jupyter-widgets/controls",
            "_model_module_version": "1.5.0",
            "_model_name": "FloatProgressModel",
            "_view_count": null,
            "_view_module": "@jupyter-widgets/controls",
            "_view_module_version": "1.5.0",
            "_view_name": "ProgressView",
            "bar_style": "success",
            "description": "",
            "description_tooltip": null,
            "layout": "IPY_MODEL_6ba2de7c01124359bccbfe85fc7ad04b",
            "max": 100,
            "min": 0,
            "orientation": "horizontal",
            "style": "IPY_MODEL_4636e35e08fd4abf9b8208cf76270393",
            "value": 100
          }
        },
        "df6d5b7f111a49fbacaa3430669dc174": {
          "model_module": "@jupyter-widgets/controls",
          "model_name": "HTMLModel",
          "model_module_version": "1.5.0",
          "state": {
            "_dom_classes": [],
            "_model_module": "@jupyter-widgets/controls",
            "_model_module_version": "1.5.0",
            "_model_name": "HTMLModel",
            "_view_count": null,
            "_view_module": "@jupyter-widgets/controls",
            "_view_module_version": "1.5.0",
            "_view_name": "HTMLView",
            "description": "",
            "description_tooltip": null,
            "layout": "IPY_MODEL_713290a505994f808c6845728376bbca",
            "placeholder": "​",
            "style": "IPY_MODEL_317f8ed6d38242629137a3bfa816ac2c",
            "value": " 100/100 [02:11&lt;00:00,  1.25s/it]"
          }
        },
        "380d01336ef249e99c4a28ff1d765c65": {
          "model_module": "@jupyter-widgets/base",
          "model_name": "LayoutModel",
          "model_module_version": "1.2.0",
          "state": {
            "_model_module": "@jupyter-widgets/base",
            "_model_module_version": "1.2.0",
            "_model_name": "LayoutModel",
            "_view_count": null,
            "_view_module": "@jupyter-widgets/base",
            "_view_module_version": "1.2.0",
            "_view_name": "LayoutView",
            "align_content": null,
            "align_items": null,
            "align_self": null,
            "border": null,
            "bottom": null,
            "display": null,
            "flex": null,
            "flex_flow": null,
            "grid_area": null,
            "grid_auto_columns": null,
            "grid_auto_flow": null,
            "grid_auto_rows": null,
            "grid_column": null,
            "grid_gap": null,
            "grid_row": null,
            "grid_template_areas": null,
            "grid_template_columns": null,
            "grid_template_rows": null,
            "height": null,
            "justify_content": null,
            "justify_items": null,
            "left": null,
            "margin": null,
            "max_height": null,
            "max_width": null,
            "min_height": null,
            "min_width": null,
            "object_fit": null,
            "object_position": null,
            "order": null,
            "overflow": null,
            "overflow_x": null,
            "overflow_y": null,
            "padding": null,
            "right": null,
            "top": null,
            "visibility": null,
            "width": null
          }
        },
        "a64c264c8fc948c6b777219213653a1e": {
          "model_module": "@jupyter-widgets/base",
          "model_name": "LayoutModel",
          "model_module_version": "1.2.0",
          "state": {
            "_model_module": "@jupyter-widgets/base",
            "_model_module_version": "1.2.0",
            "_model_name": "LayoutModel",
            "_view_count": null,
            "_view_module": "@jupyter-widgets/base",
            "_view_module_version": "1.2.0",
            "_view_name": "LayoutView",
            "align_content": null,
            "align_items": null,
            "align_self": null,
            "border": null,
            "bottom": null,
            "display": null,
            "flex": null,
            "flex_flow": null,
            "grid_area": null,
            "grid_auto_columns": null,
            "grid_auto_flow": null,
            "grid_auto_rows": null,
            "grid_column": null,
            "grid_gap": null,
            "grid_row": null,
            "grid_template_areas": null,
            "grid_template_columns": null,
            "grid_template_rows": null,
            "height": null,
            "justify_content": null,
            "justify_items": null,
            "left": null,
            "margin": null,
            "max_height": null,
            "max_width": null,
            "min_height": null,
            "min_width": null,
            "object_fit": null,
            "object_position": null,
            "order": null,
            "overflow": null,
            "overflow_x": null,
            "overflow_y": null,
            "padding": null,
            "right": null,
            "top": null,
            "visibility": null,
            "width": null
          }
        },
        "53144a2e60dd4522a764eb25723f02f6": {
          "model_module": "@jupyter-widgets/controls",
          "model_name": "DescriptionStyleModel",
          "model_module_version": "1.5.0",
          "state": {
            "_model_module": "@jupyter-widgets/controls",
            "_model_module_version": "1.5.0",
            "_model_name": "DescriptionStyleModel",
            "_view_count": null,
            "_view_module": "@jupyter-widgets/base",
            "_view_module_version": "1.2.0",
            "_view_name": "StyleView",
            "description_width": ""
          }
        },
        "6ba2de7c01124359bccbfe85fc7ad04b": {
          "model_module": "@jupyter-widgets/base",
          "model_name": "LayoutModel",
          "model_module_version": "1.2.0",
          "state": {
            "_model_module": "@jupyter-widgets/base",
            "_model_module_version": "1.2.0",
            "_model_name": "LayoutModel",
            "_view_count": null,
            "_view_module": "@jupyter-widgets/base",
            "_view_module_version": "1.2.0",
            "_view_name": "LayoutView",
            "align_content": null,
            "align_items": null,
            "align_self": null,
            "border": null,
            "bottom": null,
            "display": null,
            "flex": null,
            "flex_flow": null,
            "grid_area": null,
            "grid_auto_columns": null,
            "grid_auto_flow": null,
            "grid_auto_rows": null,
            "grid_column": null,
            "grid_gap": null,
            "grid_row": null,
            "grid_template_areas": null,
            "grid_template_columns": null,
            "grid_template_rows": null,
            "height": null,
            "justify_content": null,
            "justify_items": null,
            "left": null,
            "margin": null,
            "max_height": null,
            "max_width": null,
            "min_height": null,
            "min_width": null,
            "object_fit": null,
            "object_position": null,
            "order": null,
            "overflow": null,
            "overflow_x": null,
            "overflow_y": null,
            "padding": null,
            "right": null,
            "top": null,
            "visibility": null,
            "width": null
          }
        },
        "4636e35e08fd4abf9b8208cf76270393": {
          "model_module": "@jupyter-widgets/controls",
          "model_name": "ProgressStyleModel",
          "model_module_version": "1.5.0",
          "state": {
            "_model_module": "@jupyter-widgets/controls",
            "_model_module_version": "1.5.0",
            "_model_name": "ProgressStyleModel",
            "_view_count": null,
            "_view_module": "@jupyter-widgets/base",
            "_view_module_version": "1.2.0",
            "_view_name": "StyleView",
            "bar_color": null,
            "description_width": ""
          }
        },
        "713290a505994f808c6845728376bbca": {
          "model_module": "@jupyter-widgets/base",
          "model_name": "LayoutModel",
          "model_module_version": "1.2.0",
          "state": {
            "_model_module": "@jupyter-widgets/base",
            "_model_module_version": "1.2.0",
            "_model_name": "LayoutModel",
            "_view_count": null,
            "_view_module": "@jupyter-widgets/base",
            "_view_module_version": "1.2.0",
            "_view_name": "LayoutView",
            "align_content": null,
            "align_items": null,
            "align_self": null,
            "border": null,
            "bottom": null,
            "display": null,
            "flex": null,
            "flex_flow": null,
            "grid_area": null,
            "grid_auto_columns": null,
            "grid_auto_flow": null,
            "grid_auto_rows": null,
            "grid_column": null,
            "grid_gap": null,
            "grid_row": null,
            "grid_template_areas": null,
            "grid_template_columns": null,
            "grid_template_rows": null,
            "height": null,
            "justify_content": null,
            "justify_items": null,
            "left": null,
            "margin": null,
            "max_height": null,
            "max_width": null,
            "min_height": null,
            "min_width": null,
            "object_fit": null,
            "object_position": null,
            "order": null,
            "overflow": null,
            "overflow_x": null,
            "overflow_y": null,
            "padding": null,
            "right": null,
            "top": null,
            "visibility": null,
            "width": null
          }
        },
        "317f8ed6d38242629137a3bfa816ac2c": {
          "model_module": "@jupyter-widgets/controls",
          "model_name": "DescriptionStyleModel",
          "model_module_version": "1.5.0",
          "state": {
            "_model_module": "@jupyter-widgets/controls",
            "_model_module_version": "1.5.0",
            "_model_name": "DescriptionStyleModel",
            "_view_count": null,
            "_view_module": "@jupyter-widgets/base",
            "_view_module_version": "1.2.0",
            "_view_name": "StyleView",
            "description_width": ""
          }
        }
      }
    }
  },
  "cells": [
    {
      "cell_type": "code",
      "execution_count": 1,
      "metadata": {
        "id": "wx_zfTa_h_27"
      },
      "outputs": [],
      "source": [
        "import pandas as pd\n",
        "import numpy as np\n",
        "import os\n",
        "import copy\n",
        "from sklearn.preprocessing import minmax_scale\n",
        "from scipy.stats import zscore\n",
        "import torch\n"
      ]
    },
    {
      "cell_type": "code",
      "source": [
        "fpkm_replicates = pd.read_csv(\"FPKM_replicates.csv\")\n",
        "fpkm_replicates.head()\n",
        "fpkm_replicates.shape"
      ],
      "metadata": {
        "colab": {
          "base_uri": "https://localhost:8080/"
        },
        "id": "jJS3NXKMiKp5",
        "outputId": "d4f92319-46e2-4e63-fd6d-571db191c63f"
      },
      "execution_count": 2,
      "outputs": [
        {
          "output_type": "execute_result",
          "data": {
            "text/plain": [
              "(33560, 48)"
            ]
          },
          "metadata": {},
          "execution_count": 2
        }
      ]
    },
    {
      "cell_type": "markdown",
      "source": [
        "#Gene Data Filtering"
      ],
      "metadata": {
        "id": "e5mCa3anifDY"
      }
    },
    {
      "cell_type": "code",
      "source": [
        "C_group = fpkm_replicates[[\"tracking_id\"]+[col for col in fpkm_replicates.columns if \"C\" in col]]\n",
        "S_group = fpkm_replicates[[\"tracking_id\"]+[col for col in fpkm_replicates.columns if \"S\" in col]]\n",
        "WT_group = fpkm_replicates[[\"tracking_id\"]+[col for col in fpkm_replicates.columns if \"WT\" in col]]\n",
        "\n",
        "\n",
        "def filter_data(df, min_num_of_non_zero=2):\n",
        "    mask = df.apply(lambda x: x[x != 0].count(), axis=1) >= min_num_of_non_zero\n",
        "    anti_mask = df.apply(lambda x: x[x != 0].count(), axis=1) < min_num_of_non_zero\n",
        "    filtered = df[mask]\n",
        "    removed = df[anti_mask]\n",
        "\n",
        "    return filtered, removed\n",
        "\n",
        "filtered_C, removed_C = filter_data(C_group)\n",
        "filtered_S, removed_S = filter_data(S_group)\n",
        "filtered_WT, removed_WT = filter_data(WT_group)"
      ],
      "metadata": {
        "id": "vgFj_DM3iTCF"
      },
      "execution_count": 3,
      "outputs": []
    },
    {
      "cell_type": "code",
      "source": [
        "# Get the union of filtered genes across all plant lines and removed genes\n",
        "\n",
        "# list(set(([1,2,3,4]+[2,3,5]+[4,5,6])))  -> [1, 2, 3, 4, 5, 6]\n",
        "\n",
        "filtered_genes_union = list(set( list(filtered_C[\"tracking_id\"]) + list(filtered_S[\"tracking_id\"]) + list(filtered_WT[\"tracking_id\"])))\n",
        "removed_genes = list( set(C_group[\"tracking_id\"]) - set(filtered_genes_union))\n",
        "\n",
        "pd.DataFrame(filtered_genes_union).to_csv(\"filtered_genes_union.csv\")\n",
        "pd.DataFrame(removed_genes).to_csv(\"removed_genes.csv\")\n",
        "\n",
        "len(filtered_genes_union), len(removed_genes)\n",
        "\n",
        "# Get the dataframes after filtering and union\n",
        "\n",
        "filtered_C, removed_C = C_group[C_group[\"tracking_id\"].isin(filtered_genes_union)], C_group[C_group[\"tracking_id\"].isin(removed_genes)]\n",
        "filtered_S, removed_S = S_group[S_group[\"tracking_id\"].isin(filtered_genes_union)], S_group[S_group[\"tracking_id\"].isin(removed_genes)]\n",
        "filtered_WT, removed_WT = WT_group[WT_group[\"tracking_id\"].isin(filtered_genes_union)], WT_group[WT_group[\"tracking_id\"].isin(removed_genes)]\n",
        "\n",
        "\n",
        "# Combine all filtered Lines\n",
        "filtered_all_lines = pd.DataFrame()\n",
        "filtered_all_lines = pd.concat([filtered_all_lines, filtered_C], axis =1)\n",
        "filtered_all_lines = pd.concat([filtered_all_lines, filtered_S[filtered_S.columns[1:]]], axis =1)\n",
        "filtered_all_lines = pd.concat([filtered_all_lines, filtered_WT[filtered_WT.columns[1:]]], axis =1)\n",
        "\n",
        "filtered_all_lines.to_excel(\"filtered_all_lines.xlsx\", index=False)\n",
        "filtered_all_lines = pd.DataFrame(pd.read_excel(\"filtered_all_lines.xlsx\"))"
      ],
      "metadata": {
        "id": "35vwSgz3iS7V"
      },
      "execution_count": 4,
      "outputs": []
    },
    {
      "cell_type": "code",
      "source": [
        "filtered_all_lines = pd.DataFrame(pd.read_excel(\"filtered_all_lines.xlsx\"))"
      ],
      "metadata": {
        "id": "SqTEfbA2FS9B"
      },
      "execution_count": 5,
      "outputs": []
    },
    {
      "cell_type": "markdown",
      "source": [
        "#Prepare Data for RNN"
      ],
      "metadata": {
        "id": "RVMq7R-9m0Zf"
      }
    },
    {
      "cell_type": "code",
      "source": [
        "def get_z_score(df):\n",
        "    # mean = df.mean(axis=None)\n",
        "    mean = df.mean().mean()\n",
        "    print (\"Mean\", mean)\n",
        "    # std = df.std(axis=None)\n",
        "    std = df.stack().std()\n",
        "    return (df- mean)/std\n",
        "\n",
        "def normalize_data(df, exclude_cols=None):\n",
        "    # if cols == None:\n",
        "    #     cols = df.select_dtypes(np.number).columns\n",
        "    all_cols = list(df.columns)\n",
        "    if exclude_cols!=None:\n",
        "        for i in exclude_cols:\n",
        "            all_cols.remove(i)\n",
        "    print (all_cols)\n",
        "\n",
        "    df[all_cols] = get_z_score(df[all_cols])\n",
        "    # df[all_cols] = minmax_scale(df[all_cols])\n",
        "    min_ = df[all_cols].min().min()\n",
        "    max_ = df[all_cols].max().max()\n",
        "\n",
        "    df[all_cols] = (df[all_cols]-min_)/(max_-min_)\n",
        "    return df\n",
        "\n",
        "def normalize_data_axis(df, axis=1):\n",
        "    MIN = df.min(axis)\n",
        "    print (MIN)\n",
        "    MAX = df.max(axis)\n",
        "    # df = df.apply(zscore,axis)\n",
        "    return df.sub(MIN, 1-axis).div(MAX-MIN, 1-axis)\n",
        "\n",
        "\n"
      ],
      "metadata": {
        "id": "BAMlc2FuiS3r"
      },
      "execution_count": 6,
      "outputs": []
    },
    {
      "cell_type": "code",
      "source": [
        "lines = [\"C\", \"S\", \"WT\"]\n",
        "# times = [\"0\", \"15\", \"30\", \"60\"]\n",
        "times = [\"0\", \"15\", \"30\"]\n",
        "replicates = [\"1\", \"2\", \"3\", \"4\"]\n",
        "\n",
        "# sample 1 - [over times [{counts, H, RMS, P, ..}]\n",
        "\n",
        "samples = []\n",
        "\n",
        "entire_data = {}\n",
        "\n",
        "# filtered_all_lines = pd.DataFrame(pd.read_excel(\"filtered_all_lines.xlsx\"))\n",
        "\n",
        "all_samples_names = list(filtered_all_lines.columns[1:])\n",
        "\n",
        "avg_freq_df = pd.DataFrame(pd.read_excel(\"AvgFreq.xlsx\"))\n",
        "rms_df = pd.DataFrame(pd.read_excel(\"RMS.xlsx\"))\n",
        "peaks_df = pd.DataFrame(pd.read_excel(\"Peaks.xlsx\"))\n",
        "crest_fac_df = pd.DataFrame(pd.read_excel(\"CrestFactor.xlsx\"))\n",
        "\n",
        "avg_freq_df_normalized = normalize_data_axis(avg_freq_df)\n",
        "rms_df_normalized = normalize_data_axis(rms_df)\n",
        "peaks_df_normalized = normalize_data_axis(peaks_df)\n",
        "crest_fac_df_normalized = normalize_data_axis(crest_fac_df)\n",
        "\n",
        "#write_all_data_path = \"input_data/normalized_data\"\n",
        "\n",
        "filtered_all_lines_normalized = normalize_data(filtered_all_lines, exclude_cols=[\"tracking_id\"])"
      ],
      "metadata": {
        "colab": {
          "base_uri": "https://localhost:8080/"
        },
        "id": "sQZC5Nc9iS0R",
        "outputId": "10bb7200-7feb-4fa1-c7ac-f7cbf7c51db4"
      },
      "execution_count": 7,
      "outputs": [
        {
          "output_type": "stream",
          "name": "stdout",
          "text": [
            "0    0.111782\n",
            "dtype: float64\n",
            "0    0.007604\n",
            "dtype: float64\n",
            "0    27.35835\n",
            "dtype: float64\n",
            "0    1.066357\n",
            "dtype: float64\n",
            "['C_0_1', 'C_0_2', 'C_0_3', 'C_0_4', 'C_15_1', 'C_15_2', 'C_15_3', 'C_15_4', 'C_30_1', 'C_30_2', 'C_30_3', 'C_30_4', 'C_60_1', 'C_60_2', 'C_60_3', 'C_60_4', 'S_0_1', 'S_0_2', 'S_0_3', 'S_0_4', 'S_15_1', 'S_15_2', 'S_15_3', 'S_15_4', 'S_30_1', 'S_30_2', 'S_30_3', 'S_30_4', 'S_60_1', 'S_60_2', 'S_60_3', 'S_60_4', 'WT_0_1', 'WT_0_2', 'WT_0_3', 'WT_0_4', 'WT_15_1', 'WT_15_2', 'WT_15_3', 'WT_30_1', 'WT_30_2', 'WT_30_3', 'WT_30_4', 'WT_60_1', 'WT_60_2', 'WT_60_3', 'WT_60_4']\n",
            "Mean 32.69667309097266\n"
          ]
        }
      ]
    },
    {
      "cell_type": "code",
      "source": [
        "all_gene_names = filtered_all_lines_normalized[\"tracking_id\"]"
      ],
      "metadata": {
        "id": "aS-Kb83dBd-T"
      },
      "execution_count": 8,
      "outputs": []
    },
    {
      "cell_type": "code",
      "source": [
        "from tqdm import tqdm\n",
        "import torch\n",
        "all_gene_names = filtered_all_lines_normalized[\"tracking_id\"]\n",
        "# Assuming 'all_gene_names' and 'filtered_all_lines_normalized' have been previously defined\n",
        "\n",
        "X_S = []  # Create a new list to hold the tensor data for the 'S' line\n",
        "\n",
        "for gene_name in tqdm(all_gene_names):\n",
        "\n",
        "    gene_data_S = []  # Data specific to 'S' line\n",
        "\n",
        "    for replicate in range(4):\n",
        "\n",
        "        time_data_S = []  # Data for different time points\n",
        "\n",
        "        for time in [0, 15, 30]:\n",
        "\n",
        "            time_based_replicate_S = f\"S_{time}_{replicate+1}\"  # Modify to reflect the 'S' line data\n",
        "\n",
        "            gene_count_S = filtered_all_lines_normalized[filtered_all_lines_normalized[\"tracking_id\"] == gene_name][time_based_replicate_S].item()\n",
        "\n",
        "            avg_frq_S = avg_freq_df_normalized[time_based_replicate_S].item()\n",
        "            rms_S = rms_df_normalized[time_based_replicate_S].item()\n",
        "            peak_S = peaks_df_normalized[time_based_replicate_S].item()\n",
        "            crest_fac_S = crest_fac_df_normalized[time_based_replicate_S].item()\n",
        "\n",
        "            time_data_S.append([gene_count_S, avg_frq_S, rms_S, peak_S, crest_fac_S])\n",
        "\n",
        "        gene_data_S.append(time_data_S)\n",
        "\n",
        "    X_S.append(gene_data_S)\n",
        "\n",
        "X_torch_S = torch.Tensor(X_S)  # Convert the list to a PyTorch tensor\n",
        "print(X_torch_S.shape)  # Check the shape of the created tensor\n"
      ],
      "metadata": {
        "id": "kpUQCD879zvR",
        "colab": {
          "base_uri": "https://localhost:8080/"
        },
        "outputId": "5d042db6-4cd4-4cd3-f800-4d63a83f4408"
      },
      "execution_count": null,
      "outputs": [
        {
          "output_type": "stream",
          "name": "stderr",
          "text": [
            "100%|██████████| 25706/25706 [21:30<00:00, 19.91it/s]\n"
          ]
        },
        {
          "output_type": "stream",
          "name": "stdout",
          "text": [
            "torch.Size([25706, 4, 3, 5])\n"
          ]
        }
      ]
    },
    {
      "cell_type": "code",
      "source": [
        "torch.save(X_torch_S, 'X_S.pt')"
      ],
      "metadata": {
        "id": "yJGZpsm3HhbX"
      },
      "execution_count": null,
      "outputs": []
    },
    {
      "cell_type": "code",
      "source": [
        "all_gene_names = filtered_all_lines_normalized[\"tracking_id\"]"
      ],
      "metadata": {
        "id": "vlYNIf4hNSTm"
      },
      "execution_count": null,
      "outputs": []
    },
    {
      "cell_type": "code",
      "source": [
        "from tqdm import tqdm\n",
        "\n",
        "all_gene_names = filtered_all_lines_normalized[\"tracking_id\"]\n",
        "Y_group_indexes_S = ['S_60_1', 'S_60_2', 'S_60_3', 'S_60_4']\n",
        "Y_S = []\n",
        "\n",
        "for gene_name in tqdm(all_gene_names):\n",
        "    each_sample_S = []\n",
        "    for time_based_replicate_S in Y_group_indexes_S:\n",
        "\n",
        "        gene_count_S = filtered_all_lines_normalized[filtered_all_lines_normalized[\"tracking_id\"]==gene_name][time_based_replicate_S].item()\n",
        "\n",
        "        Y_S.append(gene_count_S)\n"
      ],
      "metadata": {
        "colab": {
          "base_uri": "https://localhost:8080/"
        },
        "id": "GBRzsVUH1ZvH",
        "outputId": "c9105409-39a6-4c7f-a3b8-45568a1fb13a"
      },
      "execution_count": null,
      "outputs": [
        {
          "output_type": "stream",
          "name": "stderr",
          "text": [
            "100%|██████████| 25706/25706 [07:28<00:00, 57.37it/s]\n"
          ]
        }
      ]
    },
    {
      "cell_type": "code",
      "source": [
        "Y_torch_S = torch.Tensor(Y_S)\n",
        "print (Y_torch_S.shape)"
      ],
      "metadata": {
        "colab": {
          "base_uri": "https://localhost:8080/"
        },
        "id": "4uDK4wiW5tVF",
        "outputId": "abea8ae7-44c7-4931-d2d8-1928fa74e0d3"
      },
      "execution_count": null,
      "outputs": [
        {
          "output_type": "stream",
          "name": "stdout",
          "text": [
            "torch.Size([102824])\n"
          ]
        }
      ]
    },
    {
      "cell_type": "code",
      "source": [
        "import torch\n",
        "\n",
        "# X_torch = torch.Tensor(X)\n",
        "# Y_torch = torch.Tensor(Y)\n",
        "# print (X_torch.shape)\n",
        "torch.save(X_torch_S, 'X_S.pt')\n",
        "torch.save(Y_torch_S, 'Y_S.pt')"
      ],
      "metadata": {
        "id": "pOMrhfzPiSuB"
      },
      "execution_count": null,
      "outputs": []
    },
    {
      "cell_type": "code",
      "source": [
        "import torch\n",
        "X_torch_S = torch.load('X_S.pt')\n",
        "Y_torch_S = torch.load('Y_S.pt')\n",
        "Y_torch_S = Y_torch_S.reshape(Y_torch_S.shape[0],1)\n",
        "Y_torch_S.shape"
      ],
      "metadata": {
        "id": "q3vQwu0qiSrL",
        "colab": {
          "base_uri": "https://localhost:8080/"
        },
        "outputId": "252917d5-3895-43bc-b64e-af0c9ba1fb01"
      },
      "execution_count": 9,
      "outputs": [
        {
          "output_type": "execute_result",
          "data": {
            "text/plain": [
              "torch.Size([102824, 1])"
            ]
          },
          "metadata": {},
          "execution_count": 9
        }
      ]
    },
    {
      "cell_type": "code",
      "source": [
        "import torch.nn as nn\n",
        "# from nn.dropout import dropout\n",
        "X_re = X_torch_S.view(-1, 3, 5)\n",
        "# class LSTMModel(nn.Module):\n",
        "#     def __init__(self, input_dim, hidden_dim, num_layers, output_dim, drop_prob=0.2):\n",
        "#         super(LSTMModel, self).__init__()\n",
        "\n",
        "#         self.lstm = nn.LSTM(\n",
        "#             input_dim, hidden_dim, num_layers,\n",
        "#             batch_first=True, dropout=drop_prob\n",
        "#         )\n",
        "\n",
        "#         self.dropout = nn.Dropout(drop_prob)\n",
        "\n",
        "#         self.linear = nn.Linear(hidden_dim, output_dim)\n",
        "\n",
        "#     def forward(self, x):\n",
        "#         lstm_out, _ = self.lstm(x)\n",
        "\n",
        "#         out = self.dropout(lstm_out)\n",
        "#         out = out[:,-1,:] # taking the last time step\n",
        "\n",
        "#         out = self.linear(out)\n",
        "#         return out\n",
        "\n",
        "# model = LSTMModel(input_dim=1, hidden_dim=64, num_layers=2, output_dim=1, drop_prob=0.2)\n",
        "import torch.nn as nn\n",
        "\n",
        "class LSTMModel(nn.Module):\n",
        "    def __init__(self, input_dim, hidden_dim, num_layers, output_dim, drop_prob=0.3):\n",
        "        super(LSTMModel, self).__init__()\n",
        "\n",
        "        self.lstm = nn.LSTM(\n",
        "            input_dim, hidden_dim, num_layers,\n",
        "            batch_first=True, dropout=drop_prob\n",
        "        )\n",
        "\n",
        "        self.dropout = nn.Dropout(drop_prob)\n",
        "\n",
        "        self.linear = nn.Linear(hidden_dim, output_dim)\n",
        "        self.activation = nn.Softplus()\n",
        "\n",
        "    def forward(self, x):\n",
        "        lstm_out, _ = self.lstm(x)\n",
        "\n",
        "        out = self.dropout(lstm_out)\n",
        "        out = out[:,-1,:]\n",
        "\n",
        "        out = self.linear(out)\n",
        "\n",
        "        # Adding Tanh activation\n",
        "        out = self.activation(out)\n",
        "        return out\n",
        "\n",
        "model = LSTMModel(input_dim=X_torch_S.shape[3], hidden_dim=55,\n",
        "                  num_layers=2, output_dim=1, drop_prob=0.3)\n",
        "\n",
        "\n",
        "criterion = nn.MSELoss()\n",
        "optimizer = torch.optim.Adam(model.parameters(), lr=0.0075)\n",
        "\n",
        "for epoch in range(50):\n",
        "  optimizer.zero_grad()\n",
        "\n",
        "  y_pred = model(X_re)\n",
        "\n",
        "  loss = criterion(y_pred, Y_torch_S)\n",
        "  loss.backward()\n",
        "\n",
        "  optimizer.step()"
      ],
      "metadata": {
        "id": "seQKskwyBmMV"
      },
      "execution_count": 10,
      "outputs": []
    },
    {
      "cell_type": "code",
      "source": [
        "# Evaluate\n",
        "true_y = Y_torch_S.detach().numpy()\n",
        "pred_y = model(X_re).detach().numpy()\n",
        "print(pred_y.shape)\n",
        "import matplotlib.pyplot as plt\n",
        "import matplotlib.pyplot as plt\n",
        "plt.scatter(true_y, pred_y)\n",
        "plt.xlabel('True Y')\n",
        "plt.ylabel('Predicted Y')"
      ],
      "metadata": {
        "colab": {
          "base_uri": "https://localhost:8080/",
          "height": 485
        },
        "id": "Jvp1aL0pBmFy",
        "outputId": "0b0c2785-bcb8-4315-fc3c-5c8b54c25646"
      },
      "execution_count": 12,
      "outputs": [
        {
          "output_type": "stream",
          "name": "stdout",
          "text": [
            "(102824, 1)\n"
          ]
        },
        {
          "output_type": "execute_result",
          "data": {
            "text/plain": [
              "Text(0, 0.5, 'Predicted Y')"
            ]
          },
          "metadata": {},
          "execution_count": 12
        },
        {
          "output_type": "display_data",
          "data": {
            "text/plain": [
              "<Figure size 640x480 with 1 Axes>"
            ],
            "image/png": "[encoded data removed]"
          },
          "metadata": {}
        }
      ]
    },
    {
      "cell_type": "code",
      "source": [
        "to_num = 100\n",
        "\n",
        "plt.plot(range(to_num), pred_y[:to_num], color=\"red\", label=\"Predicted\")\n",
        "plt.plot(range(to_num), true_y[:to_num], color=\"green\", label=\"Actual\")\n",
        "\n",
        "plt.xlabel(\"Sample Index\")\n",
        "plt.ylabel(\"Values\")\n",
        "plt.legend()\n",
        "plt.show()"
      ],
      "metadata": {
        "colab": {
          "base_uri": "https://localhost:8080/",
          "height": 449
        },
        "id": "rGR6t5cBBmDM",
        "outputId": "783d240c-822a-4e78-f39c-d125767325ce"
      },
      "execution_count": 13,
      "outputs": [
        {
          "output_type": "display_data",
          "data": {
            "text/plain": [
              "<Figure size 640x480 with 1 Axes>"
            ],
            "image/png": "[encoded data removed]"
          },
          "metadata": {}
        }
      ]
    },
    {
      "cell_type": "code",
      "source": [
        "rmse_values = []\n",
        "for i in range(len(pred_y)):\n",
        "  rmse = np.sqrt(np.mean((pred_y[i] - true_y[i])**2))\n",
        "  rmse_values.append(rmse)\n",
        "\n",
        "# Create lists to store gene names and RMSE values\n",
        "gene_names = []\n",
        "rmse_list = []\n",
        "\n",
        "for i, gene_name in enumerate(all_gene_names):\n",
        "  gene_names.append(gene_name)\n",
        "  rmse_list.append(rmse_values[i])\n"
      ],
      "metadata": {
        "id": "AAbyWEqXBmAn"
      },
      "execution_count": 15,
      "outputs": []
    },
    {
      "cell_type": "code",
      "source": [
        "import csv\n",
        "\n",
        "gene_names_rmse = []\n",
        "\n",
        "for i, gene_name in enumerate(all_gene_names):\n",
        "  rmse = np.sqrt(np.mean((pred_y[i] - true_y[i])**2))\n",
        "  gene_rmse = (gene_name, rmse)\n",
        "  gene_names_rmse.append(gene_rmse)\n",
        "with open('gene_rmse_with_S.csv', 'w') as f:\n",
        "  writer = csv.writer(f)\n",
        "  writer.writerow(['Gene Name', 'RMSE']) # Column headers\n",
        "  for row in gene_names_rmse:\n",
        "    writer.writerow(row) # Each row is a tuple"
      ],
      "metadata": {
        "id": "cmAalf2XBl9_"
      },
      "execution_count": 18,
      "outputs": []
    },
    {
      "cell_type": "code",
      "source": [],
      "metadata": {
        "id": "46WCDBgxBl7I"
      },
      "execution_count": null,
      "outputs": []
    },
    {
      "cell_type": "code",
      "source": [],
      "metadata": {
        "id": "nnBRttCvBl15"
      },
      "execution_count": null,
      "outputs": []
    },
    {
      "cell_type": "code",
      "source": [],
      "metadata": {
        "id": "_uo_MchcBlzT"
      },
      "execution_count": null,
      "outputs": []
    },
    {
      "cell_type": "code",
      "source": [],
      "metadata": {
        "id": "Um77N8wSBlws"
      },
      "execution_count": null,
      "outputs": []
    },
    {
      "cell_type": "code",
      "source": [],
      "metadata": {
        "id": "8iwZyQVDDuER"
      },
      "execution_count": null,
      "outputs": []
    },
    {
      "cell_type": "code",
      "source": [],
      "metadata": {
        "id": "RSJ2FOSIDuBr"
      },
      "execution_count": null,
      "outputs": []
    },
    {
      "cell_type": "code",
      "source": [],
      "metadata": {
        "id": "jd_5Az28Dt-z"
      },
      "execution_count": null,
      "outputs": []
    },
    {
      "cell_type": "code",
      "source": [],
      "metadata": {
        "id": "PJFUjs-vBluI"
      },
      "execution_count": null,
      "outputs": []
    },
    {
      "cell_type": "markdown",
      "source": [
        "#RNN"
      ],
      "metadata": {
        "id": "34bC82Md36-p"
      }
    },
    {
      "cell_type": "markdown",
      "source": [
        "#Modified LSTM"
      ],
      "metadata": {
        "id": "4MhypUUGsGxH"
      }
    },
    {
      "cell_type": "code",
      "source": [
        "import torch.nn as nn\n",
        "from torch.autograd import Variable\n",
        "class ImprovedLSTM(nn.Module):\n",
        "    def __init__(self, input_size, hidden_size, num_layers, seq_length):\n",
        "        super(ImprovedLSTM, self).__init__()\n",
        "\n",
        "        # Added L2 regularization\n",
        "        self.reg_lambda = 0.01\n",
        "\n",
        "        self.num_layers = num_layers\n",
        "        self.input_size = input_size\n",
        "        self.hidden_size = hidden_size\n",
        "        self.seq_length = seq_length\n",
        "\n",
        "        self.lstm = nn.LSTM(input_size=input_size, hidden_size=hidden_size, num_layers=num_layers, batch_first=True)\n",
        "\n",
        "        # Added dropout layer\n",
        "        self.dropout = nn.Dropout(p=0.3)\n",
        "\n",
        "        self.fc_1 = nn.Linear(hidden_size, 128)\n",
        "        self.fc = nn.Linear(128, 1)\n",
        "\n",
        "        self.relu = nn.ReLU()\n",
        "\n",
        "    def forward(self, x):\n",
        "        # Added dropout\n",
        "        x = self.dropout(x)\n",
        "        x = x.view(-1, self.seq_length, self.input_size)\n",
        "\n",
        "        h_0 = Variable(torch.zeros(self.num_layers, x.size(0), self.hidden_size))\n",
        "        c_0 = Variable(torch.zeros(self.num_layers, x.size(0), self.hidden_size))\n",
        "        output, (hn, cn) = self.lstm(x, (h_0, c_0))\n",
        "        hn = hn.view(-1, self.hidden_size)\n",
        "        out = self.relu(hn)\n",
        "        out = self.fc_1(out)\n",
        "        out = self.relu(out)\n",
        "        out = self.fc(out)\n",
        "        out = self.relu(out)  # Removed final activation for regression\n",
        "        return out\n",
        "\n",
        "\n"
      ],
      "metadata": {
        "id": "1gYAKzvC9wBT"
      },
      "execution_count": null,
      "outputs": []
    },
    {
      "cell_type": "code",
      "source": [
        "num_epochs = 100  # 1000 epochs\n",
        "learning_rate = 0.0001 # 0.001 lr\n",
        "\n",
        "input_size = X_torch_S.shape[3]  # number of features ==5\n",
        "hidden_size = 20  # number of features in hidden state\n",
        "num_layers = 1  # number of stacked lstm layers\n",
        "\n",
        "num_classes = 1  # number of output classes\n",
        "\n",
        "seq_length = X_torch_S.shape[1] #4\n"
      ],
      "metadata": {
        "id": "Wsz8H4f_iSlu"
      },
      "execution_count": null,
      "outputs": []
    },
    {
      "cell_type": "code",
      "source": [
        "print(input_size)"
      ],
      "metadata": {
        "colab": {
          "base_uri": "https://localhost:8080/"
        },
        "id": "PXOcFOUoaCIR",
        "outputId": "d9db991f-a793-4ccd-c66e-7f02d473036a"
      },
      "execution_count": null,
      "outputs": [
        {
          "output_type": "stream",
          "name": "stdout",
          "text": [
            "5\n"
          ]
        }
      ]
    },
    {
      "cell_type": "code",
      "source": [
        "from torch.optim.lr_scheduler import CosineAnnealingLR\n",
        "from torch.optim.lr_scheduler import ReduceLROnPlateau\n",
        "\n",
        "# Initialize the model with the appropriate arguments\n",
        "lstm1 = ImprovedLSTM(input_size, hidden_size, num_layers, seq_length) #our lstm class\n",
        "print(lstm1)\n",
        "\n",
        "criterion = nn.MSELoss()\n",
        "\n",
        "def loss_function(outputs, targets):\n",
        "    loss = criterion(outputs, targets)\n",
        "    l2_reg = 0\n",
        "\n",
        "    for param in model.parameters():\n",
        "        l2_reg += torch.norm(param)\n",
        "\n",
        "    return loss + self.reg_lambda * l2_reg  # mean-squared error for regression\n",
        "\n",
        "# Choose an optimizer (e.g., SGD or Adam)\n",
        "optimizer = torch.optim.SGD(lstm1.parameters(), lr=0.001, momentum=0.9)\n",
        "\n",
        "# Initialize the learning rate scheduler\n",
        "scheduler = ReduceLROnPlateau(optimizer, 'min', patience=5)"
      ],
      "metadata": {
        "id": "zK8Hu4XciSja",
        "colab": {
          "base_uri": "https://localhost:8080/"
        },
        "outputId": "33587ea5-cd96-4be0-944b-4ae8ec9dae88"
      },
      "execution_count": null,
      "outputs": [
        {
          "output_type": "stream",
          "name": "stdout",
          "text": [
            "ImprovedLSTM(\n",
            "  (lstm): LSTM(5, 20, batch_first=True)\n",
            "  (dropout): Dropout(p=0.3, inplace=False)\n",
            "  (fc_1): Linear(in_features=20, out_features=128, bias=True)\n",
            "  (fc): Linear(in_features=128, out_features=1, bias=True)\n",
            "  (relu): ReLU()\n",
            ")\n"
          ]
        }
      ]
    },
    {
      "cell_type": "markdown",
      "source": [
        "#Training Loop"
      ],
      "metadata": {
        "id": "DR8xRA-bLGC9"
      }
    },
    {
      "cell_type": "code",
      "source": [
        "print(X_torch_S.shape)\n",
        "print(Y_torch_S.shape)"
      ],
      "metadata": {
        "colab": {
          "base_uri": "https://localhost:8080/"
        },
        "id": "NcEz0Votc8am",
        "outputId": "4eff94ef-a201-45a5-fade-158d18e474f4"
      },
      "execution_count": null,
      "outputs": [
        {
          "output_type": "stream",
          "name": "stdout",
          "text": [
            "torch.Size([25706, 4, 3, 5])\n",
            "torch.Size([102824, 1])\n"
          ]
        }
      ]
    },
    {
      "cell_type": "code",
      "source": [
        "from tqdm.notebook import tqdm\n",
        "\n",
        "Y_torch_S = Y_torch_S[:77118]\n",
        "for epoch in tqdm(range(num_epochs)):\n",
        "    outputs = lstm1.forward(X_torch_S) #forward pass\n",
        "\n",
        "    optimizer.zero_grad() #caluclate the gradient, manually setting to 0\n",
        "    # obtain the loss function\n",
        "\n",
        "    # print (outputs.shape, Y_torch.shape)\n",
        "    loss = criterion(outputs, Y_torch_S)\n",
        "\n",
        "    loss.backward() #calculates the loss of the loss function\n",
        "\n",
        "    optimizer.step() #improve from loss, i.e backprop\n",
        "    scheduler.step(loss)\n",
        "    with torch.no_grad():\n",
        "        if epoch % 5 == 0:\n",
        "            print(\"Epoch: %d, loss: %1.5f\" % (epoch, loss.item()))\n",
        "            print(\"RMSE:\", np.sqrt(loss.item()))"
      ],
      "metadata": {
        "colab": {
          "base_uri": "https://localhost:8080/",
          "height": 743,
          "referenced_widgets": [
            "e4a830dd1f684549999b59feb4cfd7ce",
            "d745734ae18448c1bcf8e7403f0eaa06",
            "d64d04073f4844deb12e4467d60ae51a",
            "df6d5b7f111a49fbacaa3430669dc174",
            "380d01336ef249e99c4a28ff1d765c65",
            "a64c264c8fc948c6b777219213653a1e",
            "53144a2e60dd4522a764eb25723f02f6",
            "6ba2de7c01124359bccbfe85fc7ad04b",
            "4636e35e08fd4abf9b8208cf76270393",
            "713290a505994f808c6845728376bbca",
            "317f8ed6d38242629137a3bfa816ac2c"
          ]
        },
        "id": "nBdH7vxuLFWK",
        "outputId": "22f411d7-8d87-4062-a43a-80cead30625a"
      },
      "execution_count": null,
      "outputs": [
        {
          "output_type": "display_data",
          "data": {
            "text/plain": [
              "  0%|          | 0/100 [00:00<?, ?it/s]"
            ],
            "application/vnd.jupyter.widget-view+json": {
              "version_major": 2,
              "version_minor": 0,
              "model_id": "e4a830dd1f684549999b59feb4cfd7ce"
            }
          },
          "metadata": {}
        },
        {
          "output_type": "stream",
          "name": "stdout",
          "text": [
            "Epoch: 0, loss: 0.00212\n",
            "RMSE: 0.04599124322005784\n",
            "Epoch: 5, loss: 0.00185\n",
            "RMSE: 0.043007479628696166\n",
            "Epoch: 10, loss: 0.00138\n",
            "RMSE: 0.03708485527349993\n",
            "Epoch: 15, loss: 0.00091\n",
            "RMSE: 0.03015090579092998\n",
            "Epoch: 20, loss: 0.00055\n",
            "RMSE: 0.02354405069855693\n",
            "Epoch: 25, loss: 0.00033\n",
            "RMSE: 0.018152493367533846\n",
            "Epoch: 30, loss: 0.00021\n",
            "RMSE: 0.014465482425310278\n",
            "Epoch: 35, loss: 0.00015\n",
            "RMSE: 0.012289674669773704\n",
            "Epoch: 40, loss: 0.00012\n",
            "RMSE: 0.011093153422267082\n",
            "Epoch: 45, loss: 0.00011\n",
            "RMSE: 0.010452528066315893\n",
            "Epoch: 50, loss: 0.00010\n",
            "RMSE: 0.010142192516869644\n",
            "Epoch: 55, loss: 0.00010\n",
            "RMSE: 0.009945790025966593\n",
            "Epoch: 60, loss: 0.00010\n",
            "RMSE: 0.009809608429136413\n",
            "Epoch: 65, loss: 0.00009\n",
            "RMSE: 0.009721455673240625\n",
            "Epoch: 70, loss: 0.00009\n",
            "RMSE: 0.009687037083766456\n",
            "Epoch: 75, loss: 0.00009\n",
            "RMSE: 0.009660383973646002\n",
            "Epoch: 80, loss: 0.00009\n",
            "RMSE: 0.009625029274254255\n",
            "Epoch: 85, loss: 0.00009\n",
            "RMSE: 0.009605128577360024\n",
            "Epoch: 90, loss: 0.00009\n",
            "RMSE: 0.009589766917362788\n",
            "Epoch: 95, loss: 0.00009\n",
            "RMSE: 0.009570176077376407\n"
          ]
        }
      ]
    },
    {
      "cell_type": "code",
      "source": [
        "# Import necessary libraries and functions\n",
        "import torch.optim as optim\n",
        "import torch.utils.data as data\n",
        "from scipy.stats import zscore\n",
        "\n",
        "# Define a function to calculate Z-scores for data\n",
        "def get_z_score(df):\n",
        "    mean = df.mean().mean()\n",
        "    std = df.stack().std()\n",
        "    return (df - mean) / std\n",
        "\n",
        "# Define a function to normalize data\n",
        "def normalize_data(df, exclude_cols=None):\n",
        "    all_cols = list(df.columns)\n",
        "    if exclude_cols:\n",
        "        for col in exclude_cols:\n",
        "            all_cols.remove(col)\n",
        "\n",
        "    df[all_cols] = get_z_score(df[all_cols])\n",
        "    min_ = df[all_cols].min().min()\n",
        "    max_ = df[all_cols].max().max()\n",
        "    df[all_cols] = (df[all_cols] - min_) / (max_ - min_)\n",
        "    return df\n",
        "\n",
        "# Define a function to normalize data along a specified axis\n",
        "def normalize_data_axis(df, axis=1):\n",
        "    MIN = df.min(axis)\n",
        "    MAX = df.max(axis)\n",
        "    return df.sub(MIN, 1 - axis).div(MAX - MIN, 1 - axis)\n",
        "\n",
        "# Load and preprocess your data using these functions\n",
        "filtered_all_lines_temp = filtered_all_lines[filtered_all_lines.columns[1:]]\n",
        "std = filtered_all_lines_temp.stack().std()\n",
        "mean = filtered_all_lines_temp.mean().mean()\n",
        "Min = filtered_all_lines_temp.min().min()\n",
        "Max = filtered_all_lines_temp.max().max()\n",
        "\n",
        "predicted_values = []\n",
        "\n",
        "with torch.no_grad():\n",
        "    predicted_values = lstm1.forward(X_torch_S)\n",
        "    predicted_values = predicted_values.numpy()\n",
        "\n",
        "predicted_values = predicted_values[:77118]\n",
        "\n",
        "print(predicted_values[100])\n",
        "\n",
        "# Normalize the predicted values\n",
        "# normalized = predicted_values\n",
        "# for i in range(len(normalized)):\n",
        "#     normalized[i] = (normalized[i] - Min) / (Max - Min)\n",
        "\n",
        "# Example of plotting using matplotlib\n",
        "import matplotlib.pyplot as plt\n",
        "\n",
        "to_num = 500\n",
        "pred_pres = predicted_values[:to_num] #changed from normalized[:to_num]\n",
        "x_coords = [i for i in range(to_num)]\n",
        "\n",
        "actuals = []\n",
        "for i in range(len(Y_torch_S)):\n",
        "    actuals.append(Y_torch_S[i])\n",
        "\n",
        "actuals = actuals[:to_num]\n",
        "\n",
        "plt.plot(x_coords, pred_pres, color=\"red\", label=\"Predicted\")\n",
        "plt.plot(x_coords, actuals, color=\"green\", label=\"Actual\")\n",
        "plt.xlabel(\"Sample Index\")\n",
        "plt.ylabel(\"Normalized Values\")\n",
        "plt.legend()\n",
        "plt.show()\n"
      ],
      "metadata": {
        "colab": {
          "base_uri": "https://localhost:8080/",
          "height": 556
        },
        "id": "V0gA4UHbbgT6",
        "outputId": "643514aa-081d-4998-bd3b-e55e00757b32"
      },
      "execution_count": null,
      "outputs": [
        {
          "output_type": "stream",
          "name": "stdout",
          "text": [
            "[0.]\n"
          ]
        },
        {
          "output_type": "stream",
          "name": "stderr",
          "text": [
            "/usr/local/lib/python3.10/dist-packages/numpy/core/shape_base.py:65: FutureWarning: The input object of type 'Tensor' is an array-like implementing one of the corresponding protocols (`__array__`, `__array_interface__` or `__array_struct__`); but not a sequence (or 0-D). In the future, this object will be coerced as if it was first converted using `np.array(obj)`. To retain the old behaviour, you have to either modify the type 'Tensor', or assign to an empty array created with `np.empty(correct_shape, dtype=object)`.\n",
            "  ary = asanyarray(ary)\n",
            "/usr/local/lib/python3.10/dist-packages/numpy/core/shape_base.py:65: VisibleDeprecationWarning: Creating an ndarray from ragged nested sequences (which is a list-or-tuple of lists-or-tuples-or ndarrays with different lengths or shapes) is deprecated. If you meant to do this, you must specify 'dtype=object' when creating the ndarray.\n",
            "  ary = asanyarray(ary)\n"
          ]
        },
        {
          "output_type": "display_data",
          "data": {
            "text/plain": [
              "<Figure size 640x480 with 1 Axes>"
            ],
            "image/png": "[encoded data removed]"
          },
          "metadata": {}
        }
      ]
    },
    {
      "cell_type": "code",
      "source": [
        "# test to check values, with input data only\n",
        "\n",
        "import matplotlib.pyplot as plt\n",
        "# %matplotlib inline\n",
        "\n",
        "sample = X[1]\n",
        "predicted_values = []\n",
        "\n",
        "with torch.no_grad():\n",
        "    # for sample in X:\n",
        "    predicted_values = lstm1.forward(torch.Tensor(X))\n",
        "    predicted_values = predicted_values.numpy()\n",
        "        # .data.numpy()\n",
        "        # predicted_values.append(predicted_values)\n",
        "# predicted_values= predicted_values.reshape(len(Y),).tolist()\n",
        "print (len(predicted_values))"
      ],
      "metadata": {
        "colab": {
          "base_uri": "https://localhost:8080/",
          "height": 246
        },
        "id": "9ZHF5Vg7iSeb",
        "outputId": "753caca0-729e-437d-8ffc-c34d424df879"
      },
      "execution_count": null,
      "outputs": [
        {
          "output_type": "error",
          "ename": "NameError",
          "evalue": "ignored",
          "traceback": [
            "\u001b[0;31m---------------------------------------------------------------------------\u001b[0m",
            "\u001b[0;31mNameError\u001b[0m                                 Traceback (most recent call last)",
            "\u001b[0;32m<ipython-input-20-252eb4dd5e97>\u001b[0m in \u001b[0;36m<cell line: 6>\u001b[0;34m()\u001b[0m\n\u001b[1;32m      4\u001b[0m \u001b[0;31m# %matplotlib inline\u001b[0m\u001b[0;34m\u001b[0m\u001b[0;34m\u001b[0m\u001b[0m\n\u001b[1;32m      5\u001b[0m \u001b[0;34m\u001b[0m\u001b[0m\n\u001b[0;32m----> 6\u001b[0;31m \u001b[0msample\u001b[0m \u001b[0;34m=\u001b[0m \u001b[0mX\u001b[0m\u001b[0;34m[\u001b[0m\u001b[0;36m1\u001b[0m\u001b[0;34m]\u001b[0m\u001b[0;34m\u001b[0m\u001b[0;34m\u001b[0m\u001b[0m\n\u001b[0m\u001b[1;32m      7\u001b[0m \u001b[0mpredicted_values\u001b[0m \u001b[0;34m=\u001b[0m \u001b[0;34m[\u001b[0m\u001b[0;34m]\u001b[0m\u001b[0;34m\u001b[0m\u001b[0;34m\u001b[0m\u001b[0m\n\u001b[1;32m      8\u001b[0m \u001b[0;34m\u001b[0m\u001b[0m\n",
            "\u001b[0;31mNameError\u001b[0m: name 'X' is not defined"
          ]
        }
      ]
    },
    {
      "cell_type": "code",
      "source": [
        "to_num = 500\n",
        "\n",
        "pred_pres = predicted_values[:to_num]\n",
        "x_coords = [i for i in range(to_num)]\n",
        "actual = Y_torch[:to_num]\n",
        "\n",
        "plt.plot(x_coords, pred_pres, 'o', color = \"red\")\n",
        "plt.plot(x_coords, actual , 'o', color = \"green\")\n",
        "# plt.plot(len(Y), Y)\n"
      ],
      "metadata": {
        "colab": {
          "base_uri": "https://localhost:8080/",
          "height": 447
        },
        "id": "964DUXehiScE",
        "outputId": "9553a9d4-b613-4028-9ed1-7f9cd129591a"
      },
      "execution_count": null,
      "outputs": [
        {
          "output_type": "execute_result",
          "data": {
            "text/plain": [
              "[<matplotlib.lines.Line2D at 0x7d5be7b3b9d0>]"
            ]
          },
          "metadata": {},
          "execution_count": 30
        },
        {
          "output_type": "display_data",
          "data": {
            "text/plain": [
              "<Figure size 640x480 with 1 Axes>"
            ],
            "image/png": "[encoded data removed]"
          },
          "metadata": {}
        }
      ]
    },
    {
      "cell_type": "code",
      "source": [
        "gene_names_rmse = []\n",
        "\n",
        "for i, gene_name in enumerate(all_gene_names):\n",
        "  rmse = np.sqrt(np.mean((predicted_values[i] - Y_torch_S[i].numpy())**2))\n",
        "  gene_rmse = (gene_name, rmse)\n",
        "  gene_names_rmse.append(gene_rmse)\n",
        "\n",
        "# gene_names_rmse is now a list of tuples (gene_name, rmse)"
      ],
      "metadata": {
        "id": "njfW0Ac25B1Y"
      },
      "execution_count": null,
      "outputs": []
    },
    {
      "cell_type": "code",
      "source": [
        "import csv\n",
        "\n",
        "gene_names_rmse = []\n",
        "\n",
        "for i, gene_name in enumerate(all_gene_names):\n",
        "  rmse = np.sqrt(np.mean((predicted_values[i] - Y_torch_S[i].numpy())**2))\n",
        "  gene_rmse = (gene_name, rmse)\n",
        "  gene_names_rmse.append(gene_rmse)\n",
        "\n",
        "with open('gene_rmse_S_Line.csv', 'w') as f:\n",
        "  writer = csv.writer(f)\n",
        "  writer.writerow(['Gene Name', 'RMSE']) # Column headers\n",
        "  for row in gene_names_rmse:\n",
        "    writer.writerow(row) # Each row is a tuple"
      ],
      "metadata": {
        "id": "2Tb88gc05Bs1"
      },
      "execution_count": null,
      "outputs": []
    },
    {
      "cell_type": "code",
      "source": [],
      "metadata": {
        "id": "j2IF8G795Bjn"
      },
      "execution_count": null,
      "outputs": []
    },
    {
      "cell_type": "code",
      "source": [],
      "metadata": {
        "id": "W05uwR1v5Bgy"
      },
      "execution_count": null,
      "outputs": []
    },
    {
      "cell_type": "code",
      "source": [],
      "metadata": {
        "id": "LMb6M22s5Bcz"
      },
      "execution_count": null,
      "outputs": []
    },
    {
      "cell_type": "code",
      "source": [],
      "metadata": {
        "id": "PZIn6XId5BaB"
      },
      "execution_count": null,
      "outputs": []
    },
    {
      "cell_type": "code",
      "source": [],
      "metadata": {
        "id": "is6-Vj2L5BW6"
      },
      "execution_count": null,
      "outputs": []
    },
    {
      "cell_type": "code",
      "source": [],
      "metadata": {
        "id": "4HEJSvF_iSOQ"
      },
      "execution_count": null,
      "outputs": []
    },
    {
      "cell_type": "code",
      "source": [],
      "metadata": {
        "id": "4t2tvwgeiSLp"
      },
      "execution_count": null,
      "outputs": []
    },
    {
      "cell_type": "code",
      "source": [],
      "metadata": {
        "id": "kQefHHCIiSGL"
      },
      "execution_count": null,
      "outputs": []
    },
    {
      "cell_type": "code",
      "source": [],
      "metadata": {
        "id": "vaRHc0ETiSDn"
      },
      "execution_count": null,
      "outputs": []
    }
  ]
}