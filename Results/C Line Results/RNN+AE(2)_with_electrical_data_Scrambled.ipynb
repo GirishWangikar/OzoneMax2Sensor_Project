{
  "nbformat": 4,
  "nbformat_minor": 0,
  "metadata": {
    "colab": {
      "provenance": []
    },
    "kernelspec": {
      "name": "python3",
      "display_name": "Python 3"
    },
    "language_info": {
      "name": "python"
    },
    "widgets": {
      "application/vnd.jupyter.widget-state+json": {
        "59a58dbff1ab435498220e480abe937e": {
          "model_module": "@jupyter-widgets/controls",
          "model_name": "HBoxModel",
          "model_module_version": "1.5.0",
          "state": {
            "_dom_classes": [],
            "_model_module": "@jupyter-widgets/controls",
            "_model_module_version": "1.5.0",
            "_model_name": "HBoxModel",
            "_view_count": null,
            "_view_module": "@jupyter-widgets/controls",
            "_view_module_version": "1.5.0",
            "_view_name": "HBoxView",
            "box_style": "",
            "children": [
              "IPY_MODEL_5f01ea20d73c440c855833165e1923a2",
              "IPY_MODEL_e2ab31fd915a497a8a92782a593e2ba2",
              "IPY_MODEL_7d71c135d97f4ea79b4199c57f1daa3b"
            ],
            "layout": "IPY_MODEL_ed6d0fbec59945cfa0f43be31dd816db"
          }
        },
        "5f01ea20d73c440c855833165e1923a2": {
          "model_module": "@jupyter-widgets/controls",
          "model_name": "HTMLModel",
          "model_module_version": "1.5.0",
          "state": {
            "_dom_classes": [],
            "_model_module": "@jupyter-widgets/controls",
            "_model_module_version": "1.5.0",
            "_model_name": "HTMLModel",
            "_view_count": null,
            "_view_module": "@jupyter-widgets/controls",
            "_view_module_version": "1.5.0",
            "_view_name": "HTMLView",
            "description": "",
            "description_tooltip": null,
            "layout": "IPY_MODEL_ec25e973e23f4eec8388e4a31e65930d",
            "placeholder": "​",
            "style": "IPY_MODEL_c79ea6c2442944dab30ca23f4cb968bb",
            "value": "  0%"
          }
        },
        "e2ab31fd915a497a8a92782a593e2ba2": {
          "model_module": "@jupyter-widgets/controls",
          "model_name": "FloatProgressModel",
          "model_module_version": "1.5.0",
          "state": {
            "_dom_classes": [],
            "_model_module": "@jupyter-widgets/controls",
            "_model_module_version": "1.5.0",
            "_model_name": "FloatProgressModel",
            "_view_count": null,
            "_view_module": "@jupyter-widgets/controls",
            "_view_module_version": "1.5.0",
            "_view_name": "ProgressView",
            "bar_style": "danger",
            "description": "",
            "description_tooltip": null,
            "layout": "IPY_MODEL_9bbaa169026f438198872e5f2a3de2a1",
            "max": 250,
            "min": 0,
            "orientation": "horizontal",
            "style": "IPY_MODEL_ea584e8a548e4b5daeac8690f0dc213f",
            "value": 0
          }
        },
        "7d71c135d97f4ea79b4199c57f1daa3b": {
          "model_module": "@jupyter-widgets/controls",
          "model_name": "HTMLModel",
          "model_module_version": "1.5.0",
          "state": {
            "_dom_classes": [],
            "_model_module": "@jupyter-widgets/controls",
            "_model_module_version": "1.5.0",
            "_model_name": "HTMLModel",
            "_view_count": null,
            "_view_module": "@jupyter-widgets/controls",
            "_view_module_version": "1.5.0",
            "_view_name": "HTMLView",
            "description": "",
            "description_tooltip": null,
            "layout": "IPY_MODEL_f1f60fd4d25045f5ac6580acd71128e6",
            "placeholder": "​",
            "style": "IPY_MODEL_52aeba6b5fc14a048101a31adb8fa2c8",
            "value": " 0/250 [00:00&lt;?, ?it/s]"
          }
        },
        "ed6d0fbec59945cfa0f43be31dd816db": {
          "model_module": "@jupyter-widgets/base",
          "model_name": "LayoutModel",
          "model_module_version": "1.2.0",
          "state": {
            "_model_module": "@jupyter-widgets/base",
            "_model_module_version": "1.2.0",
            "_model_name": "LayoutModel",
            "_view_count": null,
            "_view_module": "@jupyter-widgets/base",
            "_view_module_version": "1.2.0",
            "_view_name": "LayoutView",
            "align_content": null,
            "align_items": null,
            "align_self": null,
            "border": null,
            "bottom": null,
            "display": null,
            "flex": null,
            "flex_flow": null,
            "grid_area": null,
            "grid_auto_columns": null,
            "grid_auto_flow": null,
            "grid_auto_rows": null,
            "grid_column": null,
            "grid_gap": null,
            "grid_row": null,
            "grid_template_areas": null,
            "grid_template_columns": null,
            "grid_template_rows": null,
            "height": null,
            "justify_content": null,
            "justify_items": null,
            "left": null,
            "margin": null,
            "max_height": null,
            "max_width": null,
            "min_height": null,
            "min_width": null,
            "object_fit": null,
            "object_position": null,
            "order": null,
            "overflow": null,
            "overflow_x": null,
            "overflow_y": null,
            "padding": null,
            "right": null,
            "top": null,
            "visibility": null,
            "width": null
          }
        },
        "ec25e973e23f4eec8388e4a31e65930d": {
          "model_module": "@jupyter-widgets/base",
          "model_name": "LayoutModel",
          "model_module_version": "1.2.0",
          "state": {
            "_model_module": "@jupyter-widgets/base",
            "_model_module_version": "1.2.0",
            "_model_name": "LayoutModel",
            "_view_count": null,
            "_view_module": "@jupyter-widgets/base",
            "_view_module_version": "1.2.0",
            "_view_name": "LayoutView",
            "align_content": null,
            "align_items": null,
            "align_self": null,
            "border": null,
            "bottom": null,
            "display": null,
            "flex": null,
            "flex_flow": null,
            "grid_area": null,
            "grid_auto_columns": null,
            "grid_auto_flow": null,
            "grid_auto_rows": null,
            "grid_column": null,
            "grid_gap": null,
            "grid_row": null,
            "grid_template_areas": null,
            "grid_template_columns": null,
            "grid_template_rows": null,
            "height": null,
            "justify_content": null,
            "justify_items": null,
            "left": null,
            "margin": null,
            "max_height": null,
            "max_width": null,
            "min_height": null,
            "min_width": null,
            "object_fit": null,
            "object_position": null,
            "order": null,
            "overflow": null,
            "overflow_x": null,
            "overflow_y": null,
            "padding": null,
            "right": null,
            "top": null,
            "visibility": null,
            "width": null
          }
        },
        "c79ea6c2442944dab30ca23f4cb968bb": {
          "model_module": "@jupyter-widgets/controls",
          "model_name": "DescriptionStyleModel",
          "model_module_version": "1.5.0",
          "state": {
            "_model_module": "@jupyter-widgets/controls",
            "_model_module_version": "1.5.0",
            "_model_name": "DescriptionStyleModel",
            "_view_count": null,
            "_view_module": "@jupyter-widgets/base",
            "_view_module_version": "1.2.0",
            "_view_name": "StyleView",
            "description_width": ""
          }
        },
        "9bbaa169026f438198872e5f2a3de2a1": {
          "model_module": "@jupyter-widgets/base",
          "model_name": "LayoutModel",
          "model_module_version": "1.2.0",
          "state": {
            "_model_module": "@jupyter-widgets/base",
            "_model_module_version": "1.2.0",
            "_model_name": "LayoutModel",
            "_view_count": null,
            "_view_module": "@jupyter-widgets/base",
            "_view_module_version": "1.2.0",
            "_view_name": "LayoutView",
            "align_content": null,
            "align_items": null,
            "align_self": null,
            "border": null,
            "bottom": null,
            "display": null,
            "flex": null,
            "flex_flow": null,
            "grid_area": null,
            "grid_auto_columns": null,
            "grid_auto_flow": null,
            "grid_auto_rows": null,
            "grid_column": null,
            "grid_gap": null,
            "grid_row": null,
            "grid_template_areas": null,
            "grid_template_columns": null,
            "grid_template_rows": null,
            "height": null,
            "justify_content": null,
            "justify_items": null,
            "left": null,
            "margin": null,
            "max_height": null,
            "max_width": null,
            "min_height": null,
            "min_width": null,
            "object_fit": null,
            "object_position": null,
            "order": null,
            "overflow": null,
            "overflow_x": null,
            "overflow_y": null,
            "padding": null,
            "right": null,
            "top": null,
            "visibility": null,
            "width": null
          }
        },
        "ea584e8a548e4b5daeac8690f0dc213f": {
          "model_module": "@jupyter-widgets/controls",
          "model_name": "ProgressStyleModel",
          "model_module_version": "1.5.0",
          "state": {
            "_model_module": "@jupyter-widgets/controls",
            "_model_module_version": "1.5.0",
            "_model_name": "ProgressStyleModel",
            "_view_count": null,
            "_view_module": "@jupyter-widgets/base",
            "_view_module_version": "1.2.0",
            "_view_name": "StyleView",
            "bar_color": null,
            "description_width": ""
          }
        },
        "f1f60fd4d25045f5ac6580acd71128e6": {
          "model_module": "@jupyter-widgets/base",
          "model_name": "LayoutModel",
          "model_module_version": "1.2.0",
          "state": {
            "_model_module": "@jupyter-widgets/base",
            "_model_module_version": "1.2.0",
            "_model_name": "LayoutModel",
            "_view_count": null,
            "_view_module": "@jupyter-widgets/base",
            "_view_module_version": "1.2.0",
            "_view_name": "LayoutView",
            "align_content": null,
            "align_items": null,
            "align_self": null,
            "border": null,
            "bottom": null,
            "display": null,
            "flex": null,
            "flex_flow": null,
            "grid_area": null,
            "grid_auto_columns": null,
            "grid_auto_flow": null,
            "grid_auto_rows": null,
            "grid_column": null,
            "grid_gap": null,
            "grid_row": null,
            "grid_template_areas": null,
            "grid_template_columns": null,
            "grid_template_rows": null,
            "height": null,
            "justify_content": null,
            "justify_items": null,
            "left": null,
            "margin": null,
            "max_height": null,
            "max_width": null,
            "min_height": null,
            "min_width": null,
            "object_fit": null,
            "object_position": null,
            "order": null,
            "overflow": null,
            "overflow_x": null,
            "overflow_y": null,
            "padding": null,
            "right": null,
            "top": null,
            "visibility": null,
            "width": null
          }
        },
        "52aeba6b5fc14a048101a31adb8fa2c8": {
          "model_module": "@jupyter-widgets/controls",
          "model_name": "DescriptionStyleModel",
          "model_module_version": "1.5.0",
          "state": {
            "_model_module": "@jupyter-widgets/controls",
            "_model_module_version": "1.5.0",
            "_model_name": "DescriptionStyleModel",
            "_view_count": null,
            "_view_module": "@jupyter-widgets/base",
            "_view_module_version": "1.2.0",
            "_view_name": "StyleView",
            "description_width": ""
          }
        },
        "a8852fccf07b4834a599f47714686d0e": {
          "model_module": "@jupyter-widgets/controls",
          "model_name": "HBoxModel",
          "model_module_version": "1.5.0",
          "state": {
            "_dom_classes": [],
            "_model_module": "@jupyter-widgets/controls",
            "_model_module_version": "1.5.0",
            "_model_name": "HBoxModel",
            "_view_count": null,
            "_view_module": "@jupyter-widgets/controls",
            "_view_module_version": "1.5.0",
            "_view_name": "HBoxView",
            "box_style": "",
            "children": [
              "IPY_MODEL_14eb8c0a228d45c99865aab99a2a8eb7",
              "IPY_MODEL_b2783d61a3ea40d392e25b3740ef9925",
              "IPY_MODEL_fee664354dd14a2792dc074fe7866450"
            ],
            "layout": "IPY_MODEL_cd5c2ecfb53c4f04a0670e8538ce4405"
          }
        },
        "14eb8c0a228d45c99865aab99a2a8eb7": {
          "model_module": "@jupyter-widgets/controls",
          "model_name": "HTMLModel",
          "model_module_version": "1.5.0",
          "state": {
            "_dom_classes": [],
            "_model_module": "@jupyter-widgets/controls",
            "_model_module_version": "1.5.0",
            "_model_name": "HTMLModel",
            "_view_count": null,
            "_view_module": "@jupyter-widgets/controls",
            "_view_module_version": "1.5.0",
            "_view_name": "HTMLView",
            "description": "",
            "description_tooltip": null,
            "layout": "IPY_MODEL_7823d243c93f463ab82d05bb3cf8c04b",
            "placeholder": "​",
            "style": "IPY_MODEL_fdfa7d19640c475f90678e18db2ae8e2",
            "value": "  0%"
          }
        },
        "b2783d61a3ea40d392e25b3740ef9925": {
          "model_module": "@jupyter-widgets/controls",
          "model_name": "FloatProgressModel",
          "model_module_version": "1.5.0",
          "state": {
            "_dom_classes": [],
            "_model_module": "@jupyter-widgets/controls",
            "_model_module_version": "1.5.0",
            "_model_name": "FloatProgressModel",
            "_view_count": null,
            "_view_module": "@jupyter-widgets/controls",
            "_view_module_version": "1.5.0",
            "_view_name": "ProgressView",
            "bar_style": "danger",
            "description": "",
            "description_tooltip": null,
            "layout": "IPY_MODEL_18d4bf3743884c178aeab933ebd3991b",
            "max": 100,
            "min": 0,
            "orientation": "horizontal",
            "style": "IPY_MODEL_99f43c86f8304ba8b22da90aba747f9b",
            "value": 0
          }
        },
        "fee664354dd14a2792dc074fe7866450": {
          "model_module": "@jupyter-widgets/controls",
          "model_name": "HTMLModel",
          "model_module_version": "1.5.0",
          "state": {
            "_dom_classes": [],
            "_model_module": "@jupyter-widgets/controls",
            "_model_module_version": "1.5.0",
            "_model_name": "HTMLModel",
            "_view_count": null,
            "_view_module": "@jupyter-widgets/controls",
            "_view_module_version": "1.5.0",
            "_view_name": "HTMLView",
            "description": "",
            "description_tooltip": null,
            "layout": "IPY_MODEL_162c7dfc9bda4797ace4ab15371a9ec6",
            "placeholder": "​",
            "style": "IPY_MODEL_a0ae88b5625047f5831ef7c986e0a3fe",
            "value": " 0/100 [00:01&lt;?, ?it/s]"
          }
        },
        "cd5c2ecfb53c4f04a0670e8538ce4405": {
          "model_module": "@jupyter-widgets/base",
          "model_name": "LayoutModel",
          "model_module_version": "1.2.0",
          "state": {
            "_model_module": "@jupyter-widgets/base",
            "_model_module_version": "1.2.0",
            "_model_name": "LayoutModel",
            "_view_count": null,
            "_view_module": "@jupyter-widgets/base",
            "_view_module_version": "1.2.0",
            "_view_name": "LayoutView",
            "align_content": null,
            "align_items": null,
            "align_self": null,
            "border": null,
            "bottom": null,
            "display": null,
            "flex": null,
            "flex_flow": null,
            "grid_area": null,
            "grid_auto_columns": null,
            "grid_auto_flow": null,
            "grid_auto_rows": null,
            "grid_column": null,
            "grid_gap": null,
            "grid_row": null,
            "grid_template_areas": null,
            "grid_template_columns": null,
            "grid_template_rows": null,
            "height": null,
            "justify_content": null,
            "justify_items": null,
            "left": null,
            "margin": null,
            "max_height": null,
            "max_width": null,
            "min_height": null,
            "min_width": null,
            "object_fit": null,
            "object_position": null,
            "order": null,
            "overflow": null,
            "overflow_x": null,
            "overflow_y": null,
            "padding": null,
            "right": null,
            "top": null,
            "visibility": null,
            "width": null
          }
        },
        "7823d243c93f463ab82d05bb3cf8c04b": {
          "model_module": "@jupyter-widgets/base",
          "model_name": "LayoutModel",
          "model_module_version": "1.2.0",
          "state": {
            "_model_module": "@jupyter-widgets/base",
            "_model_module_version": "1.2.0",
            "_model_name": "LayoutModel",
            "_view_count": null,
            "_view_module": "@jupyter-widgets/base",
            "_view_module_version": "1.2.0",
            "_view_name": "LayoutView",
            "align_content": null,
            "align_items": null,
            "align_self": null,
            "border": null,
            "bottom": null,
            "display": null,
            "flex": null,
            "flex_flow": null,
            "grid_area": null,
            "grid_auto_columns": null,
            "grid_auto_flow": null,
            "grid_auto_rows": null,
            "grid_column": null,
            "grid_gap": null,
            "grid_row": null,
            "grid_template_areas": null,
            "grid_template_columns": null,
            "grid_template_rows": null,
            "height": null,
            "justify_content": null,
            "justify_items": null,
            "left": null,
            "margin": null,
            "max_height": null,
            "max_width": null,
            "min_height": null,
            "min_width": null,
            "object_fit": null,
            "object_position": null,
            "order": null,
            "overflow": null,
            "overflow_x": null,
            "overflow_y": null,
            "padding": null,
            "right": null,
            "top": null,
            "visibility": null,
            "width": null
          }
        },
        "fdfa7d19640c475f90678e18db2ae8e2": {
          "model_module": "@jupyter-widgets/controls",
          "model_name": "DescriptionStyleModel",
          "model_module_version": "1.5.0",
          "state": {
            "_model_module": "@jupyter-widgets/controls",
            "_model_module_version": "1.5.0",
            "_model_name": "DescriptionStyleModel",
            "_view_count": null,
            "_view_module": "@jupyter-widgets/base",
            "_view_module_version": "1.2.0",
            "_view_name": "StyleView",
            "description_width": ""
          }
        },
        "18d4bf3743884c178aeab933ebd3991b": {
          "model_module": "@jupyter-widgets/base",
          "model_name": "LayoutModel",
          "model_module_version": "1.2.0",
          "state": {
            "_model_module": "@jupyter-widgets/base",
            "_model_module_version": "1.2.0",
            "_model_name": "LayoutModel",
            "_view_count": null,
            "_view_module": "@jupyter-widgets/base",
            "_view_module_version": "1.2.0",
            "_view_name": "LayoutView",
            "align_content": null,
            "align_items": null,
            "align_self": null,
            "border": null,
            "bottom": null,
            "display": null,
            "flex": null,
            "flex_flow": null,
            "grid_area": null,
            "grid_auto_columns": null,
            "grid_auto_flow": null,
            "grid_auto_rows": null,
            "grid_column": null,
            "grid_gap": null,
            "grid_row": null,
            "grid_template_areas": null,
            "grid_template_columns": null,
            "grid_template_rows": null,
            "height": null,
            "justify_content": null,
            "justify_items": null,
            "left": null,
            "margin": null,
            "max_height": null,
            "max_width": null,
            "min_height": null,
            "min_width": null,
            "object_fit": null,
            "object_position": null,
            "order": null,
            "overflow": null,
            "overflow_x": null,
            "overflow_y": null,
            "padding": null,
            "right": null,
            "top": null,
            "visibility": null,
            "width": null
          }
        },
        "99f43c86f8304ba8b22da90aba747f9b": {
          "model_module": "@jupyter-widgets/controls",
          "model_name": "ProgressStyleModel",
          "model_module_version": "1.5.0",
          "state": {
            "_model_module": "@jupyter-widgets/controls",
            "_model_module_version": "1.5.0",
            "_model_name": "ProgressStyleModel",
            "_view_count": null,
            "_view_module": "@jupyter-widgets/base",
            "_view_module_version": "1.2.0",
            "_view_name": "StyleView",
            "bar_color": null,
            "description_width": ""
          }
        },
        "162c7dfc9bda4797ace4ab15371a9ec6": {
          "model_module": "@jupyter-widgets/base",
          "model_name": "LayoutModel",
          "model_module_version": "1.2.0",
          "state": {
            "_model_module": "@jupyter-widgets/base",
            "_model_module_version": "1.2.0",
            "_model_name": "LayoutModel",
            "_view_count": null,
            "_view_module": "@jupyter-widgets/base",
            "_view_module_version": "1.2.0",
            "_view_name": "LayoutView",
            "align_content": null,
            "align_items": null,
            "align_self": null,
            "border": null,
            "bottom": null,
            "display": null,
            "flex": null,
            "flex_flow": null,
            "grid_area": null,
            "grid_auto_columns": null,
            "grid_auto_flow": null,
            "grid_auto_rows": null,
            "grid_column": null,
            "grid_gap": null,
            "grid_row": null,
            "grid_template_areas": null,
            "grid_template_columns": null,
            "grid_template_rows": null,
            "height": null,
            "justify_content": null,
            "justify_items": null,
            "left": null,
            "margin": null,
            "max_height": null,
            "max_width": null,
            "min_height": null,
            "min_width": null,
            "object_fit": null,
            "object_position": null,
            "order": null,
            "overflow": null,
            "overflow_x": null,
            "overflow_y": null,
            "padding": null,
            "right": null,
            "top": null,
            "visibility": null,
            "width": null
          }
        },
        "a0ae88b5625047f5831ef7c986e0a3fe": {
          "model_module": "@jupyter-widgets/controls",
          "model_name": "DescriptionStyleModel",
          "model_module_version": "1.5.0",
          "state": {
            "_model_module": "@jupyter-widgets/controls",
            "_model_module_version": "1.5.0",
            "_model_name": "DescriptionStyleModel",
            "_view_count": null,
            "_view_module": "@jupyter-widgets/base",
            "_view_module_version": "1.2.0",
            "_view_name": "StyleView",
            "description_width": ""
          }
        }
      }
    }
  },
  "cells": [
    {
      "cell_type": "code",
      "execution_count": null,
      "metadata": {
        "id": "wx_zfTa_h_27"
      },
      "outputs": [],
      "source": [
        "import pandas as pd\n",
        "import numpy as np\n",
        "import os\n",
        "import copy\n",
        "from sklearn.preprocessing import minmax_scale\n",
        "from scipy.stats import zscore\n",
        "import torch\n"
      ]
    },
    {
      "cell_type": "code",
      "source": [
        "fpkm_replicates = pd.read_csv(\"FPKM_replicates.csv\")\n",
        "fpkm_replicates.head()\n",
        "fpkm_replicates.shape"
      ],
      "metadata": {
        "colab": {
          "base_uri": "https://localhost:8080/"
        },
        "id": "jJS3NXKMiKp5",
        "outputId": "58d53793-479e-464c-bac1-80cfaad75415"
      },
      "execution_count": null,
      "outputs": [
        {
          "output_type": "execute_result",
          "data": {
            "text/plain": [
              "(33560, 48)"
            ]
          },
          "metadata": {},
          "execution_count": 2
        }
      ]
    },
    {
      "cell_type": "markdown",
      "source": [
        "#Gene Data Filtering"
      ],
      "metadata": {
        "id": "e5mCa3anifDY"
      }
    },
    {
      "cell_type": "code",
      "source": [
        "C_group = fpkm_replicates[[\"tracking_id\"]+[col for col in fpkm_replicates.columns if \"C\" in col]]\n",
        "S_group = fpkm_replicates[[\"tracking_id\"]+[col for col in fpkm_replicates.columns if \"S\" in col]]\n",
        "WT_group = fpkm_replicates[[\"tracking_id\"]+[col for col in fpkm_replicates.columns if \"WT\" in col]]\n",
        "\n",
        "\n",
        "def filter_data(df, min_num_of_non_zero=2):\n",
        "    mask = df.apply(lambda x: x[x != 0].count(), axis=1) >= min_num_of_non_zero\n",
        "    anti_mask = df.apply(lambda x: x[x != 0].count(), axis=1) < min_num_of_non_zero\n",
        "    filtered = df[mask]\n",
        "    removed = df[anti_mask]\n",
        "\n",
        "    return filtered, removed\n",
        "\n",
        "filtered_C, removed_C = filter_data(C_group)\n",
        "filtered_S, removed_S = filter_data(S_group)\n",
        "filtered_WT, removed_WT = filter_data(WT_group)"
      ],
      "metadata": {
        "id": "vgFj_DM3iTCF"
      },
      "execution_count": null,
      "outputs": []
    },
    {
      "cell_type": "code",
      "source": [
        "# Get the union of filtered genes across all plant lines and removed genes\n",
        "\n",
        "# list(set(([1,2,3,4]+[2,3,5]+[4,5,6])))  -> [1, 2, 3, 4, 5, 6]\n",
        "\n",
        "filtered_genes_union = list(set( list(filtered_C[\"tracking_id\"]) + list(filtered_S[\"tracking_id\"]) + list(filtered_WT[\"tracking_id\"])))\n",
        "removed_genes = list( set(C_group[\"tracking_id\"]) - set(filtered_genes_union))\n",
        "\n",
        "pd.DataFrame(filtered_genes_union).to_csv(\"filtered_genes_union.csv\")\n",
        "pd.DataFrame(removed_genes).to_csv(\"removed_genes.csv\")\n",
        "\n",
        "len(filtered_genes_union), len(removed_genes)\n",
        "\n",
        "# Get the dataframes after filtering and union\n",
        "\n",
        "filtered_C, removed_C = C_group[C_group[\"tracking_id\"].isin(filtered_genes_union)], C_group[C_group[\"tracking_id\"].isin(removed_genes)]\n",
        "filtered_S, removed_S = S_group[S_group[\"tracking_id\"].isin(filtered_genes_union)], S_group[S_group[\"tracking_id\"].isin(removed_genes)]\n",
        "filtered_WT, removed_WT = WT_group[WT_group[\"tracking_id\"].isin(filtered_genes_union)], WT_group[WT_group[\"tracking_id\"].isin(removed_genes)]\n",
        "\n",
        "\n",
        "# Combine all filtered Lines\n",
        "filtered_all_lines = pd.DataFrame()\n",
        "filtered_all_lines = pd.concat([filtered_all_lines, filtered_C], axis =1)\n",
        "filtered_all_lines = pd.concat([filtered_all_lines, filtered_S[filtered_S.columns[1:]]], axis =1)\n",
        "filtered_all_lines = pd.concat([filtered_all_lines, filtered_WT[filtered_WT.columns[1:]]], axis =1)\n",
        "\n",
        "filtered_all_lines.to_excel(\"filtered_all_lines.xlsx\", index=False)\n",
        "filtered_all_lines = pd.DataFrame(pd.read_excel(\"filtered_all_lines.xlsx\"))"
      ],
      "metadata": {
        "id": "35vwSgz3iS7V"
      },
      "execution_count": null,
      "outputs": []
    },
    {
      "cell_type": "markdown",
      "source": [
        "#Prepare Data for RNN"
      ],
      "metadata": {
        "id": "RVMq7R-9m0Zf"
      }
    },
    {
      "cell_type": "code",
      "source": [
        "def get_z_score(df):\n",
        "    # mean = df.mean(axis=None)\n",
        "    mean = df.mean().mean()\n",
        "    print (\"Mean\", mean)\n",
        "    # std = df.std(axis=None)\n",
        "    std = df.stack().std()\n",
        "    return (df- mean)/std\n",
        "\n",
        "def normalize_data(df, exclude_cols=None):\n",
        "    # if cols == None:\n",
        "    #     cols = df.select_dtypes(np.number).columns\n",
        "    all_cols = list(df.columns)\n",
        "    if exclude_cols!=None:\n",
        "        for i in exclude_cols:\n",
        "            all_cols.remove(i)\n",
        "    print (all_cols)\n",
        "\n",
        "    df[all_cols] = get_z_score(df[all_cols])\n",
        "    # df[all_cols] = minmax_scale(df[all_cols])\n",
        "    min_ = df[all_cols].min().min()\n",
        "    max_ = df[all_cols].max().max()\n",
        "\n",
        "    df[all_cols] = (df[all_cols]-min_)/(max_-min_)\n",
        "    return df\n",
        "\n",
        "def normalize_data_axis(df, axis=1):\n",
        "    MIN = df.min(axis)\n",
        "    print (MIN)\n",
        "    MAX = df.max(axis)\n",
        "    # df = df.apply(zscore,axis)\n",
        "    return df.sub(MIN, 1-axis).div(MAX-MIN, 1-axis)\n",
        "\n",
        "\n"
      ],
      "metadata": {
        "id": "BAMlc2FuiS3r"
      },
      "execution_count": null,
      "outputs": []
    },
    {
      "cell_type": "code",
      "source": [
        "lines = [\"C\", \"S\", \"WT\"]\n",
        "# times = [\"0\", \"15\", \"30\", \"60\"]\n",
        "times = [\"0\", \"15\", \"30\"]\n",
        "replicates = [\"1\", \"2\", \"3\", \"4\"]\n",
        "\n",
        "# sample 1 - [over times [{counts, H, RMS, P, ..}]\n",
        "\n",
        "samples = []\n",
        "\n",
        "entire_data = {}\n",
        "\n",
        "filtered_all_lines = pd.DataFrame(pd.read_excel(\"filtered_all_lines.xlsx\"))\n",
        "\n",
        "all_samples_names = list(filtered_all_lines.columns[1:])\n",
        "\n",
        "avg_freq_df = pd.DataFrame(pd.read_excel(\"AvgFreq.xlsx\"))\n",
        "avg_freq_df += np.random.normal(0, 0.1, size=avg_freq_df.shape)\n",
        "rms_df = pd.DataFrame(pd.read_excel(\"RMS.xlsx\"))\n",
        "rms_df += np.random.normal(0, 0.1, size=rms_df.shape)\n",
        "peaks_df = pd.DataFrame(pd.read_excel(\"Peaks.xlsx\"))\n",
        "peaks_df += np.random.normal(0, 0.1, size=peaks_df.shape)\n",
        "crest_fac_df = pd.DataFrame(pd.read_excel(\"CrestFactor.xlsx\"))\n",
        "crest_fac_df += np.random.normal(0, 0.1, size=crest_fac_df.shape)\n",
        "\n",
        "avg_freq_df_normalized = normalize_data_axis(avg_freq_df)\n",
        "rms_df_normalized = normalize_data_axis(rms_df)\n",
        "peaks_df_normalized = normalize_data_axis(peaks_df)\n",
        "crest_fac_df_normalized = normalize_data_axis(crest_fac_df)\n",
        "\n",
        "#write_all_data_path = \"input_data/normalized_data\"\n",
        "\n",
        "filtered_all_lines_normalized = normalize_data(filtered_all_lines, exclude_cols=[\"tracking_id\"])"
      ],
      "metadata": {
        "colab": {
          "base_uri": "https://localhost:8080/"
        },
        "id": "sQZC5Nc9iS0R",
        "outputId": "ab4c15e2-60a6-4702-f188-69843c40e400"
      },
      "execution_count": null,
      "outputs": [
        {
          "output_type": "stream",
          "name": "stdout",
          "text": [
            "0   -0.076972\n",
            "dtype: float64\n",
            "0   -0.161145\n",
            "dtype: float64\n",
            "0    27.481317\n",
            "dtype: float64\n",
            "0    0.915566\n",
            "dtype: float64\n",
            "['C_0_1', 'C_0_2', 'C_0_3', 'C_0_4', 'C_15_1', 'C_15_2', 'C_15_3', 'C_15_4', 'C_30_1', 'C_30_2', 'C_30_3', 'C_30_4', 'C_60_1', 'C_60_2', 'C_60_3', 'C_60_4', 'S_0_1', 'S_0_2', 'S_0_3', 'S_0_4', 'S_15_1', 'S_15_2', 'S_15_3', 'S_15_4', 'S_30_1', 'S_30_2', 'S_30_3', 'S_30_4', 'S_60_1', 'S_60_2', 'S_60_3', 'S_60_4', 'WT_0_1', 'WT_0_2', 'WT_0_3', 'WT_0_4', 'WT_15_1', 'WT_15_2', 'WT_15_3', 'WT_30_1', 'WT_30_2', 'WT_30_3', 'WT_30_4', 'WT_60_1', 'WT_60_2', 'WT_60_3', 'WT_60_4']\n",
            "Mean 32.69667309097266\n"
          ]
        }
      ]
    },
    {
      "cell_type": "code",
      "source": [
        "#modified loop to create a 4d structure.\n",
        "from tqdm import tqdm\n",
        "X = []\n",
        "all_gene_names = filtered_all_lines_normalized[\"tracking_id\"]\n",
        "# test_genes = all_gene_names[:100]\n",
        "for gene_name in tqdm(all_gene_names):\n",
        "\n",
        "  gene_data = []\n",
        "\n",
        "  for replicate in range(4):\n",
        "\n",
        "    time_data = []\n",
        "\n",
        "    for time in [0, 15, 30]:\n",
        "\n",
        "      time_based_replicate = f\"C_{time}_{replicate+1}\"\n",
        "\n",
        "      gene_count = filtered_all_lines_normalized[filtered_all_lines_normalized[\"tracking_id\"]==gene_name][time_based_replicate].item()\n",
        "\n",
        "      avg_frq = avg_freq_df_normalized[time_based_replicate].item()\n",
        "      rms = rms_df_normalized[time_based_replicate].item()\n",
        "      peak = peaks_df_normalized[time_based_replicate].item()\n",
        "      crest_fac = crest_fac_df_normalized[time_based_replicate].item()\n",
        "\n",
        "      time_data.append([gene_count, avg_frq, rms, peak, crest_fac])\n",
        "\n",
        "    gene_data.append(time_data)\n",
        "\n",
        "  X.append(gene_data)\n",
        "\n",
        "X_torch = torch.Tensor(X)\n",
        "print(X_torch.shape)\n"
      ],
      "metadata": {
        "id": "kpUQCD879zvR",
        "colab": {
          "base_uri": "https://localhost:8080/"
        },
        "outputId": "334be867-b2f0-4c47-806c-0a12d62abea6"
      },
      "execution_count": null,
      "outputs": [
        {
          "output_type": "stream",
          "name": "stderr",
          "text": [
            "100%|██████████| 25706/25706 [11:50<00:00, 36.16it/s]\n"
          ]
        },
        {
          "output_type": "stream",
          "name": "stdout",
          "text": [
            "torch.Size([25706, 4, 3, 5])\n"
          ]
        }
      ]
    },
    {
      "cell_type": "code",
      "source": [
        "X_torch = torch.Tensor(X)\n",
        "# Y_torch = torch.Tensor(Y)\n",
        "print (X_torch.shape)"
      ],
      "metadata": {
        "colab": {
          "base_uri": "https://localhost:8080/"
        },
        "id": "GuIl80BnYySE",
        "outputId": "677863fc-4987-4371-99bd-bb86da1ac484"
      },
      "execution_count": null,
      "outputs": [
        {
          "output_type": "stream",
          "name": "stdout",
          "text": [
            "torch.Size([25706, 4, 3, 5])\n"
          ]
        }
      ]
    },
    {
      "cell_type": "code",
      "source": [
        "# filtered_all_lines_normalized[filtered_all_lines_normalized[\"tracking_id\"]==\"AT3G28550\"]['C_0_1'].item()\n",
        "# np.array(X).shape\n",
        "from tqdm import tqdm\n",
        "all_gene_names = filtered_all_lines_normalized[\"tracking_id\"]\n",
        "# For Y\n",
        "Y_group_indexes_C = ['C_60_1', 'C_60_2', 'C_60_3', 'C_60_4']\n",
        "Y = []\n",
        "\n",
        "for gene_name in tqdm(all_gene_names):\n",
        "    each_sample = []\n",
        "    for time_based_replicate in Y_group_indexes_C:\n",
        "\n",
        "        gene_count = filtered_all_lines_normalized[filtered_all_lines_normalized[\"tracking_id\"]==gene_name][time_based_replicate].item()\n",
        "\n",
        "        Y.append(gene_count)\n",
        "\n"
      ],
      "metadata": {
        "colab": {
          "base_uri": "https://localhost:8080/"
        },
        "id": "GBRzsVUH1ZvH",
        "outputId": "b097e581-3c15-4761-81fa-5f12b28c9c4e"
      },
      "execution_count": null,
      "outputs": [
        {
          "output_type": "stream",
          "name": "stderr",
          "text": [
            "100%|██████████| 25706/25706 [06:12<00:00, 69.05it/s]\n"
          ]
        }
      ]
    },
    {
      "cell_type": "code",
      "source": [
        "Y_torch = torch.Tensor(Y)\n",
        "print (Y_torch.shape)"
      ],
      "metadata": {
        "colab": {
          "base_uri": "https://localhost:8080/"
        },
        "id": "4uDK4wiW5tVF",
        "outputId": "9da8e0ef-f891-4d85-beb7-750af974df7d"
      },
      "execution_count": null,
      "outputs": [
        {
          "output_type": "stream",
          "name": "stdout",
          "text": [
            "torch.Size([102824])\n"
          ]
        }
      ]
    },
    {
      "cell_type": "code",
      "source": [
        "import torch\n",
        "\n",
        "# X_torch = torch.Tensor(X)\n",
        "# Y_torch = torch.Tensor(Y)\n",
        "# print (X_torch.shape)\n",
        "torch.save(X_torch, 'X.pt')\n",
        "# torch.save(Y_torch, 'Y.pt')"
      ],
      "metadata": {
        "id": "pOMrhfzPiSuB"
      },
      "execution_count": null,
      "outputs": []
    },
    {
      "cell_type": "code",
      "source": [
        "import torch\n",
        "X_torch = torch.load('X.pt')\n",
        "Y_torch = torch.load('Y.pt')\n",
        "Y_torch= Y_torch.reshape(Y_torch.shape[0],1)\n",
        "Y_torch.shape"
      ],
      "metadata": {
        "id": "q3vQwu0qiSrL",
        "colab": {
          "base_uri": "https://localhost:8080/"
        },
        "outputId": "88c1bc76-6cdc-496e-acc3-5fa4808088ed"
      },
      "execution_count": null,
      "outputs": [
        {
          "output_type": "execute_result",
          "data": {
            "text/plain": [
              "torch.Size([102824, 1])"
            ]
          },
          "metadata": {},
          "execution_count": 9
        }
      ]
    },
    {
      "cell_type": "markdown",
      "source": [
        "#new"
      ],
      "metadata": {
        "id": "b4VRKNupFTP4"
      }
    },
    {
      "cell_type": "code",
      "source": [
        "import torch.nn as nn\n",
        "# from nn.dropout import dropout\n",
        "X_re = X_torch.view(-1, 3, 5)\n",
        "# class LSTMModel(nn.Module):\n",
        "#     def __init__(self, input_dim, hidden_dim, num_layers, output_dim, drop_prob=0.2):\n",
        "#         super(LSTMModel, self).__init__()\n",
        "\n",
        "#         self.lstm = nn.LSTM(\n",
        "#             input_dim, hidden_dim, num_layers,\n",
        "#             batch_first=True, dropout=drop_prob\n",
        "#         )\n",
        "\n",
        "#         self.dropout = nn.Dropout(drop_prob)\n",
        "\n",
        "#         self.linear = nn.Linear(hidden_dim, output_dim)\n",
        "\n",
        "#     def forward(self, x):\n",
        "#         lstm_out, _ = self.lstm(x)\n",
        "\n",
        "#         out = self.dropout(lstm_out)\n",
        "#         out = out[:,-1,:] # taking the last time step\n",
        "\n",
        "#         out = self.linear(out)\n",
        "#         return out\n",
        "\n",
        "# model = LSTMModel(input_dim=1, hidden_dim=64, num_layers=2, output_dim=1, drop_prob=0.2)\n",
        "import torch.nn as nn\n",
        "\n",
        "class LSTMModel(nn.Module):\n",
        "    def __init__(self, input_dim, hidden_dim, num_layers, output_dim, drop_prob=0.3):\n",
        "        super(LSTMModel, self).__init__()\n",
        "\n",
        "        self.lstm = nn.LSTM(\n",
        "            input_dim, hidden_dim, num_layers,\n",
        "            batch_first=True, dropout=drop_prob\n",
        "        )\n",
        "\n",
        "        self.dropout = nn.Dropout(drop_prob)\n",
        "\n",
        "        self.linear = nn.Linear(hidden_dim, output_dim)\n",
        "        self.activation = nn.Softplus()\n",
        "\n",
        "    def forward(self, x):\n",
        "        lstm_out, _ = self.lstm(x)\n",
        "\n",
        "        out = self.dropout(lstm_out)\n",
        "        out = out[:,-1,:]\n",
        "\n",
        "        out = self.linear(out)\n",
        "\n",
        "        # Adding Tanh activation\n",
        "        out = self.activation(out)\n",
        "        return out\n",
        "\n",
        "model = LSTMModel(input_dim=X_torch.shape[3], hidden_dim=55,\n",
        "                  num_layers=2, output_dim=1, drop_prob=0.3)\n",
        "\n",
        "\n",
        "criterion = nn.MSELoss()\n",
        "optimizer = torch.optim.Adam(model.parameters(), lr=0.0075)\n",
        "\n",
        "for epoch in range(50):\n",
        "  optimizer.zero_grad()\n",
        "\n",
        "  y_pred = model(X_re)\n",
        "\n",
        "  loss = criterion(y_pred, Y_torch)\n",
        "  loss.backward()\n",
        "\n",
        "  optimizer.step()"
      ],
      "metadata": {
        "id": "_o4P7HadMvlu"
      },
      "execution_count": null,
      "outputs": []
    },
    {
      "cell_type": "code",
      "source": [
        "# Evaluate\n",
        "true_y = Y_torch.detach().numpy()\n",
        "pred_y = model(X_re).detach().numpy()\n",
        "print(pred_y.shape)\n",
        "import matplotlib.pyplot as plt\n",
        "import matplotlib.pyplot as plt\n",
        "plt.scatter(true_y, pred_y)\n",
        "plt.xlabel('True Y')\n",
        "plt.ylabel('Predicted Y')"
      ],
      "metadata": {
        "colab": {
          "base_uri": "https://localhost:8080/",
          "height": 484
        },
        "id": "PYhiG9h4NEHx",
        "outputId": "5d983377-d606-4a46-dad9-f17fa196a224"
      },
      "execution_count": null,
      "outputs": [
        {
          "output_type": "stream",
          "name": "stdout",
          "text": [
            "(102824, 1)\n"
          ]
        },
        {
          "output_type": "execute_result",
          "data": {
            "text/plain": [
              "Text(0, 0.5, 'Predicted Y')"
            ]
          },
          "metadata": {},
          "execution_count": 11
        },
        {
          "output_type": "display_data",
          "data": {
            "text/plain": [
              "<Figure size 640x480 with 1 Axes>"
            ],
            "image/png": "[encoded data removed]"
          },
          "metadata": {}
        }
      ]
    },
    {
      "cell_type": "code",
      "source": [
        "print(pred_y[:50])"
      ],
      "metadata": {
        "colab": {
          "base_uri": "https://localhost:8080/"
        },
        "id": "I0Co_Tj7Nmmv",
        "outputId": "af479d20-e0ed-4ee9-ca6b-53a19a18d25c"
      },
      "execution_count": null,
      "outputs": [
        {
          "output_type": "stream",
          "name": "stdout",
          "text": [
            "[[3.6436424e-04]\n",
            " [2.4152973e-03]\n",
            " [1.2298193e-03]\n",
            " [3.3989517e-04]\n",
            " [4.7678355e-04]\n",
            " [1.6552028e-04]\n",
            " [8.1048679e-04]\n",
            " [4.0634282e-04]\n",
            " [2.8754044e-03]\n",
            " [1.4651226e-04]\n",
            " [8.0497935e-04]\n",
            " [1.3218564e-04]\n",
            " [5.6160777e-04]\n",
            " [6.6600909e-04]\n",
            " [8.2028954e-04]\n",
            " [7.2975212e-04]\n",
            " [1.1658474e-03]\n",
            " [2.4873909e-04]\n",
            " [3.4716108e-04]\n",
            " [1.2341221e-03]\n",
            " [8.6579804e-04]\n",
            " [4.8593496e-04]\n",
            " [4.9744052e-04]\n",
            " [1.0408913e-03]\n",
            " [1.6974343e-03]\n",
            " [4.4494277e-04]\n",
            " [7.9382902e-05]\n",
            " [4.8662414e-04]\n",
            " [3.5615746e-04]\n",
            " [2.7895902e-04]\n",
            " [5.0257839e-04]\n",
            " [5.1507086e-04]\n",
            " [6.0142076e-04]\n",
            " [1.3456296e-03]\n",
            " [1.0427492e-03]\n",
            " [4.4823851e-04]\n",
            " [9.0856927e-05]\n",
            " [6.3268020e-04]\n",
            " [1.1945120e-03]\n",
            " [1.2484194e-03]\n",
            " [5.4691464e-04]\n",
            " [1.2535648e-03]\n",
            " [5.1620626e-04]\n",
            " [1.4310412e-03]\n",
            " [3.3499949e-04]\n",
            " [5.8291439e-04]\n",
            " [6.3537282e-04]\n",
            " [2.2726844e-03]\n",
            " [5.5377767e-04]\n",
            " [3.5537995e-04]]\n"
          ]
        }
      ]
    },
    {
      "cell_type": "code",
      "source": [
        "to_num = 100\n",
        "\n",
        "plt.plot(range(to_num), pred_y[:to_num], color=\"red\", label=\"Predicted\")\n",
        "plt.plot(range(to_num), true_y[:to_num], color=\"green\", label=\"Actual\")\n",
        "\n",
        "plt.xlabel(\"Sample Index\")\n",
        "plt.ylabel(\"Values\")\n",
        "plt.legend()\n",
        "plt.show()"
      ],
      "metadata": {
        "colab": {
          "base_uri": "https://localhost:8080/",
          "height": 449
        },
        "id": "G1zF01bGNpGY",
        "outputId": "22667909-f634-4d19-e7a0-1ea9c19e395e"
      },
      "execution_count": null,
      "outputs": [
        {
          "output_type": "display_data",
          "data": {
            "text/plain": [
              "<Figure size 640x480 with 1 Axes>"
            ],
            "image/png": "[encoded data removed]"
          },
          "metadata": {}
        }
      ]
    },
    {
      "cell_type": "code",
      "source": [
        "rmse_values = []\n",
        "for i in range(len(pred_y)):\n",
        "  rmse = np.sqrt(np.mean((pred_y[i] - true_y[i])**2))\n",
        "  rmse_values.append(rmse)\n",
        "\n",
        "# Create lists to store gene names and RMSE values\n",
        "gene_names = []\n",
        "rmse_list = []\n",
        "\n",
        "for i, gene_name in enumerate(all_gene_names):\n",
        "  gene_names.append(gene_name)\n",
        "  rmse_list.append(rmse_values[i])\n"
      ],
      "metadata": {
        "id": "tOtIxP1lFSCA"
      },
      "execution_count": null,
      "outputs": []
    },
    {
      "cell_type": "code",
      "source": [
        "import csv\n",
        "\n",
        "gene_names_rmse = []\n",
        "\n",
        "for i, gene_name in enumerate(all_gene_names):\n",
        "  rmse = np.sqrt(np.mean((pred_y[i] - true_y[i])**2))\n",
        "  gene_rmse = (gene_name, rmse)\n",
        "  gene_names_rmse.append(gene_rmse)\n",
        "with open('gene_rmse_scram.csv', 'w') as f:\n",
        "  writer = csv.writer(f)\n",
        "  writer.writerow(['Gene Name', 'RMSE']) # Column headers\n",
        "  for row in gene_names_rmse:\n",
        "    writer.writerow(row) # Each row is a tuple"
      ],
      "metadata": {
        "id": "feu68TVCFR_7"
      },
      "execution_count": null,
      "outputs": []
    },
    {
      "cell_type": "code",
      "source": [],
      "metadata": {
        "id": "trUy7raxFR80"
      },
      "execution_count": null,
      "outputs": []
    },
    {
      "cell_type": "code",
      "source": [],
      "metadata": {
        "id": "XAByM6hkFR6O"
      },
      "execution_count": null,
      "outputs": []
    },
    {
      "cell_type": "code",
      "source": [],
      "metadata": {
        "id": "O8nCSCV4FR32"
      },
      "execution_count": null,
      "outputs": []
    },
    {
      "cell_type": "code",
      "source": [],
      "metadata": {
        "id": "jOXOO2Y4FR1S"
      },
      "execution_count": null,
      "outputs": []
    },
    {
      "cell_type": "code",
      "source": [],
      "metadata": {
        "id": "lLgYXrLUFRwS"
      },
      "execution_count": null,
      "outputs": []
    },
    {
      "cell_type": "code",
      "source": [],
      "metadata": {
        "id": "qp9ztwV0FRtr"
      },
      "execution_count": null,
      "outputs": []
    },
    {
      "cell_type": "code",
      "source": [],
      "metadata": {
        "id": "7jL0J3nYFRrK"
      },
      "execution_count": null,
      "outputs": []
    },
    {
      "cell_type": "markdown",
      "source": [
        "#RNN"
      ],
      "metadata": {
        "id": "34bC82Md36-p"
      }
    },
    {
      "cell_type": "markdown",
      "source": [
        "#Modified LSTM"
      ],
      "metadata": {
        "id": "4MhypUUGsGxH"
      }
    },
    {
      "cell_type": "code",
      "source": [
        "import torch.nn as nn\n",
        "from torch.autograd import Variable\n",
        "class ImprovedLSTM(nn.Module):\n",
        "    def __init__(self, input_size, hidden_size, num_layers, seq_length):\n",
        "        super(ImprovedLSTM, self).__init__()\n",
        "\n",
        "        # Added L2 regularization\n",
        "        self.reg_lambda = 0.01\n",
        "\n",
        "        self.num_layers = num_layers\n",
        "        self.input_size = input_size\n",
        "        self.hidden_size = hidden_size\n",
        "        self.seq_length = seq_length\n",
        "\n",
        "        self.lstm = nn.LSTM(input_size=input_size, hidden_size=hidden_size, num_layers=num_layers, batch_first=True)\n",
        "\n",
        "        # Added dropout layer\n",
        "        self.dropout = nn.Dropout(p=0.3)\n",
        "\n",
        "        self.fc_1 = nn.Linear(hidden_size, 32)\n",
        "        self.fc = nn.Linear(32, 1)\n",
        "\n",
        "        self.relu = nn.ReLU()\n",
        "\n",
        "    def forward(self, x):\n",
        "        # Added dropout\n",
        "        x = self.dropout(x)\n",
        "        x = x.view(-1, self.seq_length, self.input_size)\n",
        "\n",
        "        h_0 = Variable(torch.zeros(self.num_layers, x.size(0), self.hidden_size))\n",
        "        c_0 = Variable(torch.zeros(self.num_layers, x.size(0), self.hidden_size))\n",
        "        output, (hn, cn) = self.lstm(x, (h_0, c_0))\n",
        "        hn = hn.view(-1, self.hidden_size)\n",
        "        out = self.relu(hn)\n",
        "        out = self.fc_1(out)\n",
        "        out = self.relu(out)\n",
        "        out = self.fc(out)\n",
        "        out = self.relu(out)\n",
        "        return out\n",
        "\n",
        "    def reset_parameters(self):\n",
        "        for name, param in self.named_parameters():\n",
        "            if 'weight' in name:\n",
        "                nn.init.xavier_normal_(param)\n",
        "            elif 'bias' in name:\n",
        "                nn.init.zeros_(param)\n"
      ],
      "metadata": {
        "id": "1gYAKzvC9wBT"
      },
      "execution_count": null,
      "outputs": []
    },
    {
      "cell_type": "code",
      "source": [
        "num_epochs = 100  # 1000 epochs\n",
        "learning_rate = 0.0001 # 0.001 lr\n",
        "\n",
        "input_size = X_torch.shape[3]  # number of features ==5\n",
        "hidden_size = 20  # number of features in hidden state\n",
        "num_layers = 1  # number of stacked lstm layers\n",
        "\n",
        "num_classes = 1  # number of output classes\n",
        "\n",
        "seq_length = X_torch.shape[1] #4\n"
      ],
      "metadata": {
        "id": "Wsz8H4f_iSlu"
      },
      "execution_count": null,
      "outputs": []
    },
    {
      "cell_type": "code",
      "source": [
        "print(input_size)"
      ],
      "metadata": {
        "colab": {
          "base_uri": "https://localhost:8080/"
        },
        "id": "PXOcFOUoaCIR",
        "outputId": "1a173b85-0874-4e8a-dd4b-8196d0887082"
      },
      "execution_count": null,
      "outputs": [
        {
          "output_type": "stream",
          "name": "stdout",
          "text": [
            "5\n"
          ]
        }
      ]
    },
    {
      "cell_type": "code",
      "source": [
        "from torch.optim.lr_scheduler import CosineAnnealingLR\n",
        "from torch.optim.lr_scheduler import ReduceLROnPlateau\n",
        "\n",
        "# Initialize the model with the appropriate arguments\n",
        "lstm1 = ImprovedLSTM(input_size, hidden_size, num_layers, seq_length) #our lstm class\n",
        "print(lstm1)\n",
        "\n",
        "criterion = nn.MSELoss()\n",
        "\n",
        "def loss_function(outputs, targets):\n",
        "    loss = criterion(outputs, targets)\n",
        "    l2_reg = 0\n",
        "\n",
        "    for param in model.parameters():\n",
        "        l2_reg += torch.norm(param)\n",
        "\n",
        "    return loss + self.reg_lambda * l2_reg  # mean-squared error for regression\n",
        "\n",
        "# Choose an optimizer (e.g., SGD or Adam)\n",
        "optimizer = torch.optim.SGD(lstm1.parameters(), lr=0.001, momentum=0.9)\n",
        "\n",
        "# Initialize the learning rate scheduler\n",
        "scheduler = ReduceLROnPlateau(optimizer, 'min', patience=5)"
      ],
      "metadata": {
        "id": "zK8Hu4XciSja",
        "colab": {
          "base_uri": "https://localhost:8080/"
        },
        "outputId": "b295f91b-7eb7-4bf8-c87a-73b444cc4819"
      },
      "execution_count": null,
      "outputs": [
        {
          "output_type": "stream",
          "name": "stdout",
          "text": [
            "ImprovedLSTM(\n",
            "  (lstm): LSTM(5, 20, batch_first=True)\n",
            "  (dropout): Dropout(p=0.3, inplace=False)\n",
            "  (fc_1): Linear(in_features=20, out_features=32, bias=True)\n",
            "  (fc): Linear(in_features=32, out_features=1, bias=True)\n",
            "  (relu): ReLU()\n",
            ")\n"
          ]
        }
      ]
    },
    {
      "cell_type": "markdown",
      "source": [
        "#Training Loop"
      ],
      "metadata": {
        "id": "DR8xRA-bLGC9"
      }
    },
    {
      "cell_type": "code",
      "source": [
        "from tqdm.notebook import tqdm\n",
        "\n",
        "# Y_torch = Y_torch[:77118]\n",
        "for epoch in tqdm(range(num_epochs)):\n",
        "    outputs = lstm1.forward(X_torch) #forward pass\n",
        "\n",
        "    optimizer.zero_grad() #caluclate the gradient, manually setting to 0\n",
        "    # obtain the loss function\n",
        "\n",
        "    # print (outputs.shape, Y_torch.shape)\n",
        "    loss = criterion(outputs, Y_torch)\n",
        "\n",
        "    loss.backward() #calculates the loss of the loss function\n",
        "\n",
        "    optimizer.step() #improve from loss, i.e backprop\n",
        "    scheduler.step(loss)\n",
        "    with torch.no_grad():\n",
        "        if epoch % 5 == 0:\n",
        "            print(\"Epoch: %d, loss: %1.5f\" % (epoch, loss.item()))\n",
        "            print(\"RMSE:\", np.sqrt(loss.item()))"
      ],
      "metadata": {
        "colab": {
          "base_uri": "https://localhost:8080/",
          "height": 478,
          "referenced_widgets": [
            "a8852fccf07b4834a599f47714686d0e",
            "14eb8c0a228d45c99865aab99a2a8eb7",
            "b2783d61a3ea40d392e25b3740ef9925",
            "fee664354dd14a2792dc074fe7866450",
            "cd5c2ecfb53c4f04a0670e8538ce4405",
            "7823d243c93f463ab82d05bb3cf8c04b",
            "fdfa7d19640c475f90678e18db2ae8e2",
            "18d4bf3743884c178aeab933ebd3991b",
            "99f43c86f8304ba8b22da90aba747f9b",
            "162c7dfc9bda4797ace4ab15371a9ec6",
            "a0ae88b5625047f5831ef7c986e0a3fe"
          ]
        },
        "id": "nBdH7vxuLFWK",
        "outputId": "7b638ea0-a2a0-4e10-b75e-23670dfcdef0"
      },
      "execution_count": null,
      "outputs": [
        {
          "output_type": "display_data",
          "data": {
            "text/plain": [
              "  0%|          | 0/100 [00:00<?, ?it/s]"
            ],
            "application/vnd.jupyter.widget-view+json": {
              "version_major": 2,
              "version_minor": 0,
              "model_id": "a8852fccf07b4834a599f47714686d0e"
            }
          },
          "metadata": {}
        },
        {
          "output_type": "stream",
          "name": "stderr",
          "text": [
            "/usr/local/lib/python3.10/dist-packages/torch/nn/modules/loss.py:535: UserWarning: Using a target size (torch.Size([102824, 1])) that is different to the input size (torch.Size([77118, 1])). This will likely lead to incorrect results due to broadcasting. Please ensure they have the same size.\n",
            "  return F.mse_loss(input, target, reduction=self.reduction)\n"
          ]
        },
        {
          "output_type": "error",
          "ename": "RuntimeError",
          "evalue": "ignored",
          "traceback": [
            "\u001b[0;31m---------------------------------------------------------------------------\u001b[0m",
            "\u001b[0;31mRuntimeError\u001b[0m                              Traceback (most recent call last)",
            "\u001b[0;32m<ipython-input-13-d9e65dab0607>\u001b[0m in \u001b[0;36m<cell line: 4>\u001b[0;34m()\u001b[0m\n\u001b[1;32m      9\u001b[0m \u001b[0;34m\u001b[0m\u001b[0m\n\u001b[1;32m     10\u001b[0m     \u001b[0;31m# print (outputs.shape, Y_torch.shape)\u001b[0m\u001b[0;34m\u001b[0m\u001b[0;34m\u001b[0m\u001b[0m\n\u001b[0;32m---> 11\u001b[0;31m     \u001b[0mloss\u001b[0m \u001b[0;34m=\u001b[0m \u001b[0mcriterion\u001b[0m\u001b[0;34m(\u001b[0m\u001b[0moutputs\u001b[0m\u001b[0;34m,\u001b[0m \u001b[0mY_torch\u001b[0m\u001b[0;34m)\u001b[0m\u001b[0;34m\u001b[0m\u001b[0;34m\u001b[0m\u001b[0m\n\u001b[0m\u001b[1;32m     12\u001b[0m \u001b[0;34m\u001b[0m\u001b[0m\n\u001b[1;32m     13\u001b[0m     \u001b[0mloss\u001b[0m\u001b[0;34m.\u001b[0m\u001b[0mbackward\u001b[0m\u001b[0;34m(\u001b[0m\u001b[0;34m)\u001b[0m \u001b[0;31m#calculates the loss of the loss function\u001b[0m\u001b[0;34m\u001b[0m\u001b[0;34m\u001b[0m\u001b[0m\n",
            "\u001b[0;32m/usr/local/lib/python3.10/dist-packages/torch/nn/modules/module.py\u001b[0m in \u001b[0;36m_wrapped_call_impl\u001b[0;34m(self, *args, **kwargs)\u001b[0m\n\u001b[1;32m   1516\u001b[0m             \u001b[0;32mreturn\u001b[0m \u001b[0mself\u001b[0m\u001b[0;34m.\u001b[0m\u001b[0m_compiled_call_impl\u001b[0m\u001b[0;34m(\u001b[0m\u001b[0;34m*\u001b[0m\u001b[0margs\u001b[0m\u001b[0;34m,\u001b[0m \u001b[0;34m**\u001b[0m\u001b[0mkwargs\u001b[0m\u001b[0;34m)\u001b[0m  \u001b[0;31m# type: ignore[misc]\u001b[0m\u001b[0;34m\u001b[0m\u001b[0;34m\u001b[0m\u001b[0m\n\u001b[1;32m   1517\u001b[0m         \u001b[0;32melse\u001b[0m\u001b[0;34m:\u001b[0m\u001b[0;34m\u001b[0m\u001b[0;34m\u001b[0m\u001b[0m\n\u001b[0;32m-> 1518\u001b[0;31m             \u001b[0;32mreturn\u001b[0m \u001b[0mself\u001b[0m\u001b[0;34m.\u001b[0m\u001b[0m_call_impl\u001b[0m\u001b[0;34m(\u001b[0m\u001b[0;34m*\u001b[0m\u001b[0margs\u001b[0m\u001b[0;34m,\u001b[0m \u001b[0;34m**\u001b[0m\u001b[0mkwargs\u001b[0m\u001b[0;34m)\u001b[0m\u001b[0;34m\u001b[0m\u001b[0;34m\u001b[0m\u001b[0m\n\u001b[0m\u001b[1;32m   1519\u001b[0m \u001b[0;34m\u001b[0m\u001b[0m\n\u001b[1;32m   1520\u001b[0m     \u001b[0;32mdef\u001b[0m \u001b[0m_call_impl\u001b[0m\u001b[0;34m(\u001b[0m\u001b[0mself\u001b[0m\u001b[0;34m,\u001b[0m \u001b[0;34m*\u001b[0m\u001b[0margs\u001b[0m\u001b[0;34m,\u001b[0m \u001b[0;34m**\u001b[0m\u001b[0mkwargs\u001b[0m\u001b[0;34m)\u001b[0m\u001b[0;34m:\u001b[0m\u001b[0;34m\u001b[0m\u001b[0;34m\u001b[0m\u001b[0m\n",
            "\u001b[0;32m/usr/local/lib/python3.10/dist-packages/torch/nn/modules/module.py\u001b[0m in \u001b[0;36m_call_impl\u001b[0;34m(self, *args, **kwargs)\u001b[0m\n\u001b[1;32m   1525\u001b[0m                 \u001b[0;32mor\u001b[0m \u001b[0m_global_backward_pre_hooks\u001b[0m \u001b[0;32mor\u001b[0m \u001b[0m_global_backward_hooks\u001b[0m\u001b[0;34m\u001b[0m\u001b[0;34m\u001b[0m\u001b[0m\n\u001b[1;32m   1526\u001b[0m                 or _global_forward_hooks or _global_forward_pre_hooks):\n\u001b[0;32m-> 1527\u001b[0;31m             \u001b[0;32mreturn\u001b[0m \u001b[0mforward_call\u001b[0m\u001b[0;34m(\u001b[0m\u001b[0;34m*\u001b[0m\u001b[0margs\u001b[0m\u001b[0;34m,\u001b[0m \u001b[0;34m**\u001b[0m\u001b[0mkwargs\u001b[0m\u001b[0;34m)\u001b[0m\u001b[0;34m\u001b[0m\u001b[0;34m\u001b[0m\u001b[0m\n\u001b[0m\u001b[1;32m   1528\u001b[0m \u001b[0;34m\u001b[0m\u001b[0m\n\u001b[1;32m   1529\u001b[0m         \u001b[0;32mtry\u001b[0m\u001b[0;34m:\u001b[0m\u001b[0;34m\u001b[0m\u001b[0;34m\u001b[0m\u001b[0m\n",
            "\u001b[0;32m/usr/local/lib/python3.10/dist-packages/torch/nn/modules/loss.py\u001b[0m in \u001b[0;36mforward\u001b[0;34m(self, input, target)\u001b[0m\n\u001b[1;32m    533\u001b[0m \u001b[0;34m\u001b[0m\u001b[0m\n\u001b[1;32m    534\u001b[0m     \u001b[0;32mdef\u001b[0m \u001b[0mforward\u001b[0m\u001b[0;34m(\u001b[0m\u001b[0mself\u001b[0m\u001b[0;34m,\u001b[0m \u001b[0minput\u001b[0m\u001b[0;34m:\u001b[0m \u001b[0mTensor\u001b[0m\u001b[0;34m,\u001b[0m \u001b[0mtarget\u001b[0m\u001b[0;34m:\u001b[0m \u001b[0mTensor\u001b[0m\u001b[0;34m)\u001b[0m \u001b[0;34m->\u001b[0m \u001b[0mTensor\u001b[0m\u001b[0;34m:\u001b[0m\u001b[0;34m\u001b[0m\u001b[0;34m\u001b[0m\u001b[0m\n\u001b[0;32m--> 535\u001b[0;31m         \u001b[0;32mreturn\u001b[0m \u001b[0mF\u001b[0m\u001b[0;34m.\u001b[0m\u001b[0mmse_loss\u001b[0m\u001b[0;34m(\u001b[0m\u001b[0minput\u001b[0m\u001b[0;34m,\u001b[0m \u001b[0mtarget\u001b[0m\u001b[0;34m,\u001b[0m \u001b[0mreduction\u001b[0m\u001b[0;34m=\u001b[0m\u001b[0mself\u001b[0m\u001b[0;34m.\u001b[0m\u001b[0mreduction\u001b[0m\u001b[0;34m)\u001b[0m\u001b[0;34m\u001b[0m\u001b[0;34m\u001b[0m\u001b[0m\n\u001b[0m\u001b[1;32m    536\u001b[0m \u001b[0;34m\u001b[0m\u001b[0m\n\u001b[1;32m    537\u001b[0m \u001b[0;34m\u001b[0m\u001b[0m\n",
            "\u001b[0;32m/usr/local/lib/python3.10/dist-packages/torch/nn/functional.py\u001b[0m in \u001b[0;36mmse_loss\u001b[0;34m(input, target, size_average, reduce, reduction)\u001b[0m\n\u001b[1;32m   3326\u001b[0m         \u001b[0mreduction\u001b[0m \u001b[0;34m=\u001b[0m \u001b[0m_Reduction\u001b[0m\u001b[0;34m.\u001b[0m\u001b[0mlegacy_get_string\u001b[0m\u001b[0;34m(\u001b[0m\u001b[0msize_average\u001b[0m\u001b[0;34m,\u001b[0m \u001b[0mreduce\u001b[0m\u001b[0;34m)\u001b[0m\u001b[0;34m\u001b[0m\u001b[0;34m\u001b[0m\u001b[0m\n\u001b[1;32m   3327\u001b[0m \u001b[0;34m\u001b[0m\u001b[0m\n\u001b[0;32m-> 3328\u001b[0;31m     \u001b[0mexpanded_input\u001b[0m\u001b[0;34m,\u001b[0m \u001b[0mexpanded_target\u001b[0m \u001b[0;34m=\u001b[0m \u001b[0mtorch\u001b[0m\u001b[0;34m.\u001b[0m\u001b[0mbroadcast_tensors\u001b[0m\u001b[0;34m(\u001b[0m\u001b[0minput\u001b[0m\u001b[0;34m,\u001b[0m \u001b[0mtarget\u001b[0m\u001b[0;34m)\u001b[0m\u001b[0;34m\u001b[0m\u001b[0;34m\u001b[0m\u001b[0m\n\u001b[0m\u001b[1;32m   3329\u001b[0m     \u001b[0;32mreturn\u001b[0m \u001b[0mtorch\u001b[0m\u001b[0;34m.\u001b[0m\u001b[0m_C\u001b[0m\u001b[0;34m.\u001b[0m\u001b[0m_nn\u001b[0m\u001b[0;34m.\u001b[0m\u001b[0mmse_loss\u001b[0m\u001b[0;34m(\u001b[0m\u001b[0mexpanded_input\u001b[0m\u001b[0;34m,\u001b[0m \u001b[0mexpanded_target\u001b[0m\u001b[0;34m,\u001b[0m \u001b[0m_Reduction\u001b[0m\u001b[0;34m.\u001b[0m\u001b[0mget_enum\u001b[0m\u001b[0;34m(\u001b[0m\u001b[0mreduction\u001b[0m\u001b[0;34m)\u001b[0m\u001b[0;34m)\u001b[0m\u001b[0;34m\u001b[0m\u001b[0;34m\u001b[0m\u001b[0m\n\u001b[1;32m   3330\u001b[0m \u001b[0;34m\u001b[0m\u001b[0m\n",
            "\u001b[0;32m/usr/local/lib/python3.10/dist-packages/torch/functional.py\u001b[0m in \u001b[0;36mbroadcast_tensors\u001b[0;34m(*tensors)\u001b[0m\n\u001b[1;32m     71\u001b[0m     \u001b[0;32mif\u001b[0m \u001b[0mhas_torch_function\u001b[0m\u001b[0;34m(\u001b[0m\u001b[0mtensors\u001b[0m\u001b[0;34m)\u001b[0m\u001b[0;34m:\u001b[0m\u001b[0;34m\u001b[0m\u001b[0;34m\u001b[0m\u001b[0m\n\u001b[1;32m     72\u001b[0m         \u001b[0;32mreturn\u001b[0m \u001b[0mhandle_torch_function\u001b[0m\u001b[0;34m(\u001b[0m\u001b[0mbroadcast_tensors\u001b[0m\u001b[0;34m,\u001b[0m \u001b[0mtensors\u001b[0m\u001b[0;34m,\u001b[0m \u001b[0;34m*\u001b[0m\u001b[0mtensors\u001b[0m\u001b[0;34m)\u001b[0m\u001b[0;34m\u001b[0m\u001b[0;34m\u001b[0m\u001b[0m\n\u001b[0;32m---> 73\u001b[0;31m     \u001b[0;32mreturn\u001b[0m \u001b[0m_VF\u001b[0m\u001b[0;34m.\u001b[0m\u001b[0mbroadcast_tensors\u001b[0m\u001b[0;34m(\u001b[0m\u001b[0mtensors\u001b[0m\u001b[0;34m)\u001b[0m  \u001b[0;31m# type: ignore[attr-defined]\u001b[0m\u001b[0;34m\u001b[0m\u001b[0;34m\u001b[0m\u001b[0m\n\u001b[0m\u001b[1;32m     74\u001b[0m \u001b[0;34m\u001b[0m\u001b[0m\n\u001b[1;32m     75\u001b[0m \u001b[0;34m\u001b[0m\u001b[0m\n",
            "\u001b[0;31mRuntimeError\u001b[0m: The size of tensor a (77118) must match the size of tensor b (102824) at non-singleton dimension 0"
          ]
        }
      ]
    },
    {
      "cell_type": "code",
      "source": [
        "# Import necessary libraries and functions\n",
        "import torch.optim as optim\n",
        "import torch.utils.data as data\n",
        "from scipy.stats import zscore\n",
        "\n",
        "# Define a function to calculate Z-scores for data\n",
        "def get_z_score(df):\n",
        "    mean = df.mean().mean()\n",
        "    std = df.stack().std()\n",
        "    return (df - mean) / std\n",
        "\n",
        "# Define a function to normalize data\n",
        "def normalize_data(df, exclude_cols=None):\n",
        "    all_cols = list(df.columns)\n",
        "    if exclude_cols:\n",
        "        for col in exclude_cols:\n",
        "            all_cols.remove(col)\n",
        "\n",
        "    df[all_cols] = get_z_score(df[all_cols])\n",
        "    min_ = df[all_cols].min().min()\n",
        "    max_ = df[all_cols].max().max()\n",
        "    df[all_cols] = (df[all_cols] - min_) / (max_ - min_)\n",
        "    return df\n",
        "\n",
        "# Define a function to normalize data along a specified axis\n",
        "def normalize_data_axis(df, axis=1):\n",
        "    MIN = df.min(axis)\n",
        "    MAX = df.max(axis)\n",
        "    return df.sub(MIN, 1 - axis).div(MAX - MIN, 1 - axis)\n",
        "\n",
        "# Load and preprocess your data using these functions\n",
        "filtered_all_lines_temp = filtered_all_lines[filtered_all_lines.columns[1:]]\n",
        "std = filtered_all_lines_temp.stack().std()\n",
        "mean = filtered_all_lines_temp.mean().mean()\n",
        "Min = filtered_all_lines_temp.min().min()\n",
        "Max = filtered_all_lines_temp.max().max()\n",
        "\n",
        "predicted_values = []\n",
        "\n",
        "with torch.no_grad():\n",
        "    predicted_values = lstm1.forward(X_torch)\n",
        "    predicted_values = predicted_values.numpy()\n",
        "\n",
        "predicted_values = predicted_values[:77118]\n",
        "\n",
        "print(predicted_values[100])\n",
        "\n",
        "# Normalize the predicted values\n",
        "# normalized = predicted_values\n",
        "# for i in range(len(normalized)):\n",
        "#     normalized[i] = (normalized[i] - Min) / (Max - Min)\n",
        "\n",
        "# Example of plotting using matplotlib\n",
        "import matplotlib.pyplot as plt\n",
        "\n",
        "to_num = 100\n",
        "pred_pres = predicted_values[:to_num] #changed from normalized[:to_num]\n",
        "x_coords = [i for i in range(to_num)]\n",
        "\n",
        "actuals = []\n",
        "for i in range(len(Y_torch)):\n",
        "    actuals.append(Y_torch[i])\n",
        "\n",
        "actuals = actuals[:to_num]\n",
        "\n",
        "plt.plot(x_coords, pred_pres, color=\"red\", label=\"Predicted\")\n",
        "plt.plot(x_coords, actuals, color=\"green\", label=\"Actual\")\n",
        "plt.xlabel(\"Sample Index\")\n",
        "plt.ylabel(\"Normalized Values\")\n",
        "plt.legend()\n",
        "plt.show()\n"
      ],
      "metadata": {
        "colab": {
          "base_uri": "https://localhost:8080/",
          "height": 556
        },
        "id": "V0gA4UHbbgT6",
        "outputId": "e6e8b20f-9709-49f0-d11f-6732cff781a0"
      },
      "execution_count": null,
      "outputs": [
        {
          "output_type": "stream",
          "name": "stdout",
          "text": [
            "[0.]\n"
          ]
        },
        {
          "output_type": "stream",
          "name": "stderr",
          "text": [
            "/usr/local/lib/python3.10/dist-packages/numpy/core/shape_base.py:65: FutureWarning: The input object of type 'Tensor' is an array-like implementing one of the corresponding protocols (`__array__`, `__array_interface__` or `__array_struct__`); but not a sequence (or 0-D). In the future, this object will be coerced as if it was first converted using `np.array(obj)`. To retain the old behaviour, you have to either modify the type 'Tensor', or assign to an empty array created with `np.empty(correct_shape, dtype=object)`.\n",
            "  ary = asanyarray(ary)\n",
            "/usr/local/lib/python3.10/dist-packages/numpy/core/shape_base.py:65: VisibleDeprecationWarning: Creating an ndarray from ragged nested sequences (which is a list-or-tuple of lists-or-tuples-or ndarrays with different lengths or shapes) is deprecated. If you meant to do this, you must specify 'dtype=object' when creating the ndarray.\n",
            "  ary = asanyarray(ary)\n"
          ]
        },
        {
          "output_type": "display_data",
          "data": {
            "text/plain": [
              "<Figure size 640x480 with 1 Axes>"
            ],
            "image/png": "[encoded data removed]"
          },
          "metadata": {}
        }
      ]
    },
    {
      "cell_type": "code",
      "source": [
        "# test to check values, with input data only\n",
        "\n",
        "import matplotlib.pyplot as plt\n",
        "# %matplotlib inline\n",
        "\n",
        "sample = X[1]\n",
        "predicted_values = []\n",
        "\n",
        "with torch.no_grad():\n",
        "    # for sample in X:\n",
        "    predicted_values = lstm1.forward(torch.Tensor(X))\n",
        "    predicted_values = predicted_values.numpy()\n",
        "        # .data.numpy()\n",
        "        # predicted_values.append(predicted_values)\n",
        "# predicted_values= predicted_values.reshape(len(Y),).tolist()\n",
        "print (len(predicted_values))"
      ],
      "metadata": {
        "colab": {
          "base_uri": "https://localhost:8080/",
          "height": 246
        },
        "id": "9ZHF5Vg7iSeb",
        "outputId": "753caca0-729e-437d-8ffc-c34d424df879"
      },
      "execution_count": null,
      "outputs": [
        {
          "output_type": "error",
          "ename": "NameError",
          "evalue": "ignored",
          "traceback": [
            "\u001b[0;31m---------------------------------------------------------------------------\u001b[0m",
            "\u001b[0;31mNameError\u001b[0m                                 Traceback (most recent call last)",
            "\u001b[0;32m<ipython-input-20-252eb4dd5e97>\u001b[0m in \u001b[0;36m<cell line: 6>\u001b[0;34m()\u001b[0m\n\u001b[1;32m      4\u001b[0m \u001b[0;31m# %matplotlib inline\u001b[0m\u001b[0;34m\u001b[0m\u001b[0;34m\u001b[0m\u001b[0m\n\u001b[1;32m      5\u001b[0m \u001b[0;34m\u001b[0m\u001b[0m\n\u001b[0;32m----> 6\u001b[0;31m \u001b[0msample\u001b[0m \u001b[0;34m=\u001b[0m \u001b[0mX\u001b[0m\u001b[0;34m[\u001b[0m\u001b[0;36m1\u001b[0m\u001b[0;34m]\u001b[0m\u001b[0;34m\u001b[0m\u001b[0;34m\u001b[0m\u001b[0m\n\u001b[0m\u001b[1;32m      7\u001b[0m \u001b[0mpredicted_values\u001b[0m \u001b[0;34m=\u001b[0m \u001b[0;34m[\u001b[0m\u001b[0;34m]\u001b[0m\u001b[0;34m\u001b[0m\u001b[0;34m\u001b[0m\u001b[0m\n\u001b[1;32m      8\u001b[0m \u001b[0;34m\u001b[0m\u001b[0m\n",
            "\u001b[0;31mNameError\u001b[0m: name 'X' is not defined"
          ]
        }
      ]
    },
    {
      "cell_type": "code",
      "source": [
        "to_num = 500\n",
        "\n",
        "pred_pres = predicted_values[:to_num]\n",
        "x_coords = [i for i in range(to_num)]\n",
        "actual = Y_torch[:to_num]\n",
        "\n",
        "plt.plot(x_coords, pred_pres, 'o', color = \"red\")\n",
        "plt.plot(x_coords, actual , 'o', color = \"green\")\n",
        "# plt.plot(len(Y), Y)\n"
      ],
      "metadata": {
        "colab": {
          "base_uri": "https://localhost:8080/",
          "height": 447
        },
        "id": "964DUXehiScE",
        "outputId": "9553a9d4-b613-4028-9ed1-7f9cd129591a"
      },
      "execution_count": null,
      "outputs": [
        {
          "output_type": "execute_result",
          "data": {
            "text/plain": [
              "[<matplotlib.lines.Line2D at 0x7d5be7b3b9d0>]"
            ]
          },
          "metadata": {},
          "execution_count": 30
        },
        {
          "output_type": "display_data",
          "data": {
            "text/plain": [
              "<Figure size 640x480 with 1 Axes>"
            ],
            "image/png": "[encoded data removed]"
          },
          "metadata": {}
        }
      ]
    },
    {
      "cell_type": "code",
      "source": [
        "gene_names_rmse = []\n",
        "\n",
        "for i, gene_name in enumerate(all_gene_names):\n",
        "  rmse = np.sqrt(np.mean((predicted_values[i] - Y_torch[i].numpy())**2))\n",
        "  gene_rmse = (gene_name, rmse)\n",
        "  gene_names_rmse.append(gene_rmse)\n",
        "\n",
        "# gene_names_rmse is now a list of tuples (gene_name, rmse)"
      ],
      "metadata": {
        "id": "njfW0Ac25B1Y"
      },
      "execution_count": null,
      "outputs": []
    },
    {
      "cell_type": "code",
      "source": [
        "import csv\n",
        "\n",
        "gene_names_rmse = []\n",
        "\n",
        "for i, gene_name in enumerate(all_gene_names):\n",
        "  rmse = np.sqrt(np.mean((predicted_values[i] - Y_torch[i].numpy())**2))\n",
        "  gene_rmse = (gene_name, rmse)\n",
        "  gene_names_rmse.append(gene_rmse)\n",
        "\n",
        "with open('gene_rmse.csv', 'w') as f:\n",
        "  writer = csv.writer(f)\n",
        "  writer.writerow(['Gene Name', 'RMSE']) # Column headers\n",
        "  for row in gene_names_rmse:\n",
        "    writer.writerow(row) # Each row is a tuple"
      ],
      "metadata": {
        "id": "2Tb88gc05Bs1"
      },
      "execution_count": null,
      "outputs": []
    },
    {
      "cell_type": "code",
      "source": [],
      "metadata": {
        "id": "j2IF8G795Bjn"
      },
      "execution_count": null,
      "outputs": []
    },
    {
      "cell_type": "code",
      "source": [],
      "metadata": {
        "id": "W05uwR1v5Bgy"
      },
      "execution_count": null,
      "outputs": []
    },
    {
      "cell_type": "code",
      "source": [],
      "metadata": {
        "id": "LMb6M22s5Bcz"
      },
      "execution_count": null,
      "outputs": []
    },
    {
      "cell_type": "code",
      "source": [],
      "metadata": {
        "id": "PZIn6XId5BaB"
      },
      "execution_count": null,
      "outputs": []
    },
    {
      "cell_type": "code",
      "source": [],
      "metadata": {
        "id": "is6-Vj2L5BW6"
      },
      "execution_count": null,
      "outputs": []
    },
    {
      "cell_type": "code",
      "source": [
        "# Another training script\n",
        "import torch.optim as optim\n",
        "import torch.utils.data as data\n",
        "\n",
        "hidden_size = X_torch.shape[2]\n",
        "model = ImprovedLSTM(input_size, hidden_size, num_layers, seq_length) #our lstm class\n",
        "# model = lstm1\n",
        "\n",
        "X_train, y_train = X_torch, Y_torch\n",
        "print(X_train.shape)\n",
        "optimizer = optim.Adam(model.parameters(), lr=0.0001)\n",
        "loss_fn = nn.MSELoss()\n",
        "# loader = data.DataLoader(data.TensorDataset(X_train, y_train), shuffle=True, batch_size=256)\n",
        "\n",
        "n_epochs = 250\n",
        "for epoch in tqdm(range(n_epochs)):\n",
        "    model.train()\n",
        "    for X_batch, y_batch in loader:\n",
        "        y_pred = model(X_batch)\n",
        "        loss = loss_fn(y_pred, y_batch)\n",
        "        optimizer.zero_grad()\n",
        "        loss.backward()\n",
        "        optimizer.step()\n",
        "    # Validation\n",
        "    if epoch % 5 != 0:\n",
        "        continue\n",
        "    model.eval()\n",
        "    with torch.no_grad():\n",
        "        y_pred = model(X_train)\n",
        "        train_rmse = np.sqrt(loss_fn(y_pred, y_train))\n",
        "\n",
        "    print(\"Epoch %d: train RMSE %.4f\" % (epoch, train_rmse))"
      ],
      "metadata": {
        "colab": {
          "base_uri": "https://localhost:8080/",
          "height": 302,
          "referenced_widgets": [
            "59a58dbff1ab435498220e480abe937e",
            "5f01ea20d73c440c855833165e1923a2",
            "e2ab31fd915a497a8a92782a593e2ba2",
            "7d71c135d97f4ea79b4199c57f1daa3b",
            "ed6d0fbec59945cfa0f43be31dd816db",
            "ec25e973e23f4eec8388e4a31e65930d",
            "c79ea6c2442944dab30ca23f4cb968bb",
            "9bbaa169026f438198872e5f2a3de2a1",
            "ea584e8a548e4b5daeac8690f0dc213f",
            "f1f60fd4d25045f5ac6580acd71128e6",
            "52aeba6b5fc14a048101a31adb8fa2c8"
          ]
        },
        "id": "beAkv1q1iSZw",
        "outputId": "236fdeba-e5eb-4005-f300-82fc2cbf84ec"
      },
      "execution_count": null,
      "outputs": [
        {
          "output_type": "stream",
          "name": "stdout",
          "text": [
            "torch.Size([25706, 4, 3, 5])\n"
          ]
        },
        {
          "output_type": "display_data",
          "data": {
            "text/plain": [
              "  0%|          | 0/250 [00:00<?, ?it/s]"
            ],
            "application/vnd.jupyter.widget-view+json": {
              "version_major": 2,
              "version_minor": 0,
              "model_id": "59a58dbff1ab435498220e480abe937e"
            }
          },
          "metadata": {}
        },
        {
          "output_type": "error",
          "ename": "NameError",
          "evalue": "ignored",
          "traceback": [
            "\u001b[0;31m---------------------------------------------------------------------------\u001b[0m",
            "\u001b[0;31mNameError\u001b[0m                                 Traceback (most recent call last)",
            "\u001b[0;32m<ipython-input-130-60a25991a981>\u001b[0m in \u001b[0;36m<cell line: 16>\u001b[0;34m()\u001b[0m\n\u001b[1;32m     16\u001b[0m \u001b[0;32mfor\u001b[0m \u001b[0mepoch\u001b[0m \u001b[0;32min\u001b[0m \u001b[0mtqdm\u001b[0m\u001b[0;34m(\u001b[0m\u001b[0mrange\u001b[0m\u001b[0;34m(\u001b[0m\u001b[0mn_epochs\u001b[0m\u001b[0;34m)\u001b[0m\u001b[0;34m)\u001b[0m\u001b[0;34m:\u001b[0m\u001b[0;34m\u001b[0m\u001b[0;34m\u001b[0m\u001b[0m\n\u001b[1;32m     17\u001b[0m     \u001b[0mmodel\u001b[0m\u001b[0;34m.\u001b[0m\u001b[0mtrain\u001b[0m\u001b[0;34m(\u001b[0m\u001b[0;34m)\u001b[0m\u001b[0;34m\u001b[0m\u001b[0;34m\u001b[0m\u001b[0m\n\u001b[0;32m---> 18\u001b[0;31m     \u001b[0;32mfor\u001b[0m \u001b[0mX_batch\u001b[0m\u001b[0;34m,\u001b[0m \u001b[0my_batch\u001b[0m \u001b[0;32min\u001b[0m \u001b[0mloader\u001b[0m\u001b[0;34m:\u001b[0m\u001b[0;34m\u001b[0m\u001b[0;34m\u001b[0m\u001b[0m\n\u001b[0m\u001b[1;32m     19\u001b[0m         \u001b[0my_pred\u001b[0m \u001b[0;34m=\u001b[0m \u001b[0mmodel\u001b[0m\u001b[0;34m(\u001b[0m\u001b[0mX_batch\u001b[0m\u001b[0;34m)\u001b[0m\u001b[0;34m\u001b[0m\u001b[0;34m\u001b[0m\u001b[0m\n\u001b[1;32m     20\u001b[0m         \u001b[0mloss\u001b[0m \u001b[0;34m=\u001b[0m \u001b[0mloss_fn\u001b[0m\u001b[0;34m(\u001b[0m\u001b[0my_pred\u001b[0m\u001b[0;34m,\u001b[0m \u001b[0my_batch\u001b[0m\u001b[0;34m)\u001b[0m\u001b[0;34m\u001b[0m\u001b[0;34m\u001b[0m\u001b[0m\n",
            "\u001b[0;31mNameError\u001b[0m: name 'loader' is not defined"
          ]
        }
      ]
    },
    {
      "cell_type": "code",
      "source": [
        "torch.save(model.state_dict(), \"weights.pt\")\n",
        "model = LSTM1(num_classes, input_size, hidden_size, num_layers, seq_length)\n",
        "model.load_state_dict(torch.load(\"weights.pt\"))\n",
        "model.eval()"
      ],
      "metadata": {
        "colab": {
          "base_uri": "https://localhost:8080/"
        },
        "id": "P3vKzuq4iSXY",
        "outputId": "c9c31c08-84e9-4142-c3a3-9d2468912c54"
      },
      "execution_count": null,
      "outputs": [
        {
          "output_type": "execute_result",
          "data": {
            "text/plain": [
              "LSTM1(\n",
              "  (lstm): LSTM(5, 5, batch_first=True)\n",
              "  (fc_1): Linear(in_features=5, out_features=128, bias=True)\n",
              "  (fc): Linear(in_features=128, out_features=1, bias=True)\n",
              "  (relu): ReLU()\n",
              ")"
            ]
          },
          "metadata": {},
          "execution_count": 28
        }
      ]
    },
    {
      "cell_type": "code",
      "source": [
        "# post process\n",
        "from scipy.stats import zscore\n",
        "\n",
        "from scipy.stats import zscore\n",
        "\n",
        "def get_z_score(df):\n",
        "    # mean = df.mean(axis=None)\n",
        "    mean = df.mean().mean()\n",
        "    print (\"Mean\", mean)\n",
        "    # std = df.std(axis=None)\n",
        "    std = df.stack().std()\n",
        "    return (df- mean)/std\n",
        "\n",
        "def normalize_data(df, exclude_cols=None):\n",
        "    # if cols == None:\n",
        "    #     cols = df.select_dtypes(np.number).columns\n",
        "    all_cols = list(df.columns)\n",
        "    if exclude_cols!=None:\n",
        "        for i in exclude_cols:\n",
        "            all_cols.remove(i)\n",
        "    print (all_cols)\n",
        "\n",
        "    df[all_cols] = get_z_score(df[all_cols])\n",
        "    # df[all_cols] = minmax_scale(df[all_cols])\n",
        "    min_ = df[all_cols].min().min()\n",
        "    max_ = df[all_cols].max().max()\n",
        "\n",
        "    df[all_cols] = (df[all_cols]-min_)/(max_-min_)\n",
        "    return df\n",
        "\n",
        "def normalize_data_axis(df, axis=1):\n",
        "    MIN = df.min(axis)\n",
        "    print (MIN)\n",
        "    MAX = df.max(axis)\n",
        "    # df = df.apply(zscore,axis)\n",
        "    return df.sub(MIN, 1-axis).div(MAX-MIN, 1-axis)\n",
        "\n",
        "filtered_all_lines_temp = filtered_all_lines[filtered_all_lines.columns[1:]]\n",
        "\n",
        "# std = filtered_all_lines.std()\n",
        "std = filtered_all_lines_temp.stack().std()\n",
        "# mean = filtered_all_lines.mean()\n",
        "mean = filtered_all_lines_temp.mean().mean()\n",
        "Min = filtered_all_lines_temp.min().min()\n",
        "Max = filtered_all_lines_temp.max().max()\n",
        "\n",
        "predicted_values = []\n",
        "\n",
        "with torch.no_grad():\n",
        "    # for sample in X:\n",
        "    predicted_values = lstm1.forward(torch.Tensor(X))\n",
        "    predicted_values = predicted_values.numpy()\n",
        "        # .data.numpy()\n",
        "        # predicted_values.append(predicted_values)\n",
        "predicted_values= predicted_values.reshape(len(Y),).tolist()\n",
        "print (len(predicted_values))\n",
        "\n",
        "predicted_parts = []\n",
        "normalized = predicted_values\n",
        "\n",
        "def get_original (normalized):\n",
        "    # z score back step\n",
        "    original = std*normalized + mean\n",
        "\n",
        "    #  min max back\n",
        "    original = normalized* (Max-Min)+ Min\n",
        "    return original\n",
        "\n",
        "\n"
      ],
      "metadata": {
        "colab": {
          "base_uri": "https://localhost:8080/"
        },
        "id": "bo2jf6X1iSVC",
        "outputId": "6934f1af-b107-4559-b4a8-acd0f84c6c85"
      },
      "execution_count": null,
      "outputs": [
        {
          "output_type": "stream",
          "name": "stdout",
          "text": [
            "102824\n"
          ]
        }
      ]
    },
    {
      "cell_type": "code",
      "source": [
        "import matplotlib.pyplot as plt\n",
        "# %matplotlib inline\n",
        "\n",
        "sample = X[0]\n",
        "predicted_values = []\n",
        "\n",
        "with torch.no_grad():\n",
        "    # for sample in X:\n",
        "    predicted_values = model.forward(torch.Tensor(X))\n",
        "    predicted_values = predicted_values.numpy()\n",
        "        # .data.numpy()\n",
        "        # predicted_values.append(predicted_values)\n",
        "predicted_values= predicted_values.reshape(len(Y),).tolist()\n",
        "\n",
        "for i in range(len(predicted_values)):\n",
        "    predicted_values[i]=get_original(predicted_values[i])\n",
        "\n",
        "\n",
        "print (len(predicted_values))"
      ],
      "metadata": {
        "colab": {
          "base_uri": "https://localhost:8080/"
        },
        "id": "m0Ec8i6liSSs",
        "outputId": "ecaf3a25-2d19-4eb7-eb3e-e0899593a219"
      },
      "execution_count": null,
      "outputs": [
        {
          "output_type": "stream",
          "name": "stdout",
          "text": [
            "102824\n"
          ]
        }
      ]
    },
    {
      "cell_type": "code",
      "source": [
        "to_num = 100\n",
        "pred_pres = predicted_values[:to_num]\n",
        "x_coords = [i for i in range(to_num)]\n",
        "\n",
        "actuals = []\n",
        "for i in range(len(Y)):\n",
        "    actuals.append(get_original(Y[i]))\n",
        "\n",
        "actuals = actuals[:to_num]\n",
        "\n",
        "# plt.plot(x_coords, pred_pres, 'o', color = \"red\", markersize=5)\n",
        "# plt.plot(x_coords, actuals , 'o', color = \"green\")\n",
        "\n",
        "# plt.figure(figsize=(10, 10))\n",
        "plt.plot(x_coords, pred_pres, color = \"red\")\n",
        "plt.plot(x_coords, actuals, color = \"green\")"
      ],
      "metadata": {
        "colab": {
          "base_uri": "https://localhost:8080/",
          "height": 448
        },
        "id": "UOIMjX8biSQm",
        "outputId": "fba24082-84d2-4a1a-901c-bf825f7adba3"
      },
      "execution_count": null,
      "outputs": [
        {
          "output_type": "execute_result",
          "data": {
            "text/plain": [
              "[<matplotlib.lines.Line2D at 0x798e2f6054e0>]"
            ]
          },
          "metadata": {},
          "execution_count": 31
        },
        {
          "output_type": "display_data",
          "data": {
            "text/plain": [
              "<Figure size 640x480 with 1 Axes>"
            ],
            "image/png": "[encoded data removed]"
          },
          "metadata": {}
        }
      ]
    },
    {
      "cell_type": "code",
      "source": [],
      "metadata": {
        "id": "4HEJSvF_iSOQ"
      },
      "execution_count": null,
      "outputs": []
    },
    {
      "cell_type": "code",
      "source": [],
      "metadata": {
        "id": "4t2tvwgeiSLp"
      },
      "execution_count": null,
      "outputs": []
    },
    {
      "cell_type": "code",
      "source": [],
      "metadata": {
        "id": "kQefHHCIiSGL"
      },
      "execution_count": null,
      "outputs": []
    },
    {
      "cell_type": "code",
      "source": [],
      "metadata": {
        "id": "vaRHc0ETiSDn"
      },
      "execution_count": null,
      "outputs": []
    }
  ]
}