{
  "nbformat": 4,
  "nbformat_minor": 0,
  "metadata": {
    "colab": {
      "provenance": []
    },
    "kernelspec": {
      "name": "python3",
      "display_name": "Python 3"
    },
    "language_info": {
      "name": "python"
    },
    "widgets": {
      "application/vnd.jupyter.widget-state+json": {
        "4b44fb2d9e8747b7aa2b28e4d4cce40b": {
          "model_module": "@jupyter-widgets/controls",
          "model_name": "HBoxModel",
          "model_module_version": "1.5.0",
          "state": {
            "_dom_classes": [],
            "_model_module": "@jupyter-widgets/controls",
            "_model_module_version": "1.5.0",
            "_model_name": "HBoxModel",
            "_view_count": null,
            "_view_module": "@jupyter-widgets/controls",
            "_view_module_version": "1.5.0",
            "_view_name": "HBoxView",
            "box_style": "",
            "children": [
              "IPY_MODEL_bac8a19ee2bd4390aa6b013c38965604",
              "IPY_MODEL_dea6c8c57c144a76abf59fc547d0b93e",
              "IPY_MODEL_4608f5a2d2774ce0b074d4bcda233b27"
            ],
            "layout": "IPY_MODEL_303a7621bd054baf81a35d6b0ef4ad1f"
          }
        },
        "bac8a19ee2bd4390aa6b013c38965604": {
          "model_module": "@jupyter-widgets/controls",
          "model_name": "HTMLModel",
          "model_module_version": "1.5.0",
          "state": {
            "_dom_classes": [],
            "_model_module": "@jupyter-widgets/controls",
            "_model_module_version": "1.5.0",
            "_model_name": "HTMLModel",
            "_view_count": null,
            "_view_module": "@jupyter-widgets/controls",
            "_view_module_version": "1.5.0",
            "_view_name": "HTMLView",
            "description": "",
            "description_tooltip": null,
            "layout": "IPY_MODEL_4e187b57b05349fe9fe2ec321ca7b48e",
            "placeholder": "​",
            "style": "IPY_MODEL_57825da541b746f48b57ce33b83ebcfb",
            "value": "100%"
          }
        },
        "dea6c8c57c144a76abf59fc547d0b93e": {
          "model_module": "@jupyter-widgets/controls",
          "model_name": "FloatProgressModel",
          "model_module_version": "1.5.0",
          "state": {
            "_dom_classes": [],
            "_model_module": "@jupyter-widgets/controls",
            "_model_module_version": "1.5.0",
            "_model_name": "FloatProgressModel",
            "_view_count": null,
            "_view_module": "@jupyter-widgets/controls",
            "_view_module_version": "1.5.0",
            "_view_name": "ProgressView",
            "bar_style": "success",
            "description": "",
            "description_tooltip": null,
            "layout": "IPY_MODEL_44828cc016fd49acb4667381f089f1a7",
            "max": 150,
            "min": 0,
            "orientation": "horizontal",
            "style": "IPY_MODEL_7c8f60cb4ea24c23b9a60fb6e0d43666",
            "value": 150
          }
        },
        "4608f5a2d2774ce0b074d4bcda233b27": {
          "model_module": "@jupyter-widgets/controls",
          "model_name": "HTMLModel",
          "model_module_version": "1.5.0",
          "state": {
            "_dom_classes": [],
            "_model_module": "@jupyter-widgets/controls",
            "_model_module_version": "1.5.0",
            "_model_name": "HTMLModel",
            "_view_count": null,
            "_view_module": "@jupyter-widgets/controls",
            "_view_module_version": "1.5.0",
            "_view_name": "HTMLView",
            "description": "",
            "description_tooltip": null,
            "layout": "IPY_MODEL_34abea8502eb46d69c00259f484e9d76",
            "placeholder": "​",
            "style": "IPY_MODEL_8482eb5e65224ecba9b0d858febc73d6",
            "value": " 150/150 [02:44&lt;00:00,  1.16s/it]"
          }
        },
        "303a7621bd054baf81a35d6b0ef4ad1f": {
          "model_module": "@jupyter-widgets/base",
          "model_name": "LayoutModel",
          "model_module_version": "1.2.0",
          "state": {
            "_model_module": "@jupyter-widgets/base",
            "_model_module_version": "1.2.0",
            "_model_name": "LayoutModel",
            "_view_count": null,
            "_view_module": "@jupyter-widgets/base",
            "_view_module_version": "1.2.0",
            "_view_name": "LayoutView",
            "align_content": null,
            "align_items": null,
            "align_self": null,
            "border": null,
            "bottom": null,
            "display": null,
            "flex": null,
            "flex_flow": null,
            "grid_area": null,
            "grid_auto_columns": null,
            "grid_auto_flow": null,
            "grid_auto_rows": null,
            "grid_column": null,
            "grid_gap": null,
            "grid_row": null,
            "grid_template_areas": null,
            "grid_template_columns": null,
            "grid_template_rows": null,
            "height": null,
            "justify_content": null,
            "justify_items": null,
            "left": null,
            "margin": null,
            "max_height": null,
            "max_width": null,
            "min_height": null,
            "min_width": null,
            "object_fit": null,
            "object_position": null,
            "order": null,
            "overflow": null,
            "overflow_x": null,
            "overflow_y": null,
            "padding": null,
            "right": null,
            "top": null,
            "visibility": null,
            "width": null
          }
        },
        "4e187b57b05349fe9fe2ec321ca7b48e": {
          "model_module": "@jupyter-widgets/base",
          "model_name": "LayoutModel",
          "model_module_version": "1.2.0",
          "state": {
            "_model_module": "@jupyter-widgets/base",
            "_model_module_version": "1.2.0",
            "_model_name": "LayoutModel",
            "_view_count": null,
            "_view_module": "@jupyter-widgets/base",
            "_view_module_version": "1.2.0",
            "_view_name": "LayoutView",
            "align_content": null,
            "align_items": null,
            "align_self": null,
            "border": null,
            "bottom": null,
            "display": null,
            "flex": null,
            "flex_flow": null,
            "grid_area": null,
            "grid_auto_columns": null,
            "grid_auto_flow": null,
            "grid_auto_rows": null,
            "grid_column": null,
            "grid_gap": null,
            "grid_row": null,
            "grid_template_areas": null,
            "grid_template_columns": null,
            "grid_template_rows": null,
            "height": null,
            "justify_content": null,
            "justify_items": null,
            "left": null,
            "margin": null,
            "max_height": null,
            "max_width": null,
            "min_height": null,
            "min_width": null,
            "object_fit": null,
            "object_position": null,
            "order": null,
            "overflow": null,
            "overflow_x": null,
            "overflow_y": null,
            "padding": null,
            "right": null,
            "top": null,
            "visibility": null,
            "width": null
          }
        },
        "57825da541b746f48b57ce33b83ebcfb": {
          "model_module": "@jupyter-widgets/controls",
          "model_name": "DescriptionStyleModel",
          "model_module_version": "1.5.0",
          "state": {
            "_model_module": "@jupyter-widgets/controls",
            "_model_module_version": "1.5.0",
            "_model_name": "DescriptionStyleModel",
            "_view_count": null,
            "_view_module": "@jupyter-widgets/base",
            "_view_module_version": "1.2.0",
            "_view_name": "StyleView",
            "description_width": ""
          }
        },
        "44828cc016fd49acb4667381f089f1a7": {
          "model_module": "@jupyter-widgets/base",
          "model_name": "LayoutModel",
          "model_module_version": "1.2.0",
          "state": {
            "_model_module": "@jupyter-widgets/base",
            "_model_module_version": "1.2.0",
            "_model_name": "LayoutModel",
            "_view_count": null,
            "_view_module": "@jupyter-widgets/base",
            "_view_module_version": "1.2.0",
            "_view_name": "LayoutView",
            "align_content": null,
            "align_items": null,
            "align_self": null,
            "border": null,
            "bottom": null,
            "display": null,
            "flex": null,
            "flex_flow": null,
            "grid_area": null,
            "grid_auto_columns": null,
            "grid_auto_flow": null,
            "grid_auto_rows": null,
            "grid_column": null,
            "grid_gap": null,
            "grid_row": null,
            "grid_template_areas": null,
            "grid_template_columns": null,
            "grid_template_rows": null,
            "height": null,
            "justify_content": null,
            "justify_items": null,
            "left": null,
            "margin": null,
            "max_height": null,
            "max_width": null,
            "min_height": null,
            "min_width": null,
            "object_fit": null,
            "object_position": null,
            "order": null,
            "overflow": null,
            "overflow_x": null,
            "overflow_y": null,
            "padding": null,
            "right": null,
            "top": null,
            "visibility": null,
            "width": null
          }
        },
        "7c8f60cb4ea24c23b9a60fb6e0d43666": {
          "model_module": "@jupyter-widgets/controls",
          "model_name": "ProgressStyleModel",
          "model_module_version": "1.5.0",
          "state": {
            "_model_module": "@jupyter-widgets/controls",
            "_model_module_version": "1.5.0",
            "_model_name": "ProgressStyleModel",
            "_view_count": null,
            "_view_module": "@jupyter-widgets/base",
            "_view_module_version": "1.2.0",
            "_view_name": "StyleView",
            "bar_color": null,
            "description_width": ""
          }
        },
        "34abea8502eb46d69c00259f484e9d76": {
          "model_module": "@jupyter-widgets/base",
          "model_name": "LayoutModel",
          "model_module_version": "1.2.0",
          "state": {
            "_model_module": "@jupyter-widgets/base",
            "_model_module_version": "1.2.0",
            "_model_name": "LayoutModel",
            "_view_count": null,
            "_view_module": "@jupyter-widgets/base",
            "_view_module_version": "1.2.0",
            "_view_name": "LayoutView",
            "align_content": null,
            "align_items": null,
            "align_self": null,
            "border": null,
            "bottom": null,
            "display": null,
            "flex": null,
            "flex_flow": null,
            "grid_area": null,
            "grid_auto_columns": null,
            "grid_auto_flow": null,
            "grid_auto_rows": null,
            "grid_column": null,
            "grid_gap": null,
            "grid_row": null,
            "grid_template_areas": null,
            "grid_template_columns": null,
            "grid_template_rows": null,
            "height": null,
            "justify_content": null,
            "justify_items": null,
            "left": null,
            "margin": null,
            "max_height": null,
            "max_width": null,
            "min_height": null,
            "min_width": null,
            "object_fit": null,
            "object_position": null,
            "order": null,
            "overflow": null,
            "overflow_x": null,
            "overflow_y": null,
            "padding": null,
            "right": null,
            "top": null,
            "visibility": null,
            "width": null
          }
        },
        "8482eb5e65224ecba9b0d858febc73d6": {
          "model_module": "@jupyter-widgets/controls",
          "model_name": "DescriptionStyleModel",
          "model_module_version": "1.5.0",
          "state": {
            "_model_module": "@jupyter-widgets/controls",
            "_model_module_version": "1.5.0",
            "_model_name": "DescriptionStyleModel",
            "_view_count": null,
            "_view_module": "@jupyter-widgets/base",
            "_view_module_version": "1.2.0",
            "_view_name": "StyleView",
            "description_width": ""
          }
        }
      }
    }
  },
  "cells": [
    {
      "cell_type": "code",
      "execution_count": null,
      "metadata": {
        "id": "wx_zfTa_h_27"
      },
      "outputs": [],
      "source": [
        "import pandas as pd\n",
        "import numpy as np\n",
        "import os\n",
        "import copy\n",
        "from sklearn.preprocessing import minmax_scale\n",
        "from scipy.stats import zscore\n",
        "import torch\n"
      ]
    },
    {
      "cell_type": "code",
      "source": [
        "fpkm_replicates = pd.read_csv(\"FPKM_replicates.csv\")\n",
        "fpkm_replicates.head()\n",
        "fpkm_replicates.shape"
      ],
      "metadata": {
        "colab": {
          "base_uri": "https://localhost:8080/"
        },
        "id": "jJS3NXKMiKp5",
        "outputId": "fa6aaa16-94f4-46ff-ba6e-d283f370c029"
      },
      "execution_count": null,
      "outputs": [
        {
          "output_type": "execute_result",
          "data": {
            "text/plain": [
              "(33560, 48)"
            ]
          },
          "metadata": {},
          "execution_count": 11
        }
      ]
    },
    {
      "cell_type": "markdown",
      "source": [
        "#Gene Data Filtering"
      ],
      "metadata": {
        "id": "e5mCa3anifDY"
      }
    },
    {
      "cell_type": "code",
      "source": [
        "C_group = fpkm_replicates[[\"tracking_id\"]+[col for col in fpkm_replicates.columns if \"C\" in col]]\n",
        "S_group = fpkm_replicates[[\"tracking_id\"]+[col for col in fpkm_replicates.columns if \"S\" in col]]\n",
        "WT_group = fpkm_replicates[[\"tracking_id\"]+[col for col in fpkm_replicates.columns if \"WT\" in col]]\n",
        "\n",
        "\n",
        "def filter_data(df, min_num_of_non_zero=2):\n",
        "    mask = df.apply(lambda x: x[x != 0].count(), axis=1) >= min_num_of_non_zero\n",
        "    anti_mask = df.apply(lambda x: x[x != 0].count(), axis=1) < min_num_of_non_zero\n",
        "    filtered = df[mask]\n",
        "    removed = df[anti_mask]\n",
        "\n",
        "    return filtered, removed\n",
        "\n",
        "filtered_C, removed_C = filter_data(C_group)\n",
        "filtered_S, removed_S = filter_data(S_group)\n",
        "filtered_WT, removed_WT = filter_data(WT_group)"
      ],
      "metadata": {
        "id": "vgFj_DM3iTCF"
      },
      "execution_count": null,
      "outputs": []
    },
    {
      "cell_type": "code",
      "source": [
        "# Get the union of filtered genes across all plant lines and removed genes\n",
        "\n",
        "# list(set(([1,2,3,4]+[2,3,5]+[4,5,6])))  -> [1, 2, 3, 4, 5, 6]\n",
        "\n",
        "filtered_genes_union = list(set( list(filtered_C[\"tracking_id\"]) + list(filtered_S[\"tracking_id\"]) + list(filtered_WT[\"tracking_id\"])))\n",
        "removed_genes = list( set(C_group[\"tracking_id\"]) - set(filtered_genes_union))\n",
        "\n",
        "pd.DataFrame(filtered_genes_union).to_csv(\"filtered_genes_union.csv\")\n",
        "pd.DataFrame(removed_genes).to_csv(\"removed_genes.csv\")\n",
        "\n",
        "len(filtered_genes_union), len(removed_genes)\n",
        "\n",
        "# Get the dataframes after filtering and union\n",
        "\n",
        "filtered_C, removed_C = C_group[C_group[\"tracking_id\"].isin(filtered_genes_union)], C_group[C_group[\"tracking_id\"].isin(removed_genes)]\n",
        "filtered_S, removed_S = S_group[S_group[\"tracking_id\"].isin(filtered_genes_union)], S_group[S_group[\"tracking_id\"].isin(removed_genes)]\n",
        "filtered_WT, removed_WT = WT_group[WT_group[\"tracking_id\"].isin(filtered_genes_union)], WT_group[WT_group[\"tracking_id\"].isin(removed_genes)]\n",
        "\n",
        "\n",
        "# Combine all filtered Lines\n",
        "filtered_all_lines = pd.DataFrame()\n",
        "filtered_all_lines = pd.concat([filtered_all_lines, filtered_C], axis =1)\n",
        "filtered_all_lines = pd.concat([filtered_all_lines, filtered_S[filtered_S.columns[1:]]], axis =1)\n",
        "filtered_all_lines = pd.concat([filtered_all_lines, filtered_WT[filtered_WT.columns[1:]]], axis =1)\n",
        "\n",
        "filtered_all_lines.to_excel(\"filtered_all_lines.xlsx\", index=False)\n",
        "filtered_all_lines = pd.DataFrame(pd.read_excel(\"filtered_all_lines.xlsx\"))"
      ],
      "metadata": {
        "id": "35vwSgz3iS7V"
      },
      "execution_count": null,
      "outputs": []
    },
    {
      "cell_type": "code",
      "source": [
        "filtered_all_lines = pd.DataFrame(pd.read_excel(\"filtered_all_lines.xlsx\"))"
      ],
      "metadata": {
        "id": "oKJumUttMaFI"
      },
      "execution_count": null,
      "outputs": []
    },
    {
      "cell_type": "markdown",
      "source": [
        "#Prepare Data for RNN"
      ],
      "metadata": {
        "id": "RVMq7R-9m0Zf"
      }
    },
    {
      "cell_type": "code",
      "source": [
        "def get_z_score(df):\n",
        "    # mean = df.mean(axis=None)\n",
        "    mean = df.mean().mean()\n",
        "    print (\"Mean\", mean)\n",
        "    # std = df.std(axis=None)\n",
        "    std = df.stack().std()\n",
        "    return (df- mean)/std\n",
        "\n",
        "def normalize_data(df, exclude_cols=None):\n",
        "    # if cols == None:\n",
        "    #     cols = df.select_dtypes(np.number).columns\n",
        "    all_cols = list(df.columns)\n",
        "    if exclude_cols!=None:\n",
        "        for i in exclude_cols:\n",
        "            all_cols.remove(i)\n",
        "    print (all_cols)\n",
        "\n",
        "    df[all_cols] = get_z_score(df[all_cols])\n",
        "    # df[all_cols] = minmax_scale(df[all_cols])\n",
        "    min_ = df[all_cols].min().min()\n",
        "    max_ = df[all_cols].max().max()\n",
        "\n",
        "    df[all_cols] = (df[all_cols]-min_)/(max_-min_)\n",
        "    return df\n",
        "\n",
        "def normalize_data_axis(df, axis=1):\n",
        "    MIN = df.min(axis)\n",
        "    print (MIN)\n",
        "    MAX = df.max(axis)\n",
        "    # df = df.apply(zscore,axis)\n",
        "    return df.sub(MIN, 1-axis).div(MAX-MIN, 1-axis)\n",
        "\n",
        "\n"
      ],
      "metadata": {
        "id": "BAMlc2FuiS3r"
      },
      "execution_count": null,
      "outputs": []
    },
    {
      "cell_type": "code",
      "source": [
        "lines = [\"C\", \"S\", \"WT\"]\n",
        "# times = [\"0\", \"15\", \"30\", \"60\"]\n",
        "times = [\"0\", \"15\", \"30\"]\n",
        "replicates = [\"1\", \"2\", \"3\", \"4\"]\n",
        "\n",
        "# sample 1 - [over times [{counts, H, RMS, P, ..}]\n",
        "\n",
        "samples = []\n",
        "\n",
        "entire_data = {}\n",
        "\n",
        "# filtered_all_lines = pd.DataFrame(pd.read_excel(\"filtered_all_lines.xlsx\"))\n",
        "\n",
        "all_samples_names = list(filtered_all_lines.columns[1:])\n",
        "\n",
        "avg_freq_df = pd.DataFrame(pd.read_excel(\"AvgFreq.xlsx\"))\n",
        "rms_df = pd.DataFrame(pd.read_excel(\"RMS.xlsx\"))\n",
        "peaks_df = pd.DataFrame(pd.read_excel(\"Peaks.xlsx\"))\n",
        "crest_fac_df = pd.DataFrame(pd.read_excel(\"CrestFactor.xlsx\"))\n",
        "\n",
        "avg_freq_df_normalized = normalize_data_axis(avg_freq_df)\n",
        "rms_df_normalized = normalize_data_axis(rms_df)\n",
        "peaks_df_normalized = normalize_data_axis(peaks_df)\n",
        "crest_fac_df_normalized = normalize_data_axis(crest_fac_df)\n",
        "\n",
        "#write_all_data_path = \"input_data/normalized_data\"\n",
        "\n",
        "filtered_all_lines_normalized = normalize_data(filtered_all_lines, exclude_cols=[\"tracking_id\"])"
      ],
      "metadata": {
        "colab": {
          "base_uri": "https://localhost:8080/"
        },
        "id": "sQZC5Nc9iS0R",
        "outputId": "14f7ae67-6a41-4cc4-d2ab-208b28cf1c2a"
      },
      "execution_count": null,
      "outputs": [
        {
          "output_type": "stream",
          "name": "stdout",
          "text": [
            "0    0.111782\n",
            "dtype: float64\n",
            "0    0.007604\n",
            "dtype: float64\n",
            "0    27.35835\n",
            "dtype: float64\n",
            "0    1.066357\n",
            "dtype: float64\n",
            "['C_0_1', 'C_0_2', 'C_0_3', 'C_0_4', 'C_15_1', 'C_15_2', 'C_15_3', 'C_15_4', 'C_30_1', 'C_30_2', 'C_30_3', 'C_30_4', 'C_60_1', 'C_60_2', 'C_60_3', 'C_60_4', 'S_0_1', 'S_0_2', 'S_0_3', 'S_0_4', 'S_15_1', 'S_15_2', 'S_15_3', 'S_15_4', 'S_30_1', 'S_30_2', 'S_30_3', 'S_30_4', 'S_60_1', 'S_60_2', 'S_60_3', 'S_60_4', 'WT_0_1', 'WT_0_2', 'WT_0_3', 'WT_0_4', 'WT_15_1', 'WT_15_2', 'WT_15_3', 'WT_30_1', 'WT_30_2', 'WT_30_3', 'WT_30_4', 'WT_60_1', 'WT_60_2', 'WT_60_3', 'WT_60_4']\n",
            "Mean 32.69667309097266\n"
          ]
        }
      ]
    },
    {
      "cell_type": "code",
      "source": [
        "all_gene_names = filtered_all_lines_normalized[\"tracking_id\"]"
      ],
      "metadata": {
        "id": "S89O_hml4AII"
      },
      "execution_count": null,
      "outputs": []
    },
    {
      "cell_type": "code",
      "source": [
        "from tqdm import tqdm\n",
        "import torch\n",
        "\n",
        "X_WT = []\n",
        "all_gene_names = filtered_all_lines_normalized[\"tracking_id\"]\n",
        "\n",
        "for gene_name in tqdm(all_gene_names):\n",
        "    gene_data = []\n",
        "\n",
        "    for replicate in range(3):\n",
        "        time_data = []\n",
        "\n",
        "        for time in [0, 15, 30]:\n",
        "            # Modify this line to generate the correct time_based_replicate for WT line\n",
        "            time_based_replicate = f\"WT_{time}_{replicate+1}\"  # Modify \"WT\" here\n",
        "\n",
        "            gene_count = filtered_all_lines_normalized[filtered_all_lines_normalized[\"tracking_id\"] == gene_name][\n",
        "                time_based_replicate\n",
        "            ].item()\n",
        "\n",
        "            avg_frq = avg_freq_df_normalized[time_based_replicate].item()\n",
        "            rms = rms_df_normalized[time_based_replicate].item()\n",
        "            peak = peaks_df_normalized[time_based_replicate].item()\n",
        "            crest_fac = crest_fac_df_normalized[time_based_replicate].item()\n",
        "\n",
        "            time_data.append([gene_count, avg_frq, rms, peak, crest_fac])\n",
        "\n",
        "        gene_data.append(time_data)\n",
        "\n",
        "    X_WT.append(gene_data)\n",
        "\n",
        "X_torch_WT = torch.Tensor(X_WT)\n",
        "print(X_torch_WT.shape)\n"
      ],
      "metadata": {
        "id": "kpUQCD879zvR",
        "colab": {
          "base_uri": "https://localhost:8080/"
        },
        "outputId": "3f56fb03-2be4-43bd-a0e6-e49b54663c0c"
      },
      "execution_count": null,
      "outputs": [
        {
          "output_type": "stream",
          "name": "stderr",
          "text": [
            "100%|██████████| 25706/25706 [16:02<00:00, 26.70it/s]\n"
          ]
        },
        {
          "output_type": "stream",
          "name": "stdout",
          "text": [
            "torch.Size([25706, 3, 3, 5])\n"
          ]
        }
      ]
    },
    {
      "cell_type": "code",
      "source": [
        "X_torch_WT = torch.Tensor(X_torch_WT)\n",
        "print (X_torch_WT.shape)"
      ],
      "metadata": {
        "colab": {
          "base_uri": "https://localhost:8080/"
        },
        "id": "GuIl80BnYySE",
        "outputId": "2af90e98-d186-4fec-e85b-fede41fa79d8"
      },
      "execution_count": null,
      "outputs": [
        {
          "output_type": "stream",
          "name": "stdout",
          "text": [
            "torch.Size([25706, 3, 3, 5])\n"
          ]
        }
      ]
    },
    {
      "cell_type": "code",
      "source": [
        "from tqdm import tqdm\n",
        "import torch\n",
        "\n",
        "all_gene_names = filtered_all_lines_normalized[\"tracking_id\"]\n",
        "Y_group_indexes_WT = ['WT_60_1', 'WT_60_2', 'WT_60_3', 'WT_60_4']  # Modify for the WT line\n",
        "Y_WT = []\n",
        "\n",
        "for gene_name in tqdm(all_gene_names):\n",
        "    each_sample = []\n",
        "    for time_based_replicate in Y_group_indexes_WT:  # Use WT time indexes\n",
        "        gene_count = filtered_all_lines_normalized[filtered_all_lines_normalized[\"tracking_id\"]==gene_name][time_based_replicate].item()\n",
        "        Y_WT.append(gene_count)\n",
        "\n",
        "Y_torch_WT = torch.Tensor(Y_WT)\n",
        "print(Y_torch_WT.shape)\n"
      ],
      "metadata": {
        "colab": {
          "base_uri": "https://localhost:8080/"
        },
        "id": "GBRzsVUH1ZvH",
        "outputId": "99ebb84e-9c8f-48bf-871c-2b3e7d76aa83"
      },
      "execution_count": null,
      "outputs": [
        {
          "output_type": "stream",
          "name": "stderr",
          "text": [
            "100%|██████████| 25706/25706 [07:00<00:00, 61.15it/s]\n"
          ]
        },
        {
          "output_type": "stream",
          "name": "stdout",
          "text": [
            "torch.Size([102824])\n"
          ]
        }
      ]
    },
    {
      "cell_type": "code",
      "source": [
        "Y_torch_WT = torch.Tensor(Y_torch_WT)\n",
        "print (Y_torch_WT.shape)"
      ],
      "metadata": {
        "colab": {
          "base_uri": "https://localhost:8080/"
        },
        "id": "4uDK4wiW5tVF",
        "outputId": "4f09fef2-ad71-4e03-cf31-610cd8f38802"
      },
      "execution_count": null,
      "outputs": [
        {
          "output_type": "stream",
          "name": "stdout",
          "text": [
            "torch.Size([102824])\n"
          ]
        }
      ]
    },
    {
      "cell_type": "code",
      "source": [
        "import torch\n",
        "\n",
        "# X_torch = torch.Tensor(X)\n",
        "# Y_torch = torch.Tensor(Y)\n",
        "# print (X_torch.shape)\n",
        "torch.save(X_torch_WT, 'X_WT.pt')\n",
        "torch.save(Y_torch_WT, 'Y_WT.pt')"
      ],
      "metadata": {
        "id": "pOMrhfzPiSuB"
      },
      "execution_count": null,
      "outputs": []
    },
    {
      "cell_type": "code",
      "source": [
        "import torch\n",
        "X_torch_WT = torch.load('X_WT.pt')\n",
        "Y_torch_WT = torch.load('Y_WT.pt')\n",
        "Y_torch_WT= Y_torch_WT.reshape(Y_torch_WT.shape[0],1)\n",
        "X_torch_WT.shape"
      ],
      "metadata": {
        "id": "q3vQwu0qiSrL",
        "colab": {
          "base_uri": "https://localhost:8080/"
        },
        "outputId": "170224b3-57a8-4a58-d252-adebd761da3b"
      },
      "execution_count": null,
      "outputs": [
        {
          "output_type": "execute_result",
          "data": {
            "text/plain": [
              "torch.Size([25706, 3, 3, 5])"
            ]
          },
          "metadata": {},
          "execution_count": 5
        }
      ]
    },
    {
      "cell_type": "code",
      "source": [
        "import torch.nn as nn\n",
        "# from nn.dropout import dropout\n",
        "X_re = X_torch_WT.view(-1, 3, 5)\n",
        "# class LSTMModel(nn.Module):\n",
        "#     def __init__(self, input_dim, hidden_dim, num_layers, output_dim, drop_prob=0.2):\n",
        "#         super(LSTMModel, self).__init__()\n",
        "\n",
        "#         self.lstm = nn.LSTM(\n",
        "#             input_dim, hidden_dim, num_layers,\n",
        "#             batch_first=True, dropout=drop_prob\n",
        "#         )\n",
        "\n",
        "#         self.dropout = nn.Dropout(drop_prob)\n",
        "\n",
        "#         self.linear = nn.Linear(hidden_dim, output_dim)\n",
        "\n",
        "#     def forward(self, x):\n",
        "#         lstm_out, _ = self.lstm(x)\n",
        "\n",
        "#         out = self.dropout(lstm_out)\n",
        "#         out = out[:,-1,:] # taking the last time step\n",
        "\n",
        "#         out = self.linear(out)\n",
        "#         return out\n",
        "\n",
        "# model = LSTMModel(input_dim=1, hidden_dim=64, num_layers=2, output_dim=1, drop_prob=0.2)\n",
        "import torch.nn as nn\n",
        "\n",
        "class LSTMModel(nn.Module):\n",
        "    def __init__(self, input_dim, hidden_dim, num_layers, output_dim, drop_prob=0.3):\n",
        "        super(LSTMModel, self).__init__()\n",
        "\n",
        "        self.lstm = nn.LSTM(\n",
        "            input_dim, hidden_dim, num_layers,\n",
        "            batch_first=True, dropout=drop_prob\n",
        "        )\n",
        "\n",
        "        self.dropout = nn.Dropout(drop_prob)\n",
        "\n",
        "        self.linear = nn.Linear(hidden_dim, output_dim)\n",
        "        self.activation = nn.Softplus()\n",
        "\n",
        "    def forward(self, x):\n",
        "        lstm_out, _ = self.lstm(x)\n",
        "\n",
        "        out = self.dropout(lstm_out)\n",
        "        out = out[:,-1,:]\n",
        "\n",
        "        out = self.linear(out)\n",
        "\n",
        "        # Adding Tanh activation\n",
        "        out = self.activation(out)\n",
        "        return out\n",
        "\n",
        "model = LSTMModel(input_dim=X_torch_WT.shape[3], hidden_dim=55,\n",
        "                  num_layers=2, output_dim=1, drop_prob=0.3)\n",
        "\n",
        "\n",
        "criterion = nn.MSELoss()\n",
        "optimizer = torch.optim.Adam(model.parameters(), lr=0.0075)\n",
        "Y_torch_WT = Y_torch_WT[:77118]\n",
        "for epoch in range(50):\n",
        "  optimizer.zero_grad()\n",
        "\n",
        "  y_pred = model(X_re)\n",
        "\n",
        "  loss = criterion(y_pred, Y_torch_WT)\n",
        "  loss.backward()\n",
        "\n",
        "  optimizer.step()"
      ],
      "metadata": {
        "id": "kT-A9Jtl2BDm"
      },
      "execution_count": null,
      "outputs": []
    },
    {
      "cell_type": "code",
      "source": [
        "# Evaluate\n",
        "true_y = Y_torch_WT.detach().numpy()\n",
        "pred_y = model(X_re).detach().numpy()\n",
        "print(pred_y.shape)\n",
        "import matplotlib.pyplot as plt\n",
        "import matplotlib.pyplot as plt\n",
        "plt.scatter(true_y, pred_y)\n",
        "plt.xlabel('True Y')\n",
        "plt.ylabel('Predicted Y')"
      ],
      "metadata": {
        "colab": {
          "base_uri": "https://localhost:8080/",
          "height": 484
        },
        "id": "y501H2bx2BAv",
        "outputId": "652d81df-dcdd-4725-82b7-2f9ee6178e13"
      },
      "execution_count": null,
      "outputs": [
        {
          "output_type": "stream",
          "name": "stdout",
          "text": [
            "(77118, 1)\n"
          ]
        },
        {
          "output_type": "execute_result",
          "data": {
            "text/plain": [
              "Text(0, 0.5, 'Predicted Y')"
            ]
          },
          "metadata": {},
          "execution_count": 8
        },
        {
          "output_type": "display_data",
          "data": {
            "text/plain": [
              "<Figure size 640x480 with 1 Axes>"
            ],
            "image/png": "[encoded data removed]"
          },
          "metadata": {}
        }
      ]
    },
    {
      "cell_type": "code",
      "source": [
        "to_num = 100\n",
        "\n",
        "plt.plot(range(to_num), pred_y[:to_num], color=\"red\", label=\"Predicted\")\n",
        "plt.plot(range(to_num), true_y[:to_num], color=\"green\", label=\"Actual\")\n",
        "\n",
        "plt.xlabel(\"Sample Index\")\n",
        "plt.ylabel(\"Values\")\n",
        "plt.legend()\n",
        "plt.show()"
      ],
      "metadata": {
        "colab": {
          "base_uri": "https://localhost:8080/",
          "height": 449
        },
        "id": "x1ADjYN12A-Y",
        "outputId": "f30612a7-f360-4fc1-e3bd-53a44efbd056"
      },
      "execution_count": null,
      "outputs": [
        {
          "output_type": "display_data",
          "data": {
            "text/plain": [
              "<Figure size 640x480 with 1 Axes>"
            ],
            "image/png": "[encoded data removed]"
          },
          "metadata": {}
        }
      ]
    },
    {
      "cell_type": "code",
      "source": [
        "rmse_values = []\n",
        "for i in range(len(pred_y)):\n",
        "  rmse = np.sqrt(np.mean((pred_y[i] - true_y[i])**2))\n",
        "  rmse_values.append(rmse)\n",
        "\n",
        "# Create lists to store gene names and RMSE values\n",
        "gene_names = []\n",
        "rmse_list = []\n",
        "\n",
        "for i, gene_name in enumerate(all_gene_names):\n",
        "  gene_names.append(gene_name)\n",
        "  rmse_list.append(rmse_values[i])\n"
      ],
      "metadata": {
        "id": "iVJ1g3Ui2A7y"
      },
      "execution_count": null,
      "outputs": []
    },
    {
      "cell_type": "code",
      "source": [
        "import csv\n",
        "\n",
        "gene_names_rmse = []\n",
        "\n",
        "for i, gene_name in enumerate(all_gene_names):\n",
        "  rmse = np.sqrt(np.mean((pred_y[i] - true_y[i])**2))\n",
        "  gene_rmse = (gene_name, rmse)\n",
        "  gene_names_rmse.append(gene_rmse)\n",
        "with open('gene_rmse_with_WT.csv', 'w') as f:\n",
        "  writer = csv.writer(f)\n",
        "  writer.writerow(['Gene Name', 'RMSE']) # Column headers\n",
        "  for row in gene_names_rmse:\n",
        "    writer.writerow(row) # Each row is a tuple"
      ],
      "metadata": {
        "id": "oqgonKQe2A46"
      },
      "execution_count": null,
      "outputs": []
    },
    {
      "cell_type": "code",
      "source": [],
      "metadata": {
        "id": "gbX5VlSd2A2U"
      },
      "execution_count": null,
      "outputs": []
    },
    {
      "cell_type": "code",
      "source": [],
      "metadata": {
        "id": "pA9iou6B2Azd"
      },
      "execution_count": null,
      "outputs": []
    },
    {
      "cell_type": "code",
      "source": [],
      "metadata": {
        "id": "VqXDXL4N2Aw2"
      },
      "execution_count": null,
      "outputs": []
    },
    {
      "cell_type": "code",
      "source": [],
      "metadata": {
        "id": "eOKUTpyz2Auh"
      },
      "execution_count": null,
      "outputs": []
    },
    {
      "cell_type": "code",
      "source": [],
      "metadata": {
        "id": "XEPDIXmT2Aro"
      },
      "execution_count": null,
      "outputs": []
    },
    {
      "cell_type": "code",
      "source": [],
      "metadata": {
        "id": "81OtZVct2Aoy"
      },
      "execution_count": null,
      "outputs": []
    },
    {
      "cell_type": "markdown",
      "source": [
        "#RNN"
      ],
      "metadata": {
        "id": "34bC82Md36-p"
      }
    },
    {
      "cell_type": "markdown",
      "source": [
        "#Modified LSTM"
      ],
      "metadata": {
        "id": "4MhypUUGsGxH"
      }
    },
    {
      "cell_type": "code",
      "source": [
        "import torch.nn as nn\n",
        "from torch.autograd import Variable\n",
        "class ImprovedLSTM(nn.Module):\n",
        "    def __init__(self, input_size, hidden_size, num_layers, seq_length):\n",
        "        super(ImprovedLSTM, self).__init__()\n",
        "\n",
        "        # Added L2 regularization\n",
        "        self.reg_lambda = 0.01\n",
        "\n",
        "        self.num_layers = num_layers\n",
        "        self.input_size = input_size\n",
        "        self.hidden_size = hidden_size\n",
        "        self.seq_length = seq_length\n",
        "\n",
        "        self.lstm = nn.LSTM(input_size=input_size, hidden_size=hidden_size, num_layers=num_layers, batch_first=True)\n",
        "\n",
        "        # Added dropout layer\n",
        "        self.dropout = nn.Dropout(p=0.3)\n",
        "\n",
        "        self.fc_1 = nn.Linear(hidden_size, 128)\n",
        "        self.fc = nn.Linear(128, 1)\n",
        "\n",
        "        self.relu = nn.ReLU()\n",
        "\n",
        "    def forward(self, x):\n",
        "        # Added dropout\n",
        "        x = self.dropout(x)\n",
        "        x = x.view(-1, self.seq_length, self.input_size)\n",
        "\n",
        "        h_0 = Variable(torch.zeros(self.num_layers, x.size(0), self.hidden_size))\n",
        "        c_0 = Variable(torch.zeros(self.num_layers, x.size(0), self.hidden_size))\n",
        "        output, (hn, cn) = self.lstm(x, (h_0, c_0))\n",
        "        hn = hn.view(-1, self.hidden_size)\n",
        "        out = self.relu(hn)\n",
        "        out = self.fc_1(out)\n",
        "        out = self.relu(out)\n",
        "        out = self.fc(out)\n",
        "        out = self.relu(out)  # Removed final activation for regression\n",
        "        return out"
      ],
      "metadata": {
        "id": "1gYAKzvC9wBT"
      },
      "execution_count": null,
      "outputs": []
    },
    {
      "cell_type": "code",
      "source": [
        "num_epochs = 150  # 1000 epochs\n",
        "learning_rate = 0.0001 # 0.001 lr\n",
        "\n",
        "input_size = X_torch_WT.shape[3]  # number of features ==5\n",
        "hidden_size = 20  # number of features in hidden state\n",
        "num_layers = 1  # number of stacked lstm layers\n",
        "\n",
        "num_classes = 1  # number of output classes\n",
        "\n",
        "seq_length = X_torch_WT.shape[1] #4\n"
      ],
      "metadata": {
        "id": "Wsz8H4f_iSlu"
      },
      "execution_count": null,
      "outputs": []
    },
    {
      "cell_type": "code",
      "source": [
        "print(input_size)"
      ],
      "metadata": {
        "colab": {
          "base_uri": "https://localhost:8080/"
        },
        "id": "PXOcFOUoaCIR",
        "outputId": "699788f0-2e60-4534-c027-7b83b08d10cc"
      },
      "execution_count": null,
      "outputs": [
        {
          "output_type": "stream",
          "name": "stdout",
          "text": [
            "5\n"
          ]
        }
      ]
    },
    {
      "cell_type": "code",
      "source": [
        "from torch.optim.lr_scheduler import CosineAnnealingLR\n",
        "from torch.optim.lr_scheduler import ReduceLROnPlateau\n",
        "\n",
        "# Initialize the model with the appropriate arguments\n",
        "lstm1 = ImprovedLSTM(input_size, hidden_size, num_layers, seq_length) #our lstm class\n",
        "print(lstm1)\n",
        "\n",
        "criterion = nn.MSELoss()\n",
        "\n",
        "def loss_function(outputs, targets):\n",
        "    loss = criterion(outputs, targets)\n",
        "    l2_reg = 0\n",
        "\n",
        "    for param in model.parameters():\n",
        "        l2_reg += torch.norm(param)\n",
        "\n",
        "    return loss + self.reg_lambda * l2_reg  # mean-squared error for regression\n",
        "\n",
        "# Choose an optimizer (e.g., SGD or Adam)\n",
        "optimizer = torch.optim.SGD(lstm1.parameters(), lr=0.001, momentum=0.9)\n",
        "\n",
        "# Initialize the learning rate scheduler\n",
        "scheduler = ReduceLROnPlateau(optimizer, 'min', patience=5)"
      ],
      "metadata": {
        "id": "zK8Hu4XciSja",
        "colab": {
          "base_uri": "https://localhost:8080/"
        },
        "outputId": "645029d4-06e5-45c9-f655-2d60366c337f"
      },
      "execution_count": null,
      "outputs": [
        {
          "output_type": "stream",
          "name": "stdout",
          "text": [
            "ImprovedLSTM(\n",
            "  (lstm): LSTM(5, 20, batch_first=True)\n",
            "  (dropout): Dropout(p=0.3, inplace=False)\n",
            "  (fc_1): Linear(in_features=20, out_features=128, bias=True)\n",
            "  (fc): Linear(in_features=128, out_features=1, bias=True)\n",
            "  (relu): ReLU()\n",
            ")\n"
          ]
        }
      ]
    },
    {
      "cell_type": "markdown",
      "source": [
        "#Training Loop"
      ],
      "metadata": {
        "id": "DR8xRA-bLGC9"
      }
    },
    {
      "cell_type": "code",
      "source": [
        "print(X_torch_WT.shape)\n",
        "print(Y_torch_WT.shape)"
      ],
      "metadata": {
        "colab": {
          "base_uri": "https://localhost:8080/"
        },
        "id": "NcEz0Votc8am",
        "outputId": "63b6a3fb-223a-4177-be39-674da1e6b072"
      },
      "execution_count": null,
      "outputs": [
        {
          "output_type": "stream",
          "name": "stdout",
          "text": [
            "torch.Size([25706, 3, 3, 5])\n",
            "torch.Size([102824, 1])\n"
          ]
        }
      ]
    },
    {
      "cell_type": "code",
      "source": [
        "from tqdm.notebook import tqdm\n",
        "\n",
        "Y_torch_WT = Y_torch_WT[:77118]\n",
        "for epoch in tqdm(range(num_epochs)):\n",
        "    outputs = lstm1.forward(X_torch_WT) #forward pass\n",
        "\n",
        "    optimizer.zero_grad() #caluclate the gradient, manually setting to 0\n",
        "    # obtain the loss function\n",
        "\n",
        "    # print (outputs.shape, Y_torch.shape)\n",
        "    loss = criterion(outputs, Y_torch_WT)\n",
        "\n",
        "    loss.backward() #calculates the loss of the loss function\n",
        "\n",
        "    optimizer.step() #improve from loss, i.e backprop\n",
        "    scheduler.step(loss)\n",
        "    with torch.no_grad():\n",
        "        if epoch % 5 == 0:\n",
        "            print(\"Epoch: %d, loss: %1.5f\" % (epoch, loss.item()))\n",
        "            print(\"RMSE:\", np.sqrt(loss.item()))"
      ],
      "metadata": {
        "colab": {
          "base_uri": "https://localhost:8080/",
          "height": 1000,
          "referenced_widgets": [
            "4b44fb2d9e8747b7aa2b28e4d4cce40b",
            "bac8a19ee2bd4390aa6b013c38965604",
            "dea6c8c57c144a76abf59fc547d0b93e",
            "4608f5a2d2774ce0b074d4bcda233b27",
            "303a7621bd054baf81a35d6b0ef4ad1f",
            "4e187b57b05349fe9fe2ec321ca7b48e",
            "57825da541b746f48b57ce33b83ebcfb",
            "44828cc016fd49acb4667381f089f1a7",
            "7c8f60cb4ea24c23b9a60fb6e0d43666",
            "34abea8502eb46d69c00259f484e9d76",
            "8482eb5e65224ecba9b0d858febc73d6"
          ]
        },
        "id": "nBdH7vxuLFWK",
        "outputId": "89a4bf54-05e9-4d44-f5f9-c85d8d172f37"
      },
      "execution_count": null,
      "outputs": [
        {
          "output_type": "display_data",
          "data": {
            "text/plain": [
              "  0%|          | 0/150 [00:00<?, ?it/s]"
            ],
            "application/vnd.jupyter.widget-view+json": {
              "version_major": 2,
              "version_minor": 0,
              "model_id": "4b44fb2d9e8747b7aa2b28e4d4cce40b"
            }
          },
          "metadata": {}
        },
        {
          "output_type": "stream",
          "name": "stdout",
          "text": [
            "Epoch: 0, loss: 0.00871\n",
            "RMSE: 0.09331493457197555\n",
            "Epoch: 5, loss: 0.00769\n",
            "RMSE: 0.08768748278169061\n",
            "Epoch: 10, loss: 0.00580\n",
            "RMSE: 0.07615117562086132\n",
            "Epoch: 15, loss: 0.00388\n",
            "RMSE: 0.062269775854747474\n",
            "Epoch: 20, loss: 0.00234\n",
            "RMSE: 0.04835344855241515\n",
            "Epoch: 25, loss: 0.00129\n",
            "RMSE: 0.03586203696150436\n",
            "Epoch: 30, loss: 0.00065\n",
            "RMSE: 0.025541986871280165\n",
            "Epoch: 35, loss: 0.00032\n",
            "RMSE: 0.017790665111005705\n",
            "Epoch: 40, loss: 0.00016\n",
            "RMSE: 0.012755758440746829\n",
            "Epoch: 45, loss: 0.00011\n",
            "RMSE: 0.0102595589729913\n",
            "Epoch: 50, loss: 0.00009\n",
            "RMSE: 0.009528049702788045\n",
            "Epoch: 55, loss: 0.00009\n",
            "RMSE: 0.009425151641214777\n",
            "Epoch: 60, loss: 0.00009\n",
            "RMSE: 0.009413695555154825\n",
            "Epoch: 65, loss: 0.00009\n",
            "RMSE: 0.009414624935875237\n",
            "Epoch: 70, loss: 0.00009\n",
            "RMSE: 0.009414236191526319\n",
            "Epoch: 75, loss: 0.00009\n",
            "RMSE: 0.00941557779399015\n",
            "Epoch: 80, loss: 0.00009\n",
            "RMSE: 0.00941404683707347\n",
            "Epoch: 85, loss: 0.00009\n",
            "RMSE: 0.00941524202490375\n",
            "Epoch: 90, loss: 0.00009\n",
            "RMSE: 0.009415243570473582\n",
            "Epoch: 95, loss: 0.00009\n",
            "RMSE: 0.009415957596602437\n",
            "Epoch: 100, loss: 0.00009\n",
            "RMSE: 0.00941320126499764\n",
            "Epoch: 105, loss: 0.00009\n",
            "RMSE: 0.009416035641630356\n",
            "Epoch: 110, loss: 0.00009\n",
            "RMSE: 0.009414545333468595\n",
            "Epoch: 115, loss: 0.00009\n",
            "RMSE: 0.009415079738659451\n",
            "Epoch: 120, loss: 0.00009\n",
            "RMSE: 0.009413491117729055\n",
            "Epoch: 125, loss: 0.00009\n",
            "RMSE: 0.009416124890349643\n",
            "Epoch: 130, loss: 0.00009\n",
            "RMSE: 0.009415604454083432\n",
            "Epoch: 135, loss: 0.00009\n",
            "RMSE: 0.009417090731467842\n",
            "Epoch: 140, loss: 0.00009\n",
            "RMSE: 0.009414997821683311\n",
            "Epoch: 145, loss: 0.00009\n",
            "RMSE: 0.00941568211566407\n"
          ]
        }
      ]
    },
    {
      "cell_type": "code",
      "source": [
        "# Import necessary libraries and functions\n",
        "import torch.optim as optim\n",
        "import torch.utils.data as data\n",
        "from scipy.stats import zscore\n",
        "\n",
        "# Define a function to calculate Z-scores for data\n",
        "def get_z_score(df):\n",
        "    mean = df.mean().mean()\n",
        "    std = df.stack().std()\n",
        "    return (df - mean) / std\n",
        "\n",
        "# Define a function to normalize data\n",
        "def normalize_data(df, exclude_cols=None):\n",
        "    all_cols = list(df.columns)\n",
        "    if exclude_cols:\n",
        "        for col in exclude_cols:\n",
        "            all_cols.remove(col)\n",
        "\n",
        "    df[all_cols] = get_z_score(df[all_cols])\n",
        "    min_ = df[all_cols].min().min()\n",
        "    max_ = df[all_cols].max().max()\n",
        "    df[all_cols] = (df[all_cols] - min_) / (max_ - min_)\n",
        "    return df\n",
        "\n",
        "# Define a function to normalize data along a specified axis\n",
        "def normalize_data_axis(df, axis=1):\n",
        "    MIN = df.min(axis)\n",
        "    MAX = df.max(axis)\n",
        "    return df.sub(MIN, 1 - axis).div(MAX - MIN, 1 - axis)\n",
        "\n",
        "# Load and preprocess your data using these functions\n",
        "filtered_all_lines_temp = filtered_all_lines[filtered_all_lines.columns[1:]]\n",
        "std = filtered_all_lines_temp.stack().std()\n",
        "mean = filtered_all_lines_temp.mean().mean()\n",
        "Min = filtered_all_lines_temp.min().min()\n",
        "Max = filtered_all_lines_temp.max().max()\n",
        "\n",
        "predicted_values = []\n",
        "\n",
        "with torch.no_grad():\n",
        "    predicted_values = lstm1.forward(X_torch_WT)\n",
        "    predicted_values = predicted_values.numpy()\n",
        "\n",
        "predicted_values = predicted_values[:77118]\n",
        "\n",
        "print(predicted_values[100])\n",
        "\n",
        "# Normalize the predicted values\n",
        "# normalized = predicted_values\n",
        "# for i in range(len(normalized)):\n",
        "#     normalized[i] = (normalized[i] - Min) / (Max - Min)\n",
        "\n",
        "# Example of plotting using matplotlib\n",
        "import matplotlib.pyplot as plt\n",
        "\n",
        "to_num = 500\n",
        "pred_pres = predicted_values[:to_num] #changed from normalized[:to_num]\n",
        "x_coords = [i for i in range(to_num)]\n",
        "\n",
        "actuals = []\n",
        "for i in range(len(Y_torch_WT)):\n",
        "    actuals.append(Y_torch_WT[i])\n",
        "\n",
        "actuals = actuals[:to_num]\n",
        "\n",
        "plt.plot(x_coords, pred_pres, color=\"red\", label=\"Predicted\")\n",
        "plt.plot(x_coords, actuals, color=\"green\", label=\"Actual\")\n",
        "plt.xlabel(\"Sample Index\")\n",
        "plt.ylabel(\"Normalized Values\")\n",
        "plt.legend()\n",
        "plt.show()\n"
      ],
      "metadata": {
        "colab": {
          "base_uri": "https://localhost:8080/",
          "height": 558
        },
        "id": "V0gA4UHbbgT6",
        "outputId": "aa481da9-31fe-45eb-bebd-4756465c0382"
      },
      "execution_count": null,
      "outputs": [
        {
          "output_type": "stream",
          "name": "stdout",
          "text": [
            "[0.]\n"
          ]
        },
        {
          "output_type": "stream",
          "name": "stderr",
          "text": [
            "/usr/local/lib/python3.10/dist-packages/numpy/core/shape_base.py:65: FutureWarning: The input object of type 'Tensor' is an array-like implementing one of the corresponding protocols (`__array__`, `__array_interface__` or `__array_struct__`); but not a sequence (or 0-D). In the future, this object will be coerced as if it was first converted using `np.array(obj)`. To retain the old behaviour, you have to either modify the type 'Tensor', or assign to an empty array created with `np.empty(correct_shape, dtype=object)`.\n",
            "  ary = asanyarray(ary)\n",
            "/usr/local/lib/python3.10/dist-packages/numpy/core/shape_base.py:65: VisibleDeprecationWarning: Creating an ndarray from ragged nested sequences (which is a list-or-tuple of lists-or-tuples-or ndarrays with different lengths or shapes) is deprecated. If you meant to do this, you must specify 'dtype=object' when creating the ndarray.\n",
            "  ary = asanyarray(ary)\n"
          ]
        },
        {
          "output_type": "display_data",
          "data": {
            "text/plain": [
              "<Figure size 640x480 with 1 Axes>"
            ],
            "image/png": "[encoded data removed]"
          },
          "metadata": {}
        }
      ]
    },
    {
      "cell_type": "code",
      "source": [
        "# test to check values, with input data only\n",
        "\n",
        "import matplotlib.pyplot as plt\n",
        "# %matplotlib inline\n",
        "\n",
        "sample = X[1]\n",
        "predicted_values = []\n",
        "\n",
        "with torch.no_grad():\n",
        "    # for sample in X:\n",
        "    predicted_values = lstm1.forward(torch.Tensor(X))\n",
        "    predicted_values = predicted_values.numpy()\n",
        "        # .data.numpy()\n",
        "        # predicted_values.append(predicted_values)\n",
        "# predicted_values= predicted_values.reshape(len(Y),).tolist()\n",
        "print (len(predicted_values))"
      ],
      "metadata": {
        "colab": {
          "base_uri": "https://localhost:8080/",
          "height": 246
        },
        "id": "9ZHF5Vg7iSeb",
        "outputId": "753caca0-729e-437d-8ffc-c34d424df879"
      },
      "execution_count": null,
      "outputs": [
        {
          "output_type": "error",
          "ename": "NameError",
          "evalue": "ignored",
          "traceback": [
            "\u001b[0;31m---------------------------------------------------------------------------\u001b[0m",
            "\u001b[0;31mNameError\u001b[0m                                 Traceback (most recent call last)",
            "\u001b[0;32m<ipython-input-20-252eb4dd5e97>\u001b[0m in \u001b[0;36m<cell line: 6>\u001b[0;34m()\u001b[0m\n\u001b[1;32m      4\u001b[0m \u001b[0;31m# %matplotlib inline\u001b[0m\u001b[0;34m\u001b[0m\u001b[0;34m\u001b[0m\u001b[0m\n\u001b[1;32m      5\u001b[0m \u001b[0;34m\u001b[0m\u001b[0m\n\u001b[0;32m----> 6\u001b[0;31m \u001b[0msample\u001b[0m \u001b[0;34m=\u001b[0m \u001b[0mX\u001b[0m\u001b[0;34m[\u001b[0m\u001b[0;36m1\u001b[0m\u001b[0;34m]\u001b[0m\u001b[0;34m\u001b[0m\u001b[0;34m\u001b[0m\u001b[0m\n\u001b[0m\u001b[1;32m      7\u001b[0m \u001b[0mpredicted_values\u001b[0m \u001b[0;34m=\u001b[0m \u001b[0;34m[\u001b[0m\u001b[0;34m]\u001b[0m\u001b[0;34m\u001b[0m\u001b[0;34m\u001b[0m\u001b[0m\n\u001b[1;32m      8\u001b[0m \u001b[0;34m\u001b[0m\u001b[0m\n",
            "\u001b[0;31mNameError\u001b[0m: name 'X' is not defined"
          ]
        }
      ]
    },
    {
      "cell_type": "code",
      "source": [
        "to_num = 500\n",
        "\n",
        "pred_pres = predicted_values[:to_num]\n",
        "x_coords = [i for i in range(to_num)]\n",
        "actual = Y_torch[:to_num]\n",
        "\n",
        "plt.plot(x_coords, pred_pres, 'o', color = \"red\")\n",
        "plt.plot(x_coords, actual , 'o', color = \"green\")\n",
        "# plt.plot(len(Y), Y)\n"
      ],
      "metadata": {
        "colab": {
          "base_uri": "https://localhost:8080/",
          "height": 447
        },
        "id": "964DUXehiScE",
        "outputId": "9553a9d4-b613-4028-9ed1-7f9cd129591a"
      },
      "execution_count": null,
      "outputs": [
        {
          "output_type": "execute_result",
          "data": {
            "text/plain": [
              "[<matplotlib.lines.Line2D at 0x7d5be7b3b9d0>]"
            ]
          },
          "metadata": {},
          "execution_count": 30
        },
        {
          "output_type": "display_data",
          "data": {
            "text/plain": [
              "<Figure size 640x480 with 1 Axes>"
            ],
            "image/png": "[encoded data removed]"
          },
          "metadata": {}
        }
      ]
    },
    {
      "cell_type": "code",
      "source": [
        "gene_names_rmse = []\n",
        "\n",
        "for i, gene_name in enumerate(all_gene_names):\n",
        "  rmse = np.sqrt(np.mean((predicted_values[i] - Y_torch_WT[i].numpy())**2))\n",
        "  gene_rmse = (gene_name, rmse)\n",
        "  gene_names_rmse.append(gene_rmse)\n",
        "\n",
        "# gene_names_rmse is now a list of tuples (gene_name, rmse)"
      ],
      "metadata": {
        "id": "njfW0Ac25B1Y"
      },
      "execution_count": null,
      "outputs": []
    },
    {
      "cell_type": "code",
      "source": [
        "import csv\n",
        "\n",
        "gene_names_rmse = []\n",
        "\n",
        "for i, gene_name in enumerate(all_gene_names):\n",
        "  rmse = np.sqrt(np.mean((predicted_values[i] - Y_torch_WT[i].numpy())**2))\n",
        "  gene_rmse = (gene_name, rmse)\n",
        "  gene_names_rmse.append(gene_rmse)\n",
        "\n",
        "with open('gene_rmse_WT.csv', 'w') as f:\n",
        "  writer = csv.writer(f)\n",
        "  writer.writerow(['Gene Name', 'RMSE']) # Column headers\n",
        "  for row in gene_names_rmse:\n",
        "    writer.writerow(row) # Each row is a tuple"
      ],
      "metadata": {
        "id": "2Tb88gc05Bs1"
      },
      "execution_count": null,
      "outputs": []
    },
    {
      "cell_type": "code",
      "source": [
        "import pandas as pd\n",
        "\n",
        "# Load both CSV files into dataframes\n",
        "df1 = pd.read_csv('gene_rmse_WT.csv')\n",
        "df2 = pd.read_csv('gene_wo_elec_WT.csv')\n",
        "\n",
        "# Merge dataframes on 'gene_name' column\n",
        "merged_df = df1.merge(df2, on='Gene Name', suffixes=('_csv1', '_csv2'))\n",
        "\n",
        "print(merged_df)"
      ],
      "metadata": {
        "id": "j2IF8G795Bjn",
        "colab": {
          "base_uri": "https://localhost:8080/"
        },
        "outputId": "b6345737-d957-46b0-f99a-ee48b9dbd129"
      },
      "execution_count": null,
      "outputs": [
        {
          "output_type": "stream",
          "name": "stdout",
          "text": [
            "       Gene Name  RMSE_csv1  RMSE_csv2\n",
            "0      AT1G01010   0.000092   0.000092\n",
            "1      AT1G01020   0.000077   0.000077\n",
            "2      AT1G01030   0.000091   0.000091\n",
            "3      AT1G01040   0.000170   0.000170\n",
            "4      AT1G01046   0.000148   0.000148\n",
            "...          ...        ...        ...\n",
            "25701  ATMG01370   0.000113   0.000113\n",
            "25702  ATMG01380   0.000031   0.000128\n",
            "25703  ATMG01390   0.000083   0.000083\n",
            "25704  ATMG01400   0.000322   0.000322\n",
            "25705  ATMG01410   0.000236   0.000236\n",
            "\n",
            "[25706 rows x 3 columns]\n"
          ]
        }
      ]
    },
    {
      "cell_type": "code",
      "source": [
        "# Select rows where rmse_csv1 is lower than rmse_csv2\n",
        "lower_rmse_genes = merged_df[merged_df['RMSE_csv1'] < merged_df['RMSE_csv2']]\n",
        "\n",
        "# Extract the gene names where rmse_csv1 is lower than rmse_csv2\n",
        "result_gene_names = lower_rmse_genes['Gene Name']\n",
        "\n",
        "\n",
        "print(\"Gene names in csv1 with lower RMSE values than in csv2:\")\n",
        "print(result_gene_names)"
      ],
      "metadata": {
        "id": "W05uwR1v5Bgy",
        "colab": {
          "base_uri": "https://localhost:8080/"
        },
        "outputId": "32449a33-0195-4462-bb12-e0c9731f035b"
      },
      "execution_count": null,
      "outputs": [
        {
          "output_type": "stream",
          "name": "stdout",
          "text": [
            "Gene names in csv1 with lower RMSE values than in csv2:\n",
            "32       AT1G01320\n",
            "34       AT1G01350\n",
            "37       AT1G01370\n",
            "39       AT1G01390\n",
            "69       AT1G01680\n",
            "           ...    \n",
            "25672    ATMG01020\n",
            "25690    ATMG01230\n",
            "25691    ATMG01250\n",
            "25694    ATMG01275\n",
            "25702    ATMG01380\n",
            "Name: Gene Name, Length: 1677, dtype: object\n"
          ]
        }
      ]
    },
    {
      "cell_type": "code",
      "source": [
        "result_gene_names.to_csv('result_gene_names.csv', header=True, index=False)\n",
        "\n",
        "# Step 2: Compare with \"Ozone_responsive_genes\" CSV file\n",
        "# Read the \"Ozone_responsive_genes\" CSV file\n",
        "ozone_genes_df = pd.read_csv('/content/OzoneResponsiveGenes.csv')\n",
        "\n",
        "# Extract gene names in the \"Locus\" column of \"Ozone_responsive_genes\"\n",
        "ozone_gene_names = ozone_genes_df['Locus']\n",
        "\n",
        "# Compare the two sets of gene names and print matching gene names\n",
        "matching_gene_names = result_gene_names[result_gene_names.isin(ozone_gene_names)]\n",
        "\n",
        "print(\"Matching gene names in 'Ozone_responsive_genes':\")\n",
        "print(matching_gene_names)"
      ],
      "metadata": {
        "id": "LMb6M22s5Bcz",
        "colab": {
          "base_uri": "https://localhost:8080/"
        },
        "outputId": "f659cc2d-fee9-4259-8ea7-0c1205cfef90"
      },
      "execution_count": null,
      "outputs": [
        {
          "output_type": "stream",
          "name": "stdout",
          "text": [
            "Matching gene names in 'Ozone_responsive_genes':\n",
            "2006     AT1G20630\n",
            "3220     AT1G34420\n",
            "4431     AT1G56650\n",
            "5499     AT1G69450\n",
            "7680     AT2G17420\n",
            "8836     AT2G29500\n",
            "12468    AT3G17700\n",
            "13033    AT3G23400\n",
            "14099    AT3G46230\n",
            "15824    AT4G00290\n",
            "16526    AT4G08920\n",
            "17650    AT4G20380\n",
            "17780    AT4G21870\n",
            "17903    AT4G23100\n",
            "20569    AT5G10490\n",
            "21125    AT5G16470\n",
            "21582    AT5G21100\n",
            "22319    AT5G33280\n",
            "24618    AT5G58940\n",
            "25205    AT5G64940\n",
            "25503    ATCG00120\n",
            "25504    ATCG00130\n",
            "Name: Gene Name, dtype: object\n"
          ]
        }
      ]
    },
    {
      "cell_type": "code",
      "source": [
        "file_path = '/content/OzoneResponsiveGenes.csv'  # Replace with the path to your CSV file\n",
        "df = pd.read_csv(file_path)\n",
        "\n",
        "# Step 3: Filter the DataFrame for matching gene names in the \"Locus\" column\n",
        "filtered_df = df[df['Locus'].isin(matching_gene_names)]\n",
        "\n",
        "# Step 4: Print the resulting DataFrame with all columns for matching gene names\n",
        "print(filtered_df)"
      ],
      "metadata": {
        "id": "PZIn6XId5BaB",
        "colab": {
          "base_uri": "https://localhost:8080/"
        },
        "outputId": "410e459f-4efc-4a09-f35d-08c871814336"
      },
      "execution_count": null,
      "outputs": [
        {
          "output_type": "stream",
          "name": "stdout",
          "text": [
            "         Locus Gene Symbol                                          Full Name  \\\n",
            "18   AT4G23100        GSH1                          GLUTAMATE-CYSTEINE LIGASE   \n",
            "30   AT3G23400        FIB4                                    FIBRILLIN 4FBN4   \n",
            "63   AT5G33280        CLCG                                 CHLORIDE CHANNEL G   \n",
            "124  AT1G69450     OSCA2.4  REDUCED HYPEROSMOLALITY-INDUCED CA2+ INCREASE 2.4   \n",
            "141  ATCG00120        ATPA                         ATP SYNTHASE SUBUNIT ALPHA   \n",
            "144  AT3G17700      CNGC20                  CYCLIC NUCLEOTIDE GATEDCHANNEL 20   \n",
            "152  AT5G10490        MSL2                                        MSCS-LIKE 2   \n",
            "165  ATCG00130        ATPF                                                NaN   \n",
            "171  AT4G00290        MSL1                                                NaN   \n",
            "193  AT5G64940        OSA1       OXIDATIVE STRESS-RELATED ABC1-LIKE PROTEIN 1   \n",
            "218  AT3G46230     HSP17.4                            HEAT SHOCK PROTEIN 17.4   \n",
            "223  AT1G56650       MYB75                PRODUCTION OF ANTHOCYANIN PIGMENT 1   \n",
            "232  AT4G08920        BLU1                           BLUE LIGHT UNINHIBITED 1   \n",
            "259  AT1G34420        BTL2                                      BAK-TO-LIFE 2   \n",
            "265  AT1G20630        CAT1                                         CATALASE 1   \n",
            "290  AT2G29500    HSP17.6B                                                NaN   \n",
            "298  AT4G20380        LSD1                        LESION SIMULATING DISEASE 1   \n",
            "300  AT5G21100        MCO2                                                NaN   \n",
            "322  AT5G58940   AT5G58940                                                NaN   \n",
            "325  AT5G16470   AT5G16470                                                NaN   \n",
            "326  AT2G17420   AT2G17420                                                NaN   \n",
            "327  AT4G21870   AT4G21870                                                NaN   \n",
            "\n",
            "                                 Keyword         Category          GO  \n",
            "18                     response to ozone  OzoneResponsive  GO:0010193  \n",
            "30                     response to ozone  OzoneResponsive  GO:0010193  \n",
            "63       monoatomic ion channel activity       IonChannel  GO:0005216  \n",
            "124      monoatomic ion channel activity       IonChannel  GO:0005216  \n",
            "141      monoatomic ion channel activity       IonChannel  GO:0005216  \n",
            "144      monoatomic ion channel activity       IonChannel  GO:0005216  \n",
            "152      monoatomic ion channel activity       IonChannel  GO:0005216  \n",
            "165      monoatomic ion channel activity       IonChannel  GO:0005216  \n",
            "171      monoatomic ion channel activity       IonChannel  GO:0005216  \n",
            "193  response to reactive oxygen species              ROS  GO:0000302  \n",
            "218  response to reactive oxygen species              ROS  GO:0000302  \n",
            "223  response to reactive oxygen species              ROS  GO:0000302  \n",
            "232  response to reactive oxygen species              ROS  GO:0000302  \n",
            "259  response to reactive oxygen species              ROS  GO:0000302  \n",
            "265  response to reactive oxygen species              ROS  GO:0000302  \n",
            "290  response to reactive oxygen species              ROS  GO:0000302  \n",
            "298  response to reactive oxygen species              ROS  GO:0000302  \n",
            "300  response to reactive oxygen species              ROS  GO:0000302  \n",
            "322  response to reactive oxygen species              ROS  GO:0000302  \n",
            "325  response to reactive oxygen species              ROS  GO:0000302  \n",
            "326  response to reactive oxygen species              ROS  GO:0000302  \n",
            "327  response to reactive oxygen species              ROS  GO:0000302  \n"
          ]
        }
      ]
    },
    {
      "cell_type": "code",
      "source": [
        "filtered_df.to_csv('Result_WT_Line.csv', index=False)\n",
        "\n",
        "# Print a message to confirm the save\n",
        "print(\"Filtered DataFrame has been saved to 'filtered_file.csv'\")"
      ],
      "metadata": {
        "id": "is6-Vj2L5BW6",
        "colab": {
          "base_uri": "https://localhost:8080/"
        },
        "outputId": "44443f0d-2fc1-449f-8b5e-fa70adf93c59"
      },
      "execution_count": null,
      "outputs": [
        {
          "output_type": "stream",
          "name": "stdout",
          "text": [
            "Filtered DataFrame has been saved to 'filtered_file.csv'\n"
          ]
        }
      ]
    },
    {
      "cell_type": "code",
      "source": [],
      "metadata": {
        "id": "4HEJSvF_iSOQ"
      },
      "execution_count": null,
      "outputs": []
    },
    {
      "cell_type": "code",
      "source": [],
      "metadata": {
        "id": "4t2tvwgeiSLp"
      },
      "execution_count": null,
      "outputs": []
    },
    {
      "cell_type": "code",
      "source": [],
      "metadata": {
        "id": "kQefHHCIiSGL"
      },
      "execution_count": null,
      "outputs": []
    },
    {
      "cell_type": "code",
      "source": [],
      "metadata": {
        "id": "vaRHc0ETiSDn"
      },
      "execution_count": null,
      "outputs": []
    }
  ]
}