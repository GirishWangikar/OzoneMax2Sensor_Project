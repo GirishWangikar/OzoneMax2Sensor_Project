{
  "cells": [
    {
      "cell_type": "code",
      "execution_count": null,
      "metadata": {
        "id": "wx_zfTa_h_27"
      },
      "outputs": [],
      "source": [
        "import pandas as pd\n",
        "import numpy as np\n",
        "import os\n",
        "import copy\n",
        "from sklearn.preprocessing import minmax_scale\n",
        "from scipy.stats import zscore\n",
        "import torch\n"
      ]
    },
    {
      "cell_type": "code",
      "execution_count": null,
      "metadata": {
        "colab": {
          "base_uri": "https://localhost:8080/"
        },
        "id": "jJS3NXKMiKp5",
        "outputId": "9aee08b9-bd9b-436e-e67f-61a44e8f2fb0"
      },
      "outputs": [
        {
          "data": {
            "text/plain": [
              "(29110, 48)"
            ]
          },
          "execution_count": 8,
          "metadata": {},
          "output_type": "execute_result"
        }
      ],
      "source": [
        "fpkm_replicates = pd.read_csv(\"FPKM_replicates.csv\")\n",
        "fpkm_replicates.head()\n",
        "fpkm_replicates.shape"
      ]
    },
    {
      "cell_type": "markdown",
      "metadata": {
        "id": "e5mCa3anifDY"
      },
      "source": [
        "#Gene Data Filtering"
      ]
    },
    {
      "cell_type": "code",
      "execution_count": null,
      "metadata": {
        "colab": {
          "background_save": true
        },
        "id": "vgFj_DM3iTCF"
      },
      "outputs": [],
      "source": [
        "C_group = fpkm_replicates[[\"tracking_id\"]+[col for col in fpkm_replicates.columns if \"C\" in col]]\n",
        "S_group = fpkm_replicates[[\"tracking_id\"]+[col for col in fpkm_replicates.columns if \"S\" in col]]\n",
        "WT_group = fpkm_replicates[[\"tracking_id\"]+[col for col in fpkm_replicates.columns if \"WT\" in col]]\n",
        "\n",
        "\n",
        "def filter_data(df, min_num_of_non_zero=2):\n",
        "    mask = df.apply(lambda x: x[x != 0].count(), axis=1) >= min_num_of_non_zero\n",
        "    anti_mask = df.apply(lambda x: x[x != 0].count(), axis=1) < min_num_of_non_zero\n",
        "    filtered = df[mask]\n",
        "    removed = df[anti_mask]\n",
        "\n",
        "    return filtered, removed\n",
        "\n",
        "filtered_C, removed_C = filter_data(C_group)\n",
        "filtered_S, removed_S = filter_data(S_group)\n",
        "filtered_WT, removed_WT = filter_data(WT_group)"
      ]
    },
    {
      "cell_type": "code",
      "execution_count": null,
      "metadata": {
        "colab": {
          "background_save": true
        },
        "id": "35vwSgz3iS7V"
      },
      "outputs": [],
      "source": [
        "# Get the union of filtered genes across all plant lines and removed genes\n",
        "\n",
        "# list(set(([1,2,3,4]+[2,3,5]+[4,5,6])))  -> [1, 2, 3, 4, 5, 6]\n",
        "\n",
        "filtered_genes_union = list(set( list(filtered_C[\"tracking_id\"]) + list(filtered_S[\"tracking_id\"]) + list(filtered_WT[\"tracking_id\"])))\n",
        "removed_genes = list( set(C_group[\"tracking_id\"]) - set(filtered_genes_union))\n",
        "\n",
        "pd.DataFrame(filtered_genes_union).to_csv(\"filtered_genes_union.csv\")\n",
        "pd.DataFrame(removed_genes).to_csv(\"removed_genes.csv\")\n",
        "\n",
        "len(filtered_genes_union), len(removed_genes)\n",
        "\n",
        "# Get the dataframes after filtering and union\n",
        "\n",
        "filtered_C, removed_C = C_group[C_group[\"tracking_id\"].isin(filtered_genes_union)], C_group[C_group[\"tracking_id\"].isin(removed_genes)]\n",
        "filtered_S, removed_S = S_group[S_group[\"tracking_id\"].isin(filtered_genes_union)], S_group[S_group[\"tracking_id\"].isin(removed_genes)]\n",
        "filtered_WT, removed_WT = WT_group[WT_group[\"tracking_id\"].isin(filtered_genes_union)], WT_group[WT_group[\"tracking_id\"].isin(removed_genes)]\n",
        "\n",
        "\n",
        "# Combine all filtered Lines\n",
        "filtered_all_lines = pd.DataFrame()\n",
        "filtered_all_lines = pd.concat([filtered_all_lines, filtered_C], axis =1)\n",
        "filtered_all_lines = pd.concat([filtered_all_lines, filtered_S[filtered_S.columns[1:]]], axis =1)\n",
        "filtered_all_lines = pd.concat([filtered_all_lines, filtered_WT[filtered_WT.columns[1:]]], axis =1)\n",
        "\n",
        "filtered_all_lines.to_excel(\"filtered_all_lines.xlsx\", index=False)\n",
        "filtered_all_lines = pd.DataFrame(pd.read_excel(\"filtered_all_lines.xlsx\"))"
      ]
    },
    {
      "cell_type": "code",
      "execution_count": null,
      "metadata": {
        "colab": {
          "background_save": true
        },
        "id": "tzmGpGAPmFRV"
      },
      "outputs": [],
      "source": [
        "filtered_all_lines = pd.DataFrame(pd.read_excel(\"filtered_all_lines.xlsx\"))"
      ]
    },
    {
      "cell_type": "markdown",
      "metadata": {
        "id": "RVMq7R-9m0Zf"
      },
      "source": [
        "#Prepare Data for RNN"
      ]
    },
    {
      "cell_type": "code",
      "execution_count": null,
      "metadata": {
        "id": "BAMlc2FuiS3r"
      },
      "outputs": [],
      "source": [
        "def get_z_score(df):\n",
        "    # mean = df.mean(axis=None)\n",
        "    mean = df.mean().mean()\n",
        "    print (\"Mean\", mean)\n",
        "    # std = df.std(axis=None)\n",
        "    std = df.stack().std()\n",
        "    return (df- mean)/std\n",
        "\n",
        "def normalize_data(df, exclude_cols=None):\n",
        "    # if cols == None:\n",
        "    #     cols = df.select_dtypes(np.number).columns\n",
        "    all_cols = list(df.columns)\n",
        "    if exclude_cols!=None:\n",
        "        for i in exclude_cols:\n",
        "            all_cols.remove(i)\n",
        "    print (all_cols)\n",
        "\n",
        "    df[all_cols] = get_z_score(df[all_cols])\n",
        "    # df[all_cols] = minmax_scale(df[all_cols])\n",
        "    min_ = df[all_cols].min().min()\n",
        "    max_ = df[all_cols].max().max()\n",
        "\n",
        "    df[all_cols] = (df[all_cols]-min_)/(max_-min_)\n",
        "    return df\n",
        "\n",
        "def normalize_data_axis(df, axis=1):\n",
        "    MIN = df.min(axis)\n",
        "    print (MIN)\n",
        "    MAX = df.max(axis)\n",
        "    # df = df.apply(zscore,axis)\n",
        "    return df.sub(MIN, 1-axis).div(MAX-MIN, 1-axis)\n",
        "\n",
        "\n"
      ]
    },
    {
      "cell_type": "code",
      "execution_count": null,
      "metadata": {
        "colab": {
          "base_uri": "https://localhost:8080/"
        },
        "id": "sQZC5Nc9iS0R",
        "outputId": "f897ed05-fda4-4813-cb6b-1266cd1b6860"
      },
      "outputs": [
        {
          "name": "stdout",
          "output_type": "stream",
          "text": [
            "0    0.111782\n",
            "dtype: float64\n",
            "0    0.007604\n",
            "dtype: float64\n",
            "0    27.35835\n",
            "dtype: float64\n",
            "0    0.971151\n",
            "dtype: float64\n",
            "['C_0_1', 'C_0_2', 'C_0_3', 'C_0_4', 'C_15_1', 'C_15_2', 'C_15_3', 'C_15_4', 'C_30_1', 'C_30_2', 'C_30_3', 'C_30_4', 'C_60_1', 'C_60_2', 'C_60_3', 'C_60_4', 'S_0_1', 'S_0_2', 'S_0_3', 'S_0_4', 'S_15_1', 'S_15_2', 'S_15_3', 'S_15_4', 'S_30_1', 'S_30_2', 'S_30_3', 'S_30_4', 'S_60_1', 'S_60_2', 'S_60_3', 'S_60_4', 'WT_0_1', 'WT_0_2', 'WT_0_3', 'WT_0_4', 'WT_15_1', 'WT_15_2', 'WT_15_3', 'WT_30_1', 'WT_30_2', 'WT_30_3', 'WT_30_4', 'WT_60_1', 'WT_60_2', 'WT_60_3', 'WT_60_4']\n",
            "Mean 32.69667309097266\n"
          ]
        }
      ],
      "source": [
        "lines = [\"C\", \"S\", \"WT\"]\n",
        "# times = [\"0\", \"15\", \"30\", \"60\"]\n",
        "times = [\"0\", \"15\", \"30\"]\n",
        "replicates = [\"1\", \"2\", \"3\", \"4\"]\n",
        "\n",
        "# sample 1 - [over times [{counts, H, RMS, P, ..}]\n",
        "\n",
        "samples = []\n",
        "\n",
        "entire_data = {}\n",
        "\n",
        "# filtered_all_lines = pd.DataFrame(pd.read_excel(\"filtered_all_lines.xlsx\"))\n",
        "\n",
        "all_samples_names = list(filtered_all_lines.columns[1:])\n",
        "\n",
        "avg_freq_df = pd.DataFrame(pd.read_excel(\"AvgFreq.xlsx\"))\n",
        "rms_df = pd.DataFrame(pd.read_excel(\"RMS.xlsx\"))\n",
        "peaks_df = pd.DataFrame(pd.read_excel(\"Peaks.xlsx\"))\n",
        "crest_fac_df = pd.DataFrame(pd.read_excel(\"CrestFactor.xlsx\"))\n",
        "\n",
        "avg_freq_df_normalized = normalize_data_axis(avg_freq_df)\n",
        "rms_df_normalized = normalize_data_axis(rms_df)\n",
        "peaks_df_normalized = normalize_data_axis(peaks_df)\n",
        "crest_fac_df_normalized = normalize_data_axis(crest_fac_df)\n",
        "\n",
        "#write_all_data_path = \"input_data/normalized_data\"\n",
        "\n",
        "filtered_all_lines_normalized = normalize_data(filtered_all_lines, exclude_cols=[\"tracking_id\"])"
      ]
    },
    {
      "cell_type": "code",
      "execution_count": null,
      "metadata": {
        "colab": {
          "base_uri": "https://localhost:8080/"
        },
        "id": "kpUQCD879zvR",
        "outputId": "8535f401-f36c-448a-d1d4-f4384e02edf4"
      },
      "outputs": [
        {
          "name": "stderr",
          "output_type": "stream",
          "text": [
            "100%|██████████| 25706/25706 [17:12<00:00, 24.90it/s]\n"
          ]
        },
        {
          "name": "stdout",
          "output_type": "stream",
          "text": [
            "torch.Size([25706, 3, 3])\n"
          ]
        }
      ],
      "source": [
        "from tqdm import tqdm\n",
        "import torch\n",
        "\n",
        "X = []\n",
        "all_gene_names = filtered_all_lines_normalized[\"tracking_id\"]\n",
        "\n",
        "for gene_name in tqdm(all_gene_names):\n",
        "    gene_data = []\n",
        "\n",
        "    for replicate in range(3):\n",
        "        time_data = []\n",
        "\n",
        "        for time in [0, 15, 30]:\n",
        "            time_based_replicate = f\"WT_{time}_{replicate+1}\"  # Modify for the S line\n",
        "\n",
        "            gene_count = filtered_all_lines_normalized[filtered_all_lines_normalized[\"tracking_id\"]==gene_name][time_based_replicate].item()\n",
        "\n",
        "            time_data.append(gene_count)\n",
        "\n",
        "        gene_data.append(time_data)\n",
        "\n",
        "    X.append(gene_data)\n",
        "\n",
        "X_torch_WT_gene = torch.Tensor(X)\n",
        "print(X_torch_WT_gene.shape)\n"
      ]
    },
    {
      "cell_type": "code",
      "execution_count": null,
      "metadata": {
        "id": "NaHuzz6ouLiP"
      },
      "outputs": [],
      "source": [
        "X_torch_WT_gene = X_torch_WT_gene.reshape([25706, 3, 3,1])"
      ]
    },
    {
      "cell_type": "code",
      "execution_count": null,
      "metadata": {
        "colab": {
          "base_uri": "https://localhost:8080/"
        },
        "id": "A79Hu5Y-ua4h",
        "outputId": "3ff3236b-ca92-4ef3-f173-e976205dd70f"
      },
      "outputs": [
        {
          "name": "stdout",
          "output_type": "stream",
          "text": [
            "torch.Size([25706, 3, 3, 1])\n"
          ]
        }
      ],
      "source": [
        "print(X_torch_WT_gene.shape)"
      ]
    },
    {
      "cell_type": "code",
      "execution_count": null,
      "metadata": {
        "colab": {
          "base_uri": "https://localhost:8080/"
        },
        "id": "GuIl80BnYySE",
        "outputId": "55f31589-2e13-4146-b552-0963af421f9c"
      },
      "outputs": [
        {
          "name": "stdout",
          "output_type": "stream",
          "text": [
            "torch.Size([25706, 3, 3, 1])\n"
          ]
        }
      ],
      "source": [
        "X_torch_WT_gene = torch.Tensor(X_torch_WT_gene)\n",
        "# Y_torch = torch.Tensor(Y)\n",
        "print (X_torch_WT_gene.shape)"
      ]
    },
    {
      "cell_type": "code",
      "execution_count": null,
      "metadata": {
        "colab": {
          "base_uri": "https://localhost:8080/"
        },
        "id": "GBRzsVUH1ZvH",
        "outputId": "4e416954-4f3f-417f-d977-56cc5d811eda"
      },
      "outputs": [
        {
          "name": "stderr",
          "output_type": "stream",
          "text": [
            "100%|██████████| 25706/25706 [07:59<00:00, 53.60it/s]\n"
          ]
        }
      ],
      "source": [
        "from tqdm import tqdm\n",
        "\n",
        "all_gene_names = filtered_all_lines_normalized[\"tracking_id\"]\n",
        "Y_group_indexes_S = ['S_60_1', 'S_60_2', 'S_60_3', 'S_60_4']\n",
        "Y_S = []\n",
        "\n",
        "for gene_name in tqdm(all_gene_names):\n",
        "    each_sample_S = []\n",
        "    for time_based_replicate_S in Y_group_indexes_S:\n",
        "\n",
        "        gene_count_S = filtered_all_lines_normalized[filtered_all_lines_normalized[\"tracking_id\"]==gene_name][time_based_replicate_S].item()\n",
        "\n",
        "        Y_S.append(gene_count_S)\n"
      ]
    },
    {
      "cell_type": "code",
      "execution_count": null,
      "metadata": {
        "colab": {
          "base_uri": "https://localhost:8080/"
        },
        "id": "4uDK4wiW5tVF",
        "outputId": "6b10b7a3-4ebb-47c3-ac16-f0537c246328"
      },
      "outputs": [
        {
          "name": "stdout",
          "output_type": "stream",
          "text": [
            "torch.Size([102824])\n"
          ]
        }
      ],
      "source": [
        "Y_torch = torch.Tensor(Y)\n",
        "print (Y_torch.shape)"
      ]
    },
    {
      "cell_type": "code",
      "execution_count": null,
      "metadata": {
        "id": "pOMrhfzPiSuB"
      },
      "outputs": [],
      "source": [
        "import torch\n",
        "\n",
        "# X_torch = torch.Tensor(X)\n",
        "# Y_torch = torch.Tensor(Y)\n",
        "# print (X_torch.shape)\n",
        "torch.save(X_torch_WT_gene, 'X_WT_gene.pt')\n",
        "# torch.save(Y_torch, 'Y.pt')"
      ]
    },
    {
      "cell_type": "code",
      "execution_count": null,
      "metadata": {
        "colab": {
          "base_uri": "https://localhost:8080/"
        },
        "id": "q3vQwu0qiSrL",
        "outputId": "8f7b26dd-1097-4bc4-943b-b6247bcd5058"
      },
      "outputs": [
        {
          "data": {
            "text/plain": [
              "torch.Size([102824, 1])"
            ]
          },
          "execution_count": 4,
          "metadata": {},
          "output_type": "execute_result"
        }
      ],
      "source": [
        "import torch\n",
        "X_torch_WT_gene = torch.load('X_WT_gene.pt')\n",
        "Y_torch_WT_gene = torch.load('Y_WT.pt')\n",
        "Y_torch_WT_gene= Y_torch_WT_gene.reshape(Y_torch_WT_gene.shape[0],1)\n",
        "Y_torch_WT_gene.shape"
      ]
    },
    {
      "cell_type": "code",
      "execution_count": null,
      "metadata": {
        "id": "V-0bI_L2-Qyz"
      },
      "outputs": [],
      "source": [
        "import torch.nn as nn\n",
        "# from nn.dropout import dropout\n",
        "X_re = X_torch_WT_gene.view(-1, 3, 1)\n",
        "# class LSTMModel(nn.Module):\n",
        "#     def __init__(self, input_dim, hidden_dim, num_layers, output_dim, drop_prob=0.2):\n",
        "#         super(LSTMModel, self).__init__()\n",
        "\n",
        "#         self.lstm = nn.LSTM(\n",
        "#             input_dim, hidden_dim, num_layers,\n",
        "#             batch_first=True, dropout=drop_prob\n",
        "#         )\n",
        "\n",
        "#         self.dropout = nn.Dropout(drop_prob)\n",
        "\n",
        "#         self.linear = nn.Linear(hidden_dim, output_dim)\n",
        "\n",
        "#     def forward(self, x):\n",
        "#         lstm_out, _ = self.lstm(x)\n",
        "\n",
        "#         out = self.dropout(lstm_out)\n",
        "#         out = out[:,-1,:] # taking the last time step\n",
        "\n",
        "#         out = self.linear(out)\n",
        "#         return out\n",
        "\n",
        "# model = LSTMModel(input_dim=1, hidden_dim=64, num_layers=2, output_dim=1, drop_prob=0.2)\n",
        "import torch.nn as nn\n",
        "\n",
        "class LSTMModel(nn.Module):\n",
        "    def __init__(self, input_dim, hidden_dim, num_layers, output_dim, drop_prob=0.3):\n",
        "        super(LSTMModel, self).__init__()\n",
        "\n",
        "        self.lstm = nn.LSTM(\n",
        "            input_dim, hidden_dim, num_layers,\n",
        "            batch_first=True, dropout=drop_prob\n",
        "        )\n",
        "\n",
        "        self.dropout = nn.Dropout(drop_prob)\n",
        "\n",
        "        self.linear = nn.Linear(hidden_dim, output_dim)\n",
        "        self.activation = nn.Softplus()\n",
        "\n",
        "    def forward(self, x):\n",
        "        lstm_out, _ = self.lstm(x)\n",
        "\n",
        "        out = self.dropout(lstm_out)\n",
        "        out = out[:,-1,:]\n",
        "\n",
        "        out = self.linear(out)\n",
        "\n",
        "        # Adding Tanh activation\n",
        "        out = self.activation(out)\n",
        "        return out\n",
        "\n",
        "model = LSTMModel(input_dim=X_torch_WT_gene.shape[3], hidden_dim=55,\n",
        "                  num_layers=2, output_dim=1, drop_prob=0.3)\n",
        "\n",
        "\n",
        "criterion = nn.MSELoss()\n",
        "optimizer = torch.optim.Adam(model.parameters(), lr=0.0075)\n",
        "Y_torch_WT = Y_torch_WT_gene[:77118]\n",
        "for epoch in range(50):\n",
        "  optimizer.zero_grad()\n",
        "\n",
        "  y_pred = model(X_re)\n",
        "\n",
        "  loss = criterion(y_pred, Y_torch_WT)\n",
        "  loss.backward()\n",
        "\n",
        "  optimizer.step()"
      ]
    },
    {
      "cell_type": "code",
      "execution_count": null,
      "metadata": {
        "colab": {
          "base_uri": "https://localhost:8080/",
          "height": 486
        },
        "id": "jolwfuDJ-Qwj",
        "outputId": "541da22b-04ca-42f9-d56d-13b77f07cc30"
      },
      "outputs": [
        {
          "name": "stdout",
          "output_type": "stream",
          "text": [
            "(77118, 1)\n"
          ]
        },
        {
          "data": {
            "text/plain": [
              "Text(0, 0.5, 'Predicted Y')"
            ]
          },
          "execution_count": 6,
          "metadata": {},
          "output_type": "execute_result"
        },
        {
          "data": {
            "image/png": "[encoded data removed]",
            "text/plain": [
              "<Figure size 640x480 with 1 Axes>"
            ]
          },
          "metadata": {},
          "output_type": "display_data"
        }
      ],
      "source": [
        "# Evaluate\n",
        "true_y = Y_torch_WT.detach().numpy()\n",
        "pred_y = model(X_re).detach().numpy()\n",
        "print(pred_y.shape)\n",
        "import matplotlib.pyplot as plt\n",
        "import matplotlib.pyplot as plt\n",
        "plt.scatter(true_y, pred_y)\n",
        "plt.xlabel('True Y')\n",
        "plt.ylabel('Predicted Y')"
      ]
    },
    {
      "cell_type": "code",
      "execution_count": null,
      "metadata": {
        "colab": {
          "base_uri": "https://localhost:8080/",
          "height": 449
        },
        "id": "3zfX-JsN-QuI",
        "outputId": "4fe9ced6-7d79-40b5-d2d2-5893763e4722"
      },
      "outputs": [
        {
          "data": {
            "image/png": "[encoded data removed]",
            "text/plain": [
              "<Figure size 640x480 with 1 Axes>"
            ]
          },
          "metadata": {},
          "output_type": "display_data"
        }
      ],
      "source": [
        "to_num = 100\n",
        "\n",
        "plt.plot(range(to_num), pred_y[:to_num], color=\"red\", label=\"Predicted\")\n",
        "plt.plot(range(to_num), true_y[:to_num], color=\"green\", label=\"Actual\")\n",
        "\n",
        "plt.xlabel(\"Sample Index\")\n",
        "plt.ylabel(\"Values\")\n",
        "plt.legend()\n",
        "plt.show()"
      ]
    },
    {
      "cell_type": "code",
      "execution_count": 18,
      "metadata": {
        "id": "7gcpGvk0-Qrg"
      },
      "outputs": [],
      "source": [
        "rmse_values = []\n",
        "for i in range(len(pred_y)):\n",
        "  rmse = np.sqrt(np.mean((pred_y[i] - true_y[i])**2))\n",
        "  rmse_values.append(rmse)\n",
        "\n",
        "# Create lists to store gene names and RMSE values\n",
        "gene_names = []\n",
        "rmse_list = []\n",
        "\n",
        "for i, gene_name in enumerate(all_gene_names):\n",
        "  gene_names.append(gene_name)\n",
        "  rmse_list.append(rmse_values[i])\n"
      ]
    },
    {
      "cell_type": "code",
      "execution_count": 19,
      "metadata": {
        "id": "nYV5JAPd-Qpb"
      },
      "outputs": [],
      "source": [
        "import csv\n",
        "\n",
        "gene_names_rmse = []\n",
        "\n",
        "for i, gene_name in enumerate(all_gene_names):\n",
        "  rmse = np.sqrt(np.mean((pred_y[i] - true_y[i])**2))\n",
        "  gene_rmse = (gene_name, rmse)\n",
        "  gene_names_rmse.append(gene_rmse)\n",
        "with open('gene_rmse_without_WT.csv', 'w') as f:\n",
        "  writer = csv.writer(f)\n",
        "  writer.writerow(['Gene Name', 'RMSE']) # Column headers\n",
        "  for row in gene_names_rmse:\n",
        "    writer.writerow(row) # Each row is a tuple"
      ]
    },
    {
      "cell_type": "code",
      "execution_count": null,
      "metadata": {
        "id": "4QwcU7zw-QnF"
      },
      "outputs": [],
      "source": []
    },
    {
      "cell_type": "code",
      "execution_count": null,
      "metadata": {
        "id": "9VaTFzDV-Qkw"
      },
      "outputs": [],
      "source": []
    },
    {
      "cell_type": "code",
      "execution_count": null,
      "metadata": {
        "id": "4Pwt3Q0J-Qh4"
      },
      "outputs": [],
      "source": []
    },
    {
      "cell_type": "code",
      "execution_count": null,
      "metadata": {
        "id": "2uUpMXN9-Qfj"
      },
      "outputs": [],
      "source": []
    },
    {
      "cell_type": "markdown",
      "metadata": {
        "id": "34bC82Md36-p"
      },
      "source": [
        "#RNN"
      ]
    },
    {
      "cell_type": "markdown",
      "metadata": {
        "id": "4MhypUUGsGxH"
      },
      "source": [
        "#Modified LSTM"
      ]
    },
    {
      "cell_type": "code",
      "execution_count": null,
      "metadata": {
        "id": "T3EM-LogFRfQ"
      },
      "outputs": [],
      "source": [
        "# import torch.nn as nn\n",
        "# from torch.autograd import Variable\n",
        "\n",
        "# class ImprovedLSTM(nn.Module):\n",
        "#     def __init__(self, input_size, hidden_size, num_layers, seq_length):\n",
        "#         super(ImprovedLSTM, self).__init__()\n",
        "#         self.num_layers = num_layers\n",
        "#         self.input_size = input_size\n",
        "#         self.hidden_size = hidden_size\n",
        "#         self.seq_length = seq_length\n",
        "\n",
        "#         self.lstm = nn.LSTM(input_size=input_size, hidden_size=hidden_size, num_layers=num_layers, batch_first=True)\n",
        "#         self.fc_1 = nn.Linear(hidden_size, 128)\n",
        "#         self.fc = nn.Linear(128, 1)  # Output dimension 1 for regression\n",
        "\n",
        "#         self.relu = nn.ReLU()\n",
        "\n",
        "#     def forward(self, x):\n",
        "#         # Reshape input to 3-D tensor (batch_size, seq_length, input_size)\n",
        "#         x = x.view(-1, self.seq_length, self.input_size)\n",
        "\n",
        "#         h_0 = Variable(torch.zeros(self.num_layers, x.size(0), self.hidden_size))\n",
        "#         c_0 = Variable(torch.zeros(self.num_layers, x.size(0), self.hidden_size))\n",
        "#         output, (hn, cn) = self.lstm(x, (h_0, c_0))\n",
        "#         hn = hn.view(-1, self.hidden_size)\n",
        "#         out = self.relu(hn)\n",
        "#         out = self.fc_1(out)\n",
        "#         out = self.fc(out)  # Removed final activation for regression\n",
        "#         return out\n"
      ]
    },
    {
      "cell_type": "code",
      "execution_count": null,
      "metadata": {
        "id": "1gYAKzvC9wBT"
      },
      "outputs": [],
      "source": [
        "import torch.nn as nn\n",
        "from torch.autograd import Variable\n",
        "class ImprovedLSTM(nn.Module):\n",
        "    def __init__(self, input_size, hidden_size, num_layers, seq_length):\n",
        "        super(ImprovedLSTM, self).__init__()\n",
        "\n",
        "        # Added L2 regularization\n",
        "        self.reg_lambda = 0.01\n",
        "\n",
        "        self.num_layers = num_layers\n",
        "        self.input_size = input_size\n",
        "        self.hidden_size = hidden_size\n",
        "        self.seq_length = seq_length\n",
        "\n",
        "        self.lstm = nn.LSTM(input_size=input_size, hidden_size=hidden_size, num_layers=num_layers, batch_first=True)\n",
        "\n",
        "        # Added dropout layer\n",
        "        self.dropout = nn.Dropout(p=0.3)\n",
        "\n",
        "        self.fc_1 = nn.Linear(hidden_size, 128)\n",
        "        self.fc = nn.Linear(128, 1)\n",
        "\n",
        "        self.relu = nn.ReLU()\n",
        "\n",
        "    def forward(self, x):\n",
        "        # Added dropout\n",
        "        x = self.dropout(x)\n",
        "        x = x.view(-1, self.seq_length, self.input_size)\n",
        "\n",
        "        h_0 = Variable(torch.zeros(self.num_layers, x.size(0), self.hidden_size))\n",
        "        c_0 = Variable(torch.zeros(self.num_layers, x.size(0), self.hidden_size))\n",
        "        output, (hn, cn) = self.lstm(x, (h_0, c_0))\n",
        "        hn = hn.view(-1, self.hidden_size)\n",
        "        out = self.relu(hn)\n",
        "        out = self.fc_1(out)\n",
        "        out = self.relu(out)\n",
        "        out = self.fc(out)\n",
        "        out = self.relu(out)  # Removed final activation for regression\n",
        "        return out\n"
      ]
    },
    {
      "cell_type": "code",
      "execution_count": null,
      "metadata": {
        "id": "Wsz8H4f_iSlu"
      },
      "outputs": [],
      "source": [
        "num_epochs = 100  # 1000 epochs\n",
        "learning_rate = 0.0001 # 0.001 lr\n",
        "\n",
        "input_size = X_torch_WT_gene.shape[3]  # number of features ==5\n",
        "hidden_size = 20  # number of features in hidden state\n",
        "num_layers = 1  # number of stacked lstm layers\n",
        "\n",
        "num_classes = 1  # number of output classes\n",
        "\n",
        "seq_length = X_torch.shape[1] #4\n"
      ]
    },
    {
      "cell_type": "code",
      "execution_count": null,
      "metadata": {
        "colab": {
          "base_uri": "https://localhost:8080/"
        },
        "id": "PXOcFOUoaCIR",
        "outputId": "98a70677-5134-4bd9-9f4e-c1147069b02c"
      },
      "outputs": [
        {
          "name": "stdout",
          "output_type": "stream",
          "text": [
            "1\n"
          ]
        }
      ],
      "source": [
        "print(input_size)"
      ]
    },
    {
      "cell_type": "code",
      "execution_count": null,
      "metadata": {
        "colab": {
          "base_uri": "https://localhost:8080/"
        },
        "id": "zK8Hu4XciSja",
        "outputId": "fb6bd61f-c9cd-41a3-fbee-35242985b260"
      },
      "outputs": [
        {
          "name": "stdout",
          "output_type": "stream",
          "text": [
            "ImprovedLSTM(\n",
            "  (lstm): LSTM(1, 20, batch_first=True)\n",
            "  (dropout): Dropout(p=0.3, inplace=False)\n",
            "  (fc_1): Linear(in_features=20, out_features=128, bias=True)\n",
            "  (fc): Linear(in_features=128, out_features=1, bias=True)\n",
            "  (relu): ReLU()\n",
            ")\n"
          ]
        }
      ],
      "source": [
        "from torch.optim.lr_scheduler import CosineAnnealingLR\n",
        "from torch.optim.lr_scheduler import ReduceLROnPlateau\n",
        "\n",
        "# Initialize the model with the appropriate arguments\n",
        "lstm1 = ImprovedLSTM(input_size, hidden_size, num_layers, seq_length) #our lstm class\n",
        "print(lstm1)\n",
        "\n",
        "criterion = nn.MSELoss()\n",
        "\n",
        "def loss_function(outputs, targets):\n",
        "    loss = criterion(outputs, targets)\n",
        "    l2_reg = 0\n",
        "\n",
        "    for param in model.parameters():\n",
        "        l2_reg += torch.norm(param)\n",
        "\n",
        "    return loss + self.reg_lambda * l2_reg  # mean-squared error for regression\n",
        "\n",
        "# Choose an optimizer (e.g., SGD or Adam)\n",
        "optimizer = torch.optim.SGD(lstm1.parameters(), lr=0.001, momentum=0.9)\n",
        "\n",
        "# Initialize the learning rate scheduler\n",
        "scheduler = ReduceLROnPlateau(optimizer, 'min', patience=5)"
      ]
    },
    {
      "cell_type": "markdown",
      "metadata": {
        "id": "DR8xRA-bLGC9"
      },
      "source": [
        "#Training Loop"
      ]
    },
    {
      "cell_type": "code",
      "execution_count": null,
      "metadata": {
        "colab": {
          "base_uri": "https://localhost:8080/"
        },
        "id": "97syFoZMY-tv",
        "outputId": "0e5f109c-2c8d-48f9-d768-f9d4d43559cb"
      },
      "outputs": [
        {
          "name": "stdout",
          "output_type": "stream",
          "text": [
            "torch.Size([25706, 4, 3, 1])\n"
          ]
        }
      ],
      "source": [
        "print(X_torch_WT_gene.shape)"
      ]
    },
    {
      "cell_type": "code",
      "execution_count": null,
      "metadata": {
        "colab": {
          "base_uri": "https://localhost:8080/"
        },
        "id": "NcEz0Votc8am",
        "outputId": "f98d2b74-4470-4da1-a311-920efb94ee02"
      },
      "outputs": [
        {
          "name": "stdout",
          "output_type": "stream",
          "text": [
            "torch.Size([25706, 3, 3, 1])\n",
            "torch.Size([102824, 1])\n"
          ]
        }
      ],
      "source": [
        "print(X_torch_WT_gene.shape)\n",
        "print(Y_torch_WT_gene.shape)"
      ]
    },
    {
      "cell_type": "code",
      "execution_count": null,
      "metadata": {
        "colab": {
          "base_uri": "https://localhost:8080/",
          "height": 743,
          "referenced_widgets": [
            "9bf1c9a1ab294b80b1888a2be5026b21",
            "cc711bcb811b41e58b91fe3125be2ce6",
            "b810f92eadd2472aa71fb5c9536b77ce",
            "f19d6796879e49679713926293f2ae2d",
            "4bfaa0c00cb249c5a04c24019c62337a",
            "38109004eb0b4c7493ced3427f8c668e",
            "33e3931e316c4f5caef8572097141847",
            "9265c47031024cc48f12d1d0bcc19824",
            "811501cb684748549d993bd90148b3d6",
            "21791b5a7f854400a22aefece6c84f94",
            "dbeade7ed7f54715809aadd6dc9bb705"
          ]
        },
        "id": "nBdH7vxuLFWK",
        "outputId": "d6ff088b-92c6-4449-8780-8cf3106f62b1"
      },
      "outputs": [
        {
          "data": {
            "application/vnd.jupyter.widget-view+json": {
              "model_id": "9bf1c9a1ab294b80b1888a2be5026b21",
              "version_major": 2,
              "version_minor": 0
            },
            "text/plain": [
              "  0%|          | 0/100 [00:00<?, ?it/s]"
            ]
          },
          "metadata": {},
          "output_type": "display_data"
        },
        {
          "name": "stdout",
          "output_type": "stream",
          "text": [
            "Epoch: 0, loss: 0.00386\n",
            "RMSE: 0.062163917117052506\n",
            "Epoch: 5, loss: 0.00343\n",
            "RMSE: 0.05859394272136783\n",
            "Epoch: 10, loss: 0.00263\n",
            "RMSE: 0.051265664181873075\n",
            "Epoch: 15, loss: 0.00180\n",
            "RMSE: 0.042436065432142435\n",
            "Epoch: 20, loss: 0.00113\n",
            "RMSE: 0.03360325919898499\n",
            "Epoch: 25, loss: 0.00066\n",
            "RMSE: 0.025695617294562514\n",
            "Epoch: 30, loss: 0.00037\n",
            "RMSE: 0.01923878869970452\n",
            "Epoch: 35, loss: 0.00021\n",
            "RMSE: 0.014489351623134025\n",
            "Epoch: 40, loss: 0.00013\n",
            "RMSE: 0.011481707107553734\n",
            "Epoch: 45, loss: 0.00010\n",
            "RMSE: 0.009969057923256011\n",
            "Epoch: 50, loss: 0.00009\n",
            "RMSE: 0.00943619402866429\n",
            "Epoch: 55, loss: 0.00009\n",
            "RMSE: 0.009357475330497286\n",
            "Epoch: 60, loss: 0.00009\n",
            "RMSE: 0.009409776462323188\n",
            "Epoch: 65, loss: 0.00009\n",
            "RMSE: 0.009418963022076978\n",
            "Epoch: 70, loss: 0.00009\n",
            "RMSE: 0.009418756381493785\n",
            "Epoch: 75, loss: 0.00009\n",
            "RMSE: 0.00941882165723328\n",
            "Epoch: 80, loss: 0.00009\n",
            "RMSE: 0.009418823202215718\n",
            "Epoch: 85, loss: 0.00009\n",
            "RMSE: 0.009418710804082022\n",
            "Epoch: 90, loss: 0.00009\n",
            "RMSE: 0.009418731275319675\n",
            "Epoch: 95, loss: 0.00009\n",
            "RMSE: 0.009418857964253544\n"
          ]
        }
      ],
      "source": [
        "from tqdm.notebook import tqdm\n",
        "\n",
        "Y_torch_S_gene = Y_torch_WT_gene[:77118]\n",
        "for epoch in tqdm(range(num_epochs)):\n",
        "    outputs = lstm1.forward(X_torch_WT_gene) #forward pass\n",
        "\n",
        "    optimizer.zero_grad() #caluclate the gradient, manually setting to 0\n",
        "    # obtain the loss function\n",
        "\n",
        "    # print (outputs.shape, Y_torch.shape)\n",
        "    loss = criterion(outputs, Y_torch_S_gene)\n",
        "\n",
        "    loss.backward() #calculates the loss of the loss function\n",
        "\n",
        "    optimizer.step() #improve from loss, i.e backprop\n",
        "    scheduler.step(loss)\n",
        "    with torch.no_grad():\n",
        "        if epoch % 5 == 0:\n",
        "            print(\"Epoch: %d, loss: %1.5f\" % (epoch, loss.item()))\n",
        "            print(\"RMSE:\", np.sqrt(loss.item()))"
      ]
    },
    {
      "cell_type": "code",
      "execution_count": null,
      "metadata": {
        "id": "V0gA4UHbbgT6"
      },
      "outputs": [],
      "source": [
        "# Import necessary libraries and functions\n",
        "import torch.optim as optim\n",
        "import torch.utils.data as data\n",
        "from scipy.stats import zscore\n",
        "\n",
        "# Define a function to calculate Z-scores for data\n",
        "def get_z_score(df):\n",
        "    mean = df.mean().mean()\n",
        "    std = df.stack().std()\n",
        "    return (df - mean) / std\n",
        "\n",
        "# Define a function to normalize data\n",
        "def normalize_data(df, exclude_cols=None):\n",
        "    all_cols = list(df.columns)\n",
        "    if exclude_cols:\n",
        "        for col in exclude_cols:\n",
        "            all_cols.remove(col)\n",
        "\n",
        "    df[all_cols] = get_z_score(df[all_cols])\n",
        "    min_ = df[all_cols].min().min()\n",
        "    max_ = df[all_cols].max().max()\n",
        "    df[all_cols] = (df[all_cols] - min_) / (max_ - min_)\n",
        "    return df\n",
        "\n",
        "# Define a function to normalize data along a specified axis\n",
        "def normalize_data_axis(df, axis=1):\n",
        "    MIN = df.min(axis)\n",
        "    MAX = df.max(axis)\n",
        "    return df.sub(MIN, 1 - axis).div(MAX - MIN, 1 - axis)\n",
        "\n",
        "# Load and preprocess your data using these functions\n",
        "filtered_all_lines_temp = filtered_all_lines[filtered_all_lines.columns[1:]]\n",
        "std = filtered_all_lines_temp.stack().std()\n",
        "mean = filtered_all_lines_temp.mean().mean()\n",
        "Min = filtered_all_lines_temp.min().min()\n",
        "Max = filtered_all_lines_temp.max().max()\n",
        "\n",
        "predicted_values = []\n",
        "\n",
        "with torch.no_grad():\n",
        "    predicted_values = lstm1.forward(X_torch_WT_gene)\n",
        "    predicted_values = predicted_values.numpy()\n",
        "\n",
        "predicted_values = predicted_values[:77118]\n",
        "\n",
        "# Normalize the predicted values\n",
        "normalized = predicted_values\n",
        "for i in range(len(normalized)):\n",
        "    normalized[i] = (normalized[i] - Min) / (Max - Min)\n",
        "\n",
        "# Example of plotting using matplotlib\n",
        "import matplotlib.pyplot as plt\n",
        "\n",
        "to_num = 100\n",
        "pred_pres = normalized[:to_num]\n",
        "x_coords = [i for i in range(to_num)]\n",
        "\n",
        "actuals = []\n",
        "\n"
      ]
    },
    {
      "cell_type": "code",
      "execution_count": null,
      "metadata": {
        "colab": {
          "base_uri": "https://localhost:8080/",
          "height": 538
        },
        "id": "Jaz_UqhREVHk",
        "outputId": "cd40d048-ef3d-4eda-db27-c5cd05591b34"
      },
      "outputs": [
        {
          "name": "stderr",
          "output_type": "stream",
          "text": [
            "/usr/local/lib/python3.10/dist-packages/numpy/core/shape_base.py:65: FutureWarning: The input object of type 'Tensor' is an array-like implementing one of the corresponding protocols (`__array__`, `__array_interface__` or `__array_struct__`); but not a sequence (or 0-D). In the future, this object will be coerced as if it was first converted using `np.array(obj)`. To retain the old behaviour, you have to either modify the type 'Tensor', or assign to an empty array created with `np.empty(correct_shape, dtype=object)`.\n",
            "  ary = asanyarray(ary)\n",
            "/usr/local/lib/python3.10/dist-packages/numpy/core/shape_base.py:65: VisibleDeprecationWarning: Creating an ndarray from ragged nested sequences (which is a list-or-tuple of lists-or-tuples-or ndarrays with different lengths or shapes) is deprecated. If you meant to do this, you must specify 'dtype=object' when creating the ndarray.\n",
            "  ary = asanyarray(ary)\n"
          ]
        },
        {
          "data": {
            "image/png": "[encoded data removed]",
            "text/plain": [
              "<Figure size 640x480 with 1 Axes>"
            ]
          },
          "metadata": {},
          "output_type": "display_data"
        }
      ],
      "source": [
        "for i in range(len(Y_torch_WT_gene)):\n",
        "    actuals.append(Y_torch_WT_gene[i])\n",
        "\n",
        "actuals = actuals[:to_num]\n",
        "\n",
        "plt.plot(x_coords, pred_pres, color=\"red\", label=\"Predicted\")\n",
        "plt.plot(x_coords, actuals, color=\"green\", label=\"Actual\")\n",
        "plt.xlabel(\"Sample Index\")\n",
        "plt.ylabel(\"Normalized Values\")\n",
        "plt.legend()\n",
        "plt.show()"
      ]
    },
    {
      "cell_type": "code",
      "execution_count": null,
      "metadata": {
        "id": "a_9AzbFKNB2N"
      },
      "outputs": [],
      "source": [
        "# Calculate RMSE for each gene\n",
        "rmse_values = []\n",
        "for i in range(len(predicted_values)):\n",
        "  rmse = np.sqrt(np.mean((predicted_values[i] - Y_torch_WT_gene[i].numpy())**2))\n",
        "  rmse_values.append(rmse)\n",
        "\n",
        "# Create lists to store gene names and RMSE values\n",
        "gene_names = []\n",
        "rmse_list = []\n",
        "\n",
        "for i, gene_name in enumerate(all_gene_names):\n",
        "  gene_names.append(gene_name)\n",
        "  rmse_list.append(rmse_values[i])\n",
        "\n",
        "# Now gene_names and rmse_list contain corresponding names and RMSEs\n"
      ]
    },
    {
      "cell_type": "code",
      "execution_count": null,
      "metadata": {
        "colab": {
          "base_uri": "https://localhost:8080/"
        },
        "id": "gyFZywYYOkPT",
        "outputId": "09e03372-4761-4efd-a1cc-d4b61a927f5c"
      },
      "outputs": [
        {
          "name": "stdout",
          "output_type": "stream",
          "text": [
            "25706\n"
          ]
        }
      ],
      "source": [
        "print(len(rmse_list))"
      ]
    },
    {
      "cell_type": "code",
      "execution_count": null,
      "metadata": {
        "id": "p9gBlLueP0H8"
      },
      "outputs": [],
      "source": [
        "gene_names_rmse = []\n",
        "\n",
        "for i, gene_name in enumerate(all_gene_names):\n",
        "  rmse = np.sqrt(np.mean((predicted_values[i] - Y_torch_WT_gene[i].numpy())**2))\n",
        "  gene_rmse = (gene_name, rmse)\n",
        "  gene_names_rmse.append(gene_rmse)\n",
        "\n",
        "# gene_names_rmse is now a list of tuples (gene_name, rmse)"
      ]
    },
    {
      "cell_type": "code",
      "execution_count": null,
      "metadata": {
        "id": "zVQersJSP2YO"
      },
      "outputs": [],
      "source": [
        "import csv\n",
        "\n",
        "gene_names_rmse = []\n",
        "\n",
        "for i, gene_name in enumerate(all_gene_names):\n",
        "  rmse = np.sqrt(np.mean((predicted_values[i] - Y_torch[i].numpy())**2))\n",
        "  gene_rmse = (gene_name, rmse)\n",
        "  gene_names_rmse.append(gene_rmse)\n",
        "\n",
        "with open('gene_wo_elec_WT.csv', 'w') as f:\n",
        "  writer = csv.writer(f)\n",
        "  writer.writerow(['Gene Name', 'RMSE']) # Column headers\n",
        "  for row in gene_names_rmse:\n",
        "    writer.writerow(row) # Each row is a tuple"
      ]
    },
    {
      "cell_type": "code",
      "execution_count": null,
      "metadata": {
        "colab": {
          "base_uri": "https://localhost:8080/",
          "height": 252
        },
        "id": "9ZHF5Vg7iSeb",
        "outputId": "bf1c4535-6846-4796-bd40-d4b772c2d595"
      },
      "outputs": [
        {
          "ename": "IndexError",
          "evalue": "ignored",
          "output_type": "error",
          "traceback": [
            "\u001b[0;31m---------------------------------------------------------------------------\u001b[0m",
            "\u001b[0;31mIndexError\u001b[0m                                Traceback (most recent call last)",
            "\u001b[0;32m<ipython-input-31-252eb4dd5e97>\u001b[0m in \u001b[0;36m<cell line: 6>\u001b[0;34m()\u001b[0m\n\u001b[1;32m      4\u001b[0m \u001b[0;31m# %matplotlib inline\u001b[0m\u001b[0;34m\u001b[0m\u001b[0;34m\u001b[0m\u001b[0m\n\u001b[1;32m      5\u001b[0m \u001b[0;34m\u001b[0m\u001b[0m\n\u001b[0;32m----> 6\u001b[0;31m \u001b[0msample\u001b[0m \u001b[0;34m=\u001b[0m \u001b[0mX\u001b[0m\u001b[0;34m[\u001b[0m\u001b[0;36m1\u001b[0m\u001b[0;34m]\u001b[0m\u001b[0;34m\u001b[0m\u001b[0;34m\u001b[0m\u001b[0m\n\u001b[0m\u001b[1;32m      7\u001b[0m \u001b[0mpredicted_values\u001b[0m \u001b[0;34m=\u001b[0m \u001b[0;34m[\u001b[0m\u001b[0;34m]\u001b[0m\u001b[0;34m\u001b[0m\u001b[0;34m\u001b[0m\u001b[0m\n\u001b[1;32m      8\u001b[0m \u001b[0;34m\u001b[0m\u001b[0m\n",
            "\u001b[0;31mIndexError\u001b[0m: list index out of range"
          ]
        }
      ],
      "source": [
        "# test to check values, with input data only\n",
        "\n",
        "import matplotlib.pyplot as plt\n",
        "# %matplotlib inline\n",
        "\n",
        "sample = X[1]\n",
        "predicted_values = []\n",
        "\n",
        "with torch.no_grad():\n",
        "    # for sample in X:\n",
        "    predicted_values = lstm1.forward(torch.Tensor(X))\n",
        "    predicted_values = predicted_values.numpy()\n",
        "        # .data.numpy()\n",
        "        # predicted_values.append(predicted_values)\n",
        "# predicted_values= predicted_values.reshape(len(Y),).tolist()\n",
        "print (len(predicted_values))"
      ]
    },
    {
      "cell_type": "code",
      "execution_count": null,
      "metadata": {
        "colab": {
          "base_uri": "https://localhost:8080/",
          "height": 448
        },
        "id": "964DUXehiScE",
        "outputId": "90c9acf5-26c6-4e32-89bf-97fe617bef8e"
      },
      "outputs": [
        {
          "data": {
            "text/plain": [
              "[<matplotlib.lines.Line2D at 0x7bb7c7b50d00>]"
            ]
          },
          "execution_count": 32,
          "metadata": {},
          "output_type": "execute_result"
        },
        {
          "data": {
            "image/png": "[encoded data removed]",
            "text/plain": [
              "<Figure size 640x480 with 1 Axes>"
            ]
          },
          "metadata": {},
          "output_type": "display_data"
        }
      ],
      "source": [
        "to_num = 100\n",
        "\n",
        "pred_pres = predicted_values[:to_num]\n",
        "x_coords = [i for i in range(to_num)]\n",
        "actual = Y[:to_num]\n",
        "\n",
        "plt.plot(x_coords, pred_pres, 'o', color = \"red\")\n",
        "plt.plot(x_coords, actual , 'o', color = \"green\")\n",
        "# plt.plot(len(Y), Y)\n"
      ]
    },
    {
      "cell_type": "code",
      "execution_count": null,
      "metadata": {
        "id": "njfW0Ac25B1Y"
      },
      "outputs": [],
      "source": []
    },
    {
      "cell_type": "code",
      "execution_count": null,
      "metadata": {
        "id": "PKJcRad25Bx3"
      },
      "outputs": [],
      "source": []
    },
    {
      "cell_type": "code",
      "execution_count": null,
      "metadata": {
        "id": "2Tb88gc05Bs1"
      },
      "outputs": [],
      "source": []
    },
    {
      "cell_type": "code",
      "execution_count": null,
      "metadata": {
        "id": "j2IF8G795Bjn"
      },
      "outputs": [],
      "source": []
    },
    {
      "cell_type": "code",
      "execution_count": null,
      "metadata": {
        "id": "zgLoB7AkTPl9"
      },
      "outputs": [],
      "source": []
    },
    {
      "cell_type": "code",
      "execution_count": null,
      "metadata": {
        "id": "IWpLGuB_TPfl"
      },
      "outputs": [],
      "source": []
    },
    {
      "cell_type": "code",
      "execution_count": null,
      "metadata": {
        "id": "bFpd5kn1TPdY"
      },
      "outputs": [],
      "source": []
    },
    {
      "cell_type": "code",
      "execution_count": null,
      "metadata": {
        "id": "Dbh-DdLlTPaw"
      },
      "outputs": [],
      "source": []
    },
    {
      "cell_type": "code",
      "execution_count": null,
      "metadata": {
        "id": "cK-hO4uxTPYR"
      },
      "outputs": [],
      "source": []
    },
    {
      "cell_type": "code",
      "execution_count": null,
      "metadata": {
        "id": "QM1VhObmTPVv"
      },
      "outputs": [],
      "source": []
    },
    {
      "cell_type": "code",
      "execution_count": null,
      "metadata": {
        "id": "ib1sPgHuTPTM"
      },
      "outputs": [],
      "source": []
    },
    {
      "cell_type": "code",
      "execution_count": null,
      "metadata": {
        "id": "KExRxsN1TPQa"
      },
      "outputs": [],
      "source": []
    },
    {
      "cell_type": "code",
      "execution_count": null,
      "metadata": {
        "id": "4HEJSvF_iSOQ"
      },
      "outputs": [],
      "source": []
    },
    {
      "cell_type": "code",
      "execution_count": null,
      "metadata": {
        "id": "4t2tvwgeiSLp"
      },
      "outputs": [],
      "source": []
    },
    {
      "cell_type": "code",
      "execution_count": null,
      "metadata": {
        "id": "kQefHHCIiSGL"
      },
      "outputs": [],
      "source": []
    },
    {
      "cell_type": "code",
      "execution_count": null,
      "metadata": {
        "id": "vaRHc0ETiSDn"
      },
      "outputs": [],
      "source": []
    }
  ],
  "metadata": {
    "colab": {
      "provenance": []
    },
    "kernelspec": {
      "display_name": "Python 3",
      "name": "python3"
    },
    "language_info": {
      "name": "python"
    },
    "widgets": {
      "application/vnd.jupyter.widget-state+json": {
        "21791b5a7f854400a22aefece6c84f94": {
          "model_module": "@jupyter-widgets/base",
          "model_module_version": "1.2.0",
          "model_name": "LayoutModel",
          "state": {
            "_model_module": "@jupyter-widgets/base",
            "_model_module_version": "1.2.0",
            "_model_name": "LayoutModel",
            "_view_count": null,
            "_view_module": "@jupyter-widgets/base",
            "_view_module_version": "1.2.0",
            "_view_name": "LayoutView",
            "align_content": null,
            "align_items": null,
            "align_self": null,
            "border": null,
            "bottom": null,
            "display": null,
            "flex": null,
            "flex_flow": null,
            "grid_area": null,
            "grid_auto_columns": null,
            "grid_auto_flow": null,
            "grid_auto_rows": null,
            "grid_column": null,
            "grid_gap": null,
            "grid_row": null,
            "grid_template_areas": null,
            "grid_template_columns": null,
            "grid_template_rows": null,
            "height": null,
            "justify_content": null,
            "justify_items": null,
            "left": null,
            "margin": null,
            "max_height": null,
            "max_width": null,
            "min_height": null,
            "min_width": null,
            "object_fit": null,
            "object_position": null,
            "order": null,
            "overflow": null,
            "overflow_x": null,
            "overflow_y": null,
            "padding": null,
            "right": null,
            "top": null,
            "visibility": null,
            "width": null
          }
        },
        "33e3931e316c4f5caef8572097141847": {
          "model_module": "@jupyter-widgets/controls",
          "model_module_version": "1.5.0",
          "model_name": "DescriptionStyleModel",
          "state": {
            "_model_module": "@jupyter-widgets/controls",
            "_model_module_version": "1.5.0",
            "_model_name": "DescriptionStyleModel",
            "_view_count": null,
            "_view_module": "@jupyter-widgets/base",
            "_view_module_version": "1.2.0",
            "_view_name": "StyleView",
            "description_width": ""
          }
        },
        "38109004eb0b4c7493ced3427f8c668e": {
          "model_module": "@jupyter-widgets/base",
          "model_module_version": "1.2.0",
          "model_name": "LayoutModel",
          "state": {
            "_model_module": "@jupyter-widgets/base",
            "_model_module_version": "1.2.0",
            "_model_name": "LayoutModel",
            "_view_count": null,
            "_view_module": "@jupyter-widgets/base",
            "_view_module_version": "1.2.0",
            "_view_name": "LayoutView",
            "align_content": null,
            "align_items": null,
            "align_self": null,
            "border": null,
            "bottom": null,
            "display": null,
            "flex": null,
            "flex_flow": null,
            "grid_area": null,
            "grid_auto_columns": null,
            "grid_auto_flow": null,
            "grid_auto_rows": null,
            "grid_column": null,
            "grid_gap": null,
            "grid_row": null,
            "grid_template_areas": null,
            "grid_template_columns": null,
            "grid_template_rows": null,
            "height": null,
            "justify_content": null,
            "justify_items": null,
            "left": null,
            "margin": null,
            "max_height": null,
            "max_width": null,
            "min_height": null,
            "min_width": null,
            "object_fit": null,
            "object_position": null,
            "order": null,
            "overflow": null,
            "overflow_x": null,
            "overflow_y": null,
            "padding": null,
            "right": null,
            "top": null,
            "visibility": null,
            "width": null
          }
        },
        "4bfaa0c00cb249c5a04c24019c62337a": {
          "model_module": "@jupyter-widgets/base",
          "model_module_version": "1.2.0",
          "model_name": "LayoutModel",
          "state": {
            "_model_module": "@jupyter-widgets/base",
            "_model_module_version": "1.2.0",
            "_model_name": "LayoutModel",
            "_view_count": null,
            "_view_module": "@jupyter-widgets/base",
            "_view_module_version": "1.2.0",
            "_view_name": "LayoutView",
            "align_content": null,
            "align_items": null,
            "align_self": null,
            "border": null,
            "bottom": null,
            "display": null,
            "flex": null,
            "flex_flow": null,
            "grid_area": null,
            "grid_auto_columns": null,
            "grid_auto_flow": null,
            "grid_auto_rows": null,
            "grid_column": null,
            "grid_gap": null,
            "grid_row": null,
            "grid_template_areas": null,
            "grid_template_columns": null,
            "grid_template_rows": null,
            "height": null,
            "justify_content": null,
            "justify_items": null,
            "left": null,
            "margin": null,
            "max_height": null,
            "max_width": null,
            "min_height": null,
            "min_width": null,
            "object_fit": null,
            "object_position": null,
            "order": null,
            "overflow": null,
            "overflow_x": null,
            "overflow_y": null,
            "padding": null,
            "right": null,
            "top": null,
            "visibility": null,
            "width": null
          }
        },
        "811501cb684748549d993bd90148b3d6": {
          "model_module": "@jupyter-widgets/controls",
          "model_module_version": "1.5.0",
          "model_name": "ProgressStyleModel",
          "state": {
            "_model_module": "@jupyter-widgets/controls",
            "_model_module_version": "1.5.0",
            "_model_name": "ProgressStyleModel",
            "_view_count": null,
            "_view_module": "@jupyter-widgets/base",
            "_view_module_version": "1.2.0",
            "_view_name": "StyleView",
            "bar_color": null,
            "description_width": ""
          }
        },
        "9265c47031024cc48f12d1d0bcc19824": {
          "model_module": "@jupyter-widgets/base",
          "model_module_version": "1.2.0",
          "model_name": "LayoutModel",
          "state": {
            "_model_module": "@jupyter-widgets/base",
            "_model_module_version": "1.2.0",
            "_model_name": "LayoutModel",
            "_view_count": null,
            "_view_module": "@jupyter-widgets/base",
            "_view_module_version": "1.2.0",
            "_view_name": "LayoutView",
            "align_content": null,
            "align_items": null,
            "align_self": null,
            "border": null,
            "bottom": null,
            "display": null,
            "flex": null,
            "flex_flow": null,
            "grid_area": null,
            "grid_auto_columns": null,
            "grid_auto_flow": null,
            "grid_auto_rows": null,
            "grid_column": null,
            "grid_gap": null,
            "grid_row": null,
            "grid_template_areas": null,
            "grid_template_columns": null,
            "grid_template_rows": null,
            "height": null,
            "justify_content": null,
            "justify_items": null,
            "left": null,
            "margin": null,
            "max_height": null,
            "max_width": null,
            "min_height": null,
            "min_width": null,
            "object_fit": null,
            "object_position": null,
            "order": null,
            "overflow": null,
            "overflow_x": null,
            "overflow_y": null,
            "padding": null,
            "right": null,
            "top": null,
            "visibility": null,
            "width": null
          }
        },
        "9bf1c9a1ab294b80b1888a2be5026b21": {
          "model_module": "@jupyter-widgets/controls",
          "model_module_version": "1.5.0",
          "model_name": "HBoxModel",
          "state": {
            "_dom_classes": [],
            "_model_module": "@jupyter-widgets/controls",
            "_model_module_version": "1.5.0",
            "_model_name": "HBoxModel",
            "_view_count": null,
            "_view_module": "@jupyter-widgets/controls",
            "_view_module_version": "1.5.0",
            "_view_name": "HBoxView",
            "box_style": "",
            "children": [
              "IPY_MODEL_cc711bcb811b41e58b91fe3125be2ce6",
              "IPY_MODEL_b810f92eadd2472aa71fb5c9536b77ce",
              "IPY_MODEL_f19d6796879e49679713926293f2ae2d"
            ],
            "layout": "IPY_MODEL_4bfaa0c00cb249c5a04c24019c62337a"
          }
        },
        "b810f92eadd2472aa71fb5c9536b77ce": {
          "model_module": "@jupyter-widgets/controls",
          "model_module_version": "1.5.0",
          "model_name": "FloatProgressModel",
          "state": {
            "_dom_classes": [],
            "_model_module": "@jupyter-widgets/controls",
            "_model_module_version": "1.5.0",
            "_model_name": "FloatProgressModel",
            "_view_count": null,
            "_view_module": "@jupyter-widgets/controls",
            "_view_module_version": "1.5.0",
            "_view_name": "ProgressView",
            "bar_style": "success",
            "description": "",
            "description_tooltip": null,
            "layout": "IPY_MODEL_9265c47031024cc48f12d1d0bcc19824",
            "max": 100,
            "min": 0,
            "orientation": "horizontal",
            "style": "IPY_MODEL_811501cb684748549d993bd90148b3d6",
            "value": 100
          }
        },
        "cc711bcb811b41e58b91fe3125be2ce6": {
          "model_module": "@jupyter-widgets/controls",
          "model_module_version": "1.5.0",
          "model_name": "HTMLModel",
          "state": {
            "_dom_classes": [],
            "_model_module": "@jupyter-widgets/controls",
            "_model_module_version": "1.5.0",
            "_model_name": "HTMLModel",
            "_view_count": null,
            "_view_module": "@jupyter-widgets/controls",
            "_view_module_version": "1.5.0",
            "_view_name": "HTMLView",
            "description": "",
            "description_tooltip": null,
            "layout": "IPY_MODEL_38109004eb0b4c7493ced3427f8c668e",
            "placeholder": "​",
            "style": "IPY_MODEL_33e3931e316c4f5caef8572097141847",
            "value": "100%"
          }
        },
        "dbeade7ed7f54715809aadd6dc9bb705": {
          "model_module": "@jupyter-widgets/controls",
          "model_module_version": "1.5.0",
          "model_name": "DescriptionStyleModel",
          "state": {
            "_model_module": "@jupyter-widgets/controls",
            "_model_module_version": "1.5.0",
            "_model_name": "DescriptionStyleModel",
            "_view_count": null,
            "_view_module": "@jupyter-widgets/base",
            "_view_module_version": "1.2.0",
            "_view_name": "StyleView",
            "description_width": ""
          }
        },
        "f19d6796879e49679713926293f2ae2d": {
          "model_module": "@jupyter-widgets/controls",
          "model_module_version": "1.5.0",
          "model_name": "HTMLModel",
          "state": {
            "_dom_classes": [],
            "_model_module": "@jupyter-widgets/controls",
            "_model_module_version": "1.5.0",
            "_model_name": "HTMLModel",
            "_view_count": null,
            "_view_module": "@jupyter-widgets/controls",
            "_view_module_version": "1.5.0",
            "_view_name": "HTMLView",
            "description": "",
            "description_tooltip": null,
            "layout": "IPY_MODEL_21791b5a7f854400a22aefece6c84f94",
            "placeholder": "​",
            "style": "IPY_MODEL_dbeade7ed7f54715809aadd6dc9bb705",
            "value": " 100/100 [01:58&lt;00:00,  1.13s/it]"
          }
        }
      }
    }
  },
  "nbformat": 4,
  "nbformat_minor": 0
}